{
 "cells": [
  {
   "cell_type": "markdown",
   "metadata": {},
   "source": [
    "# Lecture 5: Supervised Models, [Random Forest Classifier](https://scikit-learn.org/stable/modules/generated/sklearn.ensemble.RandomForestClassifier.html)\n",
    "* How to train a random forest classifier with `sklearn`."
   ]
  },
  {
   "cell_type": "markdown",
   "metadata": {},
   "source": [
    "## Imports"
   ]
  },
  {
   "cell_type": "code",
   "execution_count": 1,
   "metadata": {},
   "outputs": [],
   "source": [
    "import numpy as np\n",
    "\n",
    "import matplotlib.pyplot as plt\n",
    "%matplotlib inline\n",
    "import seaborn as sns; sns.set()"
   ]
  },
  {
   "cell_type": "markdown",
   "metadata": {},
   "source": [
    "## Data\n",
    "\n",
    "We use the well-known [handwritten digit recognition](https://scikit-learn.org/stable/modules/generated/sklearn.datasets.load_digits.html) data."
   ]
  },
  {
   "cell_type": "code",
   "execution_count": 2,
   "metadata": {},
   "outputs": [],
   "source": [
    "from sklearn.datasets import load_digits\n",
    "\n",
    "data = load_digits()"
   ]
  },
  {
   "cell_type": "markdown",
   "metadata": {},
   "source": [
    "Let's print some examples:"
   ]
  },
  {
   "cell_type": "code",
   "execution_count": 3,
   "metadata": {},
   "outputs": [
    {
     "data": {
      "image/png": "[encoded data removed]",
      "text/plain": [
       "<Figure size 432x432 with 64 Axes>"
      ]
     },
     "metadata": {},
     "output_type": "display_data"
    }
   ],
   "source": [
    "# from https://jakevdp.github.io/PythonDataScienceHandbook/05.08-random-forests.html#Ensembles-of-Estimators:-Random-Forests\n",
    "\n",
    "# set up the figure\n",
    "fig = plt.figure(figsize=(6, 6))  # figure size in inches\n",
    "fig.subplots_adjust(left=0, right=1, bottom=0, top=1, hspace=0.05, wspace=0.05)\n",
    "\n",
    "# plot the digits: each image is 8x8 pixels\n",
    "for i in range(64):\n",
    "    ax = fig.add_subplot(8, 8, i + 1, xticks=[], yticks=[])\n",
    "    ax.imshow(data.images[i], cmap=plt.cm.binary, interpolation='nearest')\n",
    "    \n",
    "    # label the image with the target value\n",
    "    ax.text(0, 7, str(data.target[i]))"
   ]
  },
  {
   "cell_type": "markdown",
   "metadata": {},
   "source": [
    "Each image was pre-processed into a 8×8 pixel image, represented as a 64-wide integer array. Each integer $\\in [0,16)$. The larger the number, the darker the pixel."
   ]
  },
  {
   "cell_type": "code",
   "execution_count": 4,
   "metadata": {},
   "outputs": [
    {
     "data": {
      "text/plain": [
       "array([ 0.,  0.,  5., 13.,  9.,  1.,  0.,  0.,  0.,  0., 13., 15., 10.,\n",
       "       15.,  5.,  0.,  0.,  3., 15.,  2.,  0., 11.,  8.,  0.,  0.,  4.,\n",
       "       12.,  0.,  0.,  8.,  8.,  0.,  0.,  5.,  8.,  0.,  0.,  9.,  8.,\n",
       "        0.,  0.,  4., 11.,  0.,  1., 12.,  7.,  0.,  0.,  2., 14.,  5.,\n",
       "       10., 12.,  0.,  0.,  0.,  0.,  6., 13., 10.,  0.,  0.,  0.])"
      ]
     },
     "execution_count": 4,
     "metadata": {},
     "output_type": "execute_result"
    }
   ],
   "source": [
    "data.data[0]"
   ]
  },
  {
   "cell_type": "markdown",
   "metadata": {},
   "source": [
    "#### Training & Test Data"
   ]
  },
  {
   "cell_type": "code",
   "execution_count": 5,
   "metadata": {},
   "outputs": [
    {
     "name": "stdout",
     "output_type": "stream",
     "text": [
      "   Train   Test   Total\n",
      "X: 1257  + 540  = 1797\n",
      "y: 1257  + 540  = 1797\n"
     ]
    }
   ],
   "source": [
    "from sklearn.model_selection import train_test_split\n",
    "\n",
    "X_train, X_test, y_train, y_test = train_test_split(data.data, data.target,\n",
    "                                                    random_state=2956,\n",
    "                                                    train_size=0.7)\n",
    "\n",
    "print(f'   Train   Test   Total')\n",
    "print(f'X: {X_train.shape[0]}  + {X_test.shape[0]}  = {data.data.shape[0]}')\n",
    "print(f'y: {y_train.shape[0]}  + {y_test.shape[0]}  = {data.target.shape[0]}')"
   ]
  },
  {
   "cell_type": "markdown",
   "metadata": {},
   "source": [
    "## Forest Classifier"
   ]
  },
  {
   "cell_type": "markdown",
   "metadata": {},
   "source": [
    "### Steps 1-4\n",
    "We follow the `sklearn` training process as seen on the slides.\n",
    "\n",
    "We use [`sklearn.ensemble.RandomForestClassifier`](https://scikit-learn.org/stable/modules/generated/sklearn.ensemble.RandomForestClassifier.html). The key hyperparameters are:\n",
    "* `max_features`: the random number of features to keep in each split; the default is `'auto'`, which is the same as `sqrt(n_features)`, i.e. $\\sqrt{n_{features}}$\n",
    "  \n",
    "  (Note that for [`RandomForestRegressor`s](https://scikit-learn.org/stable/modules/generated/sklearn.ensemble.RandomForestRegressor.html), `max_features='auto'` $\\Leftrightarrow$ `max_features=n_features`.)\n",
    "* `n_estimators`: the number of trees; the default is `100`, which is a good starting point\n",
    "* Don't limit individual trees (e.g., pruning, `max_depth`, `min_samples_split`)"
   ]
  },
  {
   "cell_type": "code",
   "execution_count": 6,
   "metadata": {},
   "outputs": [
    {
     "data": {
      "text/plain": [
       "RandomForestClassifier(bootstrap=True, ccp_alpha=0.0, class_weight=None,\n",
       "                       criterion='gini', max_depth=None, max_features='auto',\n",
       "                       max_leaf_nodes=None, max_samples=None,\n",
       "                       min_impurity_decrease=0.0, min_impurity_split=None,\n",
       "                       min_samples_leaf=1, min_samples_split=2,\n",
       "                       min_weight_fraction_leaf=0.0, n_estimators=100,\n",
       "                       n_jobs=None, oob_score=False, random_state=None,\n",
       "                       verbose=0, warm_start=False)"
      ]
     },
     "execution_count": 6,
     "metadata": {},
     "output_type": "execute_result"
    }
   ],
   "source": [
    "from sklearn.ensemble import RandomForestClassifier\n",
    "\n",
    "# choose model & hyperparameters\n",
    "model = RandomForestClassifier()\n",
    "\n",
    "# fit\n",
    "model.fit(X_train, y_train)"
   ]
  },
  {
   "cell_type": "markdown",
   "metadata": {},
   "source": [
    "The model works pretty well out of the box:"
   ]
  },
  {
   "cell_type": "code",
   "execution_count": 7,
   "metadata": {
    "scrolled": true
   },
   "outputs": [
    {
     "data": {
      "text/plain": [
       "0.9685185185185186"
      ]
     },
     "execution_count": 7,
     "metadata": {},
     "output_type": "execute_result"
    }
   ],
   "source": [
    "model.score(X_test, y_test)"
   ]
  },
  {
   "cell_type": "code",
   "execution_count": 8,
   "metadata": {},
   "outputs": [
    {
     "data": {
      "image/png": "[encoded data removed]",
      "text/plain": [
       "<Figure size 432x288 with 1 Axes>"
      ]
     },
     "metadata": {},
     "output_type": "display_data"
    }
   ],
   "source": [
    "from sklearn.metrics import confusion_matrix\n",
    "\n",
    "y_fit = model.predict(X_test)\n",
    "cm = confusion_matrix(y_test, y_fit)\n",
    "sns.heatmap(cm.T, square=True, annot=True, fmt='d', cbar=False)\n",
    "plt.xlabel('true label')\n",
    "plt.ylabel('predicted label');"
   ]
  },
  {
   "cell_type": "markdown",
   "metadata": {},
   "source": [
    "### Out-of-bag (OOB) Score\n",
    "\n",
    "By bootstrapping, each bagged tree effectively only makes use of around $2/3$ of observations. The remaining observations are called *out-of-bag* observations. Like in cross validation, we can use each tree in which an observation was out-of-bag to estimate an out-of-sample prediction for that observation.\n",
    "\n",
    "The advantage is that, when the number of trees is sufficiently large, the OOB score is equivalent to leave-one-out CV.  But instead of the computationally expensive LOO-CV, the OOB score is much easier to calculate.\n",
    "\n",
    "To use the OOB score, we need to set `oob_score=True` when creating the model:"
   ]
  },
  {
   "cell_type": "code",
   "execution_count": 9,
   "metadata": {},
   "outputs": [
    {
     "data": {
      "text/plain": [
       "RandomForestClassifier(bootstrap=True, ccp_alpha=0.0, class_weight=None,\n",
       "                       criterion='gini', max_depth=None, max_features='auto',\n",
       "                       max_leaf_nodes=None, max_samples=None,\n",
       "                       min_impurity_decrease=0.0, min_impurity_split=None,\n",
       "                       min_samples_leaf=1, min_samples_split=2,\n",
       "                       min_weight_fraction_leaf=0.0, n_estimators=100,\n",
       "                       n_jobs=None, oob_score=True, random_state=None,\n",
       "                       verbose=0, warm_start=False)"
      ]
     },
     "execution_count": 9,
     "metadata": {},
     "output_type": "execute_result"
    }
   ],
   "source": [
    "model = RandomForestClassifier(oob_score=True)\n",
    "model.fit(X_train, y_train)"
   ]
  },
  {
   "cell_type": "markdown",
   "metadata": {},
   "source": [
    "The OOB score is very close to the test score ..."
   ]
  },
  {
   "cell_type": "code",
   "execution_count": 10,
   "metadata": {},
   "outputs": [
    {
     "data": {
      "text/plain": [
       "0.9681782020684169"
      ]
     },
     "execution_count": 10,
     "metadata": {},
     "output_type": "execute_result"
    }
   ],
   "source": [
    "model.oob_score_"
   ]
  },
  {
   "cell_type": "code",
   "execution_count": 11,
   "metadata": {},
   "outputs": [
    {
     "data": {
      "text/plain": [
       "0.9777777777777777"
      ]
     },
     "execution_count": 11,
     "metadata": {},
     "output_type": "execute_result"
    }
   ],
   "source": [
    "model.score(X_test, y_test)"
   ]
  },
  {
   "cell_type": "markdown",
   "metadata": {},
   "source": [
    "... as well as to a 5-CV:"
   ]
  },
  {
   "cell_type": "code",
   "execution_count": 12,
   "metadata": {},
   "outputs": [
    {
     "data": {
      "text/plain": [
       "0.9689748940744958"
      ]
     },
     "execution_count": 12,
     "metadata": {},
     "output_type": "execute_result"
    }
   ],
   "source": [
    "from sklearn.model_selection import cross_val_score\n",
    "\n",
    "cross_val_score(model, X_train, y_train, cv=5).mean()"
   ]
  },
  {
   "cell_type": "markdown",
   "metadata": {},
   "source": [
    "### The Number of Trees\n",
    "\n",
    "We can see that already with a small number of trees, the out-of-bag and CV performance is very good, and there is no material improvement after 500 trees. We can also see that we need a certain number of trees for reliable OOB scores."
   ]
  },
  {
   "cell_type": "code",
   "execution_count": 13,
   "metadata": {},
   "outputs": [
    {
     "name": "stdout",
     "output_type": "stream",
     "text": [
      "trees oob   cv\n"
     ]
    },
    {
     "name": "stderr",
     "output_type": "stream",
     "text": [
      "C:\\Users\\corne\\Anaconda3\\envs\\python38\\lib\\site-packages\\sklearn\\ensemble\\_forest.py:523: UserWarning: Some inputs do not have OOB scores. This probably means too few trees were used to compute any reliable oob estimates.\n",
      "  warn(\"Some inputs do not have OOB scores. \"\n",
      "C:\\Users\\corne\\Anaconda3\\envs\\python38\\lib\\site-packages\\sklearn\\ensemble\\_forest.py:527: RuntimeWarning: invalid value encountered in true_divide\n",
      "  decision = (predictions[k] /\n",
      "C:\\Users\\corne\\Anaconda3\\envs\\python38\\lib\\site-packages\\sklearn\\ensemble\\_forest.py:523: UserWarning: Some inputs do not have OOB scores. This probably means too few trees were used to compute any reliable oob estimates.\n",
      "  warn(\"Some inputs do not have OOB scores. \"\n",
      "C:\\Users\\corne\\Anaconda3\\envs\\python38\\lib\\site-packages\\sklearn\\ensemble\\_forest.py:527: RuntimeWarning: invalid value encountered in true_divide\n",
      "  decision = (predictions[k] /\n",
      "C:\\Users\\corne\\Anaconda3\\envs\\python38\\lib\\site-packages\\sklearn\\ensemble\\_forest.py:523: UserWarning: Some inputs do not have OOB scores. This probably means too few trees were used to compute any reliable oob estimates.\n",
      "  warn(\"Some inputs do not have OOB scores. \"\n",
      "C:\\Users\\corne\\Anaconda3\\envs\\python38\\lib\\site-packages\\sklearn\\ensemble\\_forest.py:527: RuntimeWarning: invalid value encountered in true_divide\n",
      "  decision = (predictions[k] /\n",
      "C:\\Users\\corne\\Anaconda3\\envs\\python38\\lib\\site-packages\\sklearn\\ensemble\\_forest.py:523: UserWarning: Some inputs do not have OOB scores. This probably means too few trees were used to compute any reliable oob estimates.\n",
      "  warn(\"Some inputs do not have OOB scores. \"\n",
      "C:\\Users\\corne\\Anaconda3\\envs\\python38\\lib\\site-packages\\sklearn\\ensemble\\_forest.py:527: RuntimeWarning: invalid value encountered in true_divide\n",
      "  decision = (predictions[k] /\n",
      "C:\\Users\\corne\\Anaconda3\\envs\\python38\\lib\\site-packages\\sklearn\\ensemble\\_forest.py:523: UserWarning: Some inputs do not have OOB scores. This probably means too few trees were used to compute any reliable oob estimates.\n",
      "  warn(\"Some inputs do not have OOB scores. \"\n",
      "C:\\Users\\corne\\Anaconda3\\envs\\python38\\lib\\site-packages\\sklearn\\ensemble\\_forest.py:527: RuntimeWarning: invalid value encountered in true_divide\n",
      "  decision = (predictions[k] /\n",
      "C:\\Users\\corne\\Anaconda3\\envs\\python38\\lib\\site-packages\\sklearn\\ensemble\\_forest.py:523: UserWarning: Some inputs do not have OOB scores. This probably means too few trees were used to compute any reliable oob estimates.\n",
      "  warn(\"Some inputs do not have OOB scores. \"\n",
      "C:\\Users\\corne\\Anaconda3\\envs\\python38\\lib\\site-packages\\sklearn\\ensemble\\_forest.py:527: RuntimeWarning: invalid value encountered in true_divide\n",
      "  decision = (predictions[k] /\n"
     ]
    },
    {
     "name": "stdout",
     "output_type": "stream",
     "text": [
      "  10: 0.858 0.937\n"
     ]
    },
    {
     "name": "stderr",
     "output_type": "stream",
     "text": [
      "C:\\Users\\corne\\Anaconda3\\envs\\python38\\lib\\site-packages\\sklearn\\ensemble\\_forest.py:523: UserWarning: Some inputs do not have OOB scores. This probably means too few trees were used to compute any reliable oob estimates.\n",
      "  warn(\"Some inputs do not have OOB scores. \"\n",
      "C:\\Users\\corne\\Anaconda3\\envs\\python38\\lib\\site-packages\\sklearn\\ensemble\\_forest.py:527: RuntimeWarning: invalid value encountered in true_divide\n",
      "  decision = (predictions[k] /\n"
     ]
    },
    {
     "name": "stdout",
     "output_type": "stream",
     "text": [
      "  20: 0.926 0.956\n",
      "  50: 0.959 0.967\n",
      " 100: 0.970 0.969\n",
      " 200: 0.975 0.966\n",
      " 500: 0.976 0.971\n",
      "1000: 0.972 0.973\n"
     ]
    }
   ],
   "source": [
    "print('trees oob   cv')\n",
    "for trees in [10, 20, 50, 100, 200, 500, 1000]:\n",
    "    model = RandomForestClassifier(n_estimators=trees,\n",
    "                                   oob_score=True)\n",
    "    model.fit(X_train, y_train)\n",
    "    print(f'{trees: >4}: {model.oob_score_:.3f} {cross_val_score(model, X_train, y_train, cv=5).mean():.3f}')"
   ]
  },
  {
   "cell_type": "markdown",
   "metadata": {},
   "source": [
    "### Variable (or Feature) Importance\n",
    "\n",
    "Sometime we want to know (for example for feature selection), which features are most important in a forest. sklearn calculates the feature importance as the fraction of samples influenced by each feature (i.e., higher features have more importance) and the reduction of impurity.\n",
    "\n",
    "We can access it via `model.feature_importances_` (for the last model calculated in the previous loop):"
   ]
  },
  {
   "cell_type": "code",
   "execution_count": 14,
   "metadata": {},
   "outputs": [
    {
     "data": {
      "text/plain": [
       "array([[0.00000000e+00, 2.53284166e-03, 2.11830262e-02, 1.08240946e-02,\n",
       "        9.63338825e-03, 1.86546760e-02, 8.82298457e-03, 7.25398012e-04],\n",
       "       [2.58932581e-05, 1.21673540e-02, 2.64213620e-02, 6.84310977e-03,\n",
       "        1.55484531e-02, 2.74778259e-02, 5.43133165e-03, 5.75204126e-04],\n",
       "       [0.00000000e+00, 7.12191360e-03, 2.39114287e-02, 2.60728984e-02,\n",
       "        3.08462096e-02, 5.07397138e-02, 8.17947018e-03, 1.91432321e-04],\n",
       "       [3.42210922e-05, 1.39743108e-02, 3.95793579e-02, 2.43995763e-02,\n",
       "        3.35718554e-02, 2.15679741e-02, 3.10920827e-02, 3.46606576e-05],\n",
       "       [0.00000000e+00, 3.17071599e-02, 2.66261350e-02, 1.68460574e-02,\n",
       "        4.11312808e-02, 1.85962913e-02, 2.45702720e-02, 0.00000000e+00],\n",
       "       [4.29097914e-05, 1.48143197e-02, 3.67742144e-02, 4.45951225e-02,\n",
       "        2.10620269e-02, 1.69978627e-02, 1.82351964e-02, 7.53390229e-05],\n",
       "       [4.96135796e-05, 2.74839244e-03, 1.60909912e-02, 2.23547934e-02,\n",
       "        1.38836016e-02, 2.37412960e-02, 2.36442606e-02, 1.46813587e-03],\n",
       "       [4.81620815e-05, 2.74433947e-03, 2.08566804e-02, 9.51192202e-03,\n",
       "        2.65588279e-02, 2.77264684e-02, 1.45834348e-02, 3.73084402e-03]])"
      ]
     },
     "execution_count": 14,
     "metadata": {},
     "output_type": "execute_result"
    }
   ],
   "source": [
    "model.feature_importances_.reshape((8,8))"
   ]
  },
  {
   "cell_type": "markdown",
   "metadata": {},
   "source": [
    "After reshaping the 1D array into an 8×8 2D array, we can also plot the importance in an 8×8 image:"
   ]
  },
  {
   "cell_type": "code",
   "execution_count": 15,
   "metadata": {},
   "outputs": [
    {
     "data": {
      "image/png": "[encoded data removed]",
      "text/plain": [
       "<Figure size 432x288 with 1 Axes>"
      ]
     },
     "metadata": {},
     "output_type": "display_data"
    }
   ],
   "source": [
    "sns.heatmap(model.feature_importances_.reshape((8,8)),\n",
    "            square=True, cbar=False);"
   ]
  },
  {
   "cell_type": "markdown",
   "metadata": {},
   "source": [
    "Clearly pixels closer to the centre of the image are more important."
   ]
  },
  {
   "cell_type": "markdown",
   "metadata": {},
   "source": [
    "### Parallelisation\n",
    "\n",
    "Creating large forests takes a lot of time:"
   ]
  },
  {
   "cell_type": "code",
   "execution_count": 16,
   "metadata": {},
   "outputs": [
    {
     "name": "stdout",
     "output_type": "stream",
     "text": [
      "3.12 s ± 0 ns per loop (mean ± std. dev. of 1 run, 3 loops each)\n"
     ]
    }
   ],
   "source": [
    "%%timeit -n3 -r1\n",
    "\n",
    "model = RandomForestClassifier(n_estimators=1000,\n",
    "                               oob_score=True)\n",
    "model.fit(X_train, y_train)"
   ]
  },
  {
   "cell_type": "markdown",
   "metadata": {},
   "source": [
    "We can use the Jupyter magic command [`%%timeit`](https://ipython.readthedocs.io/en/stable/interactive/magics.html#magic-timeit) to time the execution of a cell. The average time it took to fit the model in three iterations (`-n3`) was 3.12s.\n",
    "\n",
    "We can speed this up by training trees in separate threads. If your computer has more than one (virtual) core, training trees in separate threads (up to the number of (virtual) cores) will make the training faster.\n",
    "\n",
    "Let's begin with two threads (`n_jobs=2`):"
   ]
  },
  {
   "cell_type": "code",
   "execution_count": 17,
   "metadata": {},
   "outputs": [
    {
     "name": "stdout",
     "output_type": "stream",
     "text": [
      "2.45 s ± 0 ns per loop (mean ± std. dev. of 1 run, 3 loops each)\n"
     ]
    }
   ],
   "source": [
    "%%timeit -n3 -r1\n",
    "\n",
    "model = RandomForestClassifier(n_estimators=1000,\n",
    "                               oob_score=True,\n",
    "                               n_jobs=2)\n",
    "model.fit(X_train, y_train)"
   ]
  },
  {
   "cell_type": "markdown",
   "metadata": {},
   "source": [
    "`n_jobs=4`:"
   ]
  },
  {
   "cell_type": "code",
   "execution_count": 18,
   "metadata": {},
   "outputs": [
    {
     "name": "stdout",
     "output_type": "stream",
     "text": [
      "2.25 s ± 0 ns per loop (mean ± std. dev. of 1 run, 3 loops each)\n"
     ]
    }
   ],
   "source": [
    "%%timeit -n3 -r1\n",
    "\n",
    "model = RandomForestClassifier(n_estimators=1000,\n",
    "                               oob_score=True,\n",
    "                               n_jobs=4)\n",
    "model.fit(X_train, y_train)"
   ]
  },
  {
   "cell_type": "markdown",
   "metadata": {},
   "source": [
    "`n_jobs=8`:"
   ]
  },
  {
   "cell_type": "code",
   "execution_count": 19,
   "metadata": {},
   "outputs": [
    {
     "name": "stdout",
     "output_type": "stream",
     "text": [
      "2.4 s ± 0 ns per loop (mean ± std. dev. of 1 run, 3 loops each)\n"
     ]
    }
   ],
   "source": [
    "%%timeit -n3 -r1\n",
    "\n",
    "model = RandomForestClassifier(n_estimators=1000,\n",
    "                               oob_score=True,\n",
    "                               n_jobs=8)\n",
    "model.fit(X_train, y_train)"
   ]
  },
  {
   "cell_type": "markdown",
   "metadata": {},
   "source": [
    "On my laptop with four real cores and eight virtual cores, using eight threads was actually slower than four.\n",
    "\n",
    "You cannot use parallelisation on HackerRank."
   ]
  },
  {
   "cell_type": "markdown",
   "metadata": {
    "deletable": false,
    "editable": false
   },
   "source": [
    "© 2023 Philipp Cornelius"
   ]
  }
 ],
 "metadata": {
  "kernelspec": {
   "display_name": "Python 3",
   "language": "python",
   "name": "python3"
  },
  "language_info": {
   "codemirror_mode": {
    "name": "ipython",
    "version": 3
   },
   "file_extension": ".py",
   "mimetype": "text/x-python",
   "name": "python",
   "nbconvert_exporter": "python",
   "pygments_lexer": "ipython3",
   "version": "3.8.1"
  }
 },
 "nbformat": 4,
 "nbformat_minor": 4
}
