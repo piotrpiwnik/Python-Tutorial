{
 "cells": [
  {
   "cell_type": "markdown",
   "metadata": {},
   "source": [
    "# Lecture 5: Model Evaluation, Cross-validation (CV) & Grid Search CV\n",
    "\n",
    "* How to use cross-validation (CV)\n",
    "* How to use grid search CV"
   ]
  },
  {
   "cell_type": "markdown",
   "metadata": {},
   "source": [
    "## Imports"
   ]
  },
  {
   "cell_type": "code",
   "execution_count": 1,
   "metadata": {},
   "outputs": [],
   "source": [
    "import numpy as np\n",
    "\n",
    "import matplotlib.pyplot as plt\n",
    "%matplotlib inline\n",
    "import seaborn as sns; sns.set()"
   ]
  },
  {
   "cell_type": "markdown",
   "metadata": {},
   "source": [
    "## Data\n",
    "\n",
    "We generate random data of the form $Y=10 - \\frac{1}{X + 0.1} + \\epsilon$ (code from the [book](https://jakevdp.github.io/PythonDataScienceHandbook/05.03-hyperparameters-and-model-validation.html#Validation-curves-in-Scikit-Learn)):"
   ]
  },
  {
   "cell_type": "code",
   "execution_count": 2,
   "metadata": {},
   "outputs": [],
   "source": [
    "rng = np.random.RandomState(10)\n",
    "# feature matrix\n",
    "X = rng.rand(100, 1) ** 2\n",
    "# data generating process\n",
    "y = 10 - 1. / (X.ravel() + 0.1)\n",
    "# noise\n",
    "y += 1.0 * rng.randn(100)"
   ]
  },
  {
   "cell_type": "markdown",
   "metadata": {},
   "source": [
    "The random data looks like this:"
   ]
  },
  {
   "cell_type": "code",
   "execution_count": 3,
   "metadata": {},
   "outputs": [
    {
     "data": {
      "image/png": "[encoded data removed]",
      "text/plain": [
       "<Figure size 432x288 with 1 Axes>"
      ]
     },
     "metadata": {},
     "output_type": "display_data"
    }
   ],
   "source": [
    "plt.scatter(X, y);"
   ]
  },
  {
   "cell_type": "markdown",
   "metadata": {},
   "source": [
    "We split our data into training and test sets:"
   ]
  },
  {
   "cell_type": "code",
   "execution_count": 4,
   "metadata": {},
   "outputs": [
    {
     "name": "stdout",
     "output_type": "stream",
     "text": [
      "   Train  Test   Total\n",
      "X: 70   + 30   = 100\n",
      "y: 70   + 30   = 100\n"
     ]
    }
   ],
   "source": [
    "from sklearn.model_selection import train_test_split\n",
    "\n",
    "X_train, X_test, y_train, y_test = train_test_split(X, y,\n",
    "                                                    random_state=284639,\n",
    "                                                    train_size=0.7)\n",
    "\n",
    "print(f'   Train  Test   Total')\n",
    "print(f'X: {X_train.shape[0]}   + {X_test.shape[0]}   = {X.shape[0]}')\n",
    "print(f'y: {y_train.shape[0]}   + {y_test.shape[0]}   = {y.shape[0]}')"
   ]
  },
  {
   "cell_type": "markdown",
   "metadata": {},
   "source": [
    "## Cross-validation (CV)\n",
    "\n",
    "Let's begin by fitting a [1st-degree polynomial model](https://scikit-learn.org/stable/modules/generated/sklearn.linear_model.LinearRegression.html?highlight=linearregression):"
   ]
  },
  {
   "cell_type": "code",
   "execution_count": 5,
   "metadata": {},
   "outputs": [
    {
     "data": {
      "image/png": "[encoded data removed]",
      "text/plain": [
       "<Figure size 432x288 with 1 Axes>"
      ]
     },
     "metadata": {},
     "output_type": "display_data"
    }
   ],
   "source": [
    "from sklearn.preprocessing import PolynomialFeatures\n",
    "from sklearn.linear_model import LinearRegression\n",
    "from sklearn.pipeline import make_pipeline\n",
    "\n",
    "# create model pipeline\n",
    "model = make_pipeline(PolynomialFeatures(1),\n",
    "                      LinearRegression(fit_intercept=True))\n",
    "\n",
    "# transform variables and fit model on training data\n",
    "model.fit(X_train, y_train)\n",
    "\n",
    "# plot training data\n",
    "plt.scatter(X_train, y_train)\n",
    "\n",
    "# plot regerssion line\n",
    "y_fit = model.predict(np.array([0,1])[:, np.newaxis])\n",
    "plt.plot(np.array([0,1])[:, np.newaxis],\n",
    "         y_fit,\n",
    "         color='red', linestyle='--');\n",
    "\n",
    "# plot test data\n",
    "plt.scatter(X_test, y_test, color='orange');"
   ]
  },
  {
   "cell_type": "markdown",
   "metadata": {},
   "source": [
    "The model's $R^2$ in the test data ..."
   ]
  },
  {
   "cell_type": "code",
   "execution_count": 6,
   "metadata": {},
   "outputs": [
    {
     "data": {
      "text/plain": [
       "0.4931005822067103"
      ]
     },
     "execution_count": 6,
     "metadata": {},
     "output_type": "execute_result"
    }
   ],
   "source": [
    "model.score(X_test, y_test)"
   ]
  },
  {
   "cell_type": "markdown",
   "metadata": {},
   "source": [
    "... and in the training data:"
   ]
  },
  {
   "cell_type": "code",
   "execution_count": 7,
   "metadata": {},
   "outputs": [
    {
     "data": {
      "text/plain": [
       "0.5968582838480656"
      ]
     },
     "execution_count": 7,
     "metadata": {},
     "output_type": "execute_result"
    }
   ],
   "source": [
    "model.score(X_train, y_train)"
   ]
  },
  {
   "cell_type": "markdown",
   "metadata": {},
   "source": [
    "The usual picture: the model fits the training data much better than the test data.\n",
    "\n",
    "Let's explore what happens when we apply **5-fold cross-validation** (**5-CV**) to the training data. We can use [`cross_val_score()`](https://scikit-learn.org/stable/modules/generated/sklearn.model_selection.cross_val_score.html?highlight=cross_val_score) for this. It takes at least three parameters:\n",
    "* `estimator`: the model we want to validate\n",
    "* `X`: the $X$'s on which we want to validate the model (usually the training data)\n",
    "* `y`: the corresponding $y$'s\n",
    "* `cv`: optional, the number of folds; default = 5"
   ]
  },
  {
   "cell_type": "code",
   "execution_count": 8,
   "metadata": {},
   "outputs": [
    {
     "data": {
      "text/plain": [
       "array([0.59675577, 0.37970477, 0.69134131, 0.4571663 , 0.59939331])"
      ]
     },
     "execution_count": 8,
     "metadata": {},
     "output_type": "execute_result"
    }
   ],
   "source": [
    "from sklearn.model_selection import cross_val_score\n",
    "\n",
    "scores = cross_val_score(model, X_train, y_train, cv=5)\n",
    "scores"
   ]
  },
  {
   "cell_type": "markdown",
   "metadata": {},
   "source": [
    "We opted for 5 folds, so we get 5 scores back. If we don't specify which scoring metric to use, `cross_val_score()` uses `model.score()` by default. For `LinearRegression`, that's of course $R^2$.\n",
    "\n",
    "The important observation is that the *mean* of the 5-fold CV scores is closer to the test score (which was $\\approx0.49$):"
   ]
  },
  {
   "cell_type": "code",
   "execution_count": 9,
   "metadata": {},
   "outputs": [
    {
     "data": {
      "text/plain": [
       "0.5448722918029787"
      ]
     },
     "execution_count": 9,
     "metadata": {},
     "output_type": "execute_result"
    }
   ],
   "source": [
    "scores.mean()"
   ]
  },
  {
   "cell_type": "markdown",
   "metadata": {},
   "source": [
    "Bear in mind that this is the *training data*, in which the model per se performs much better ($\\approx0.59$). Thus, without sacrificing valuable training data, cross-validation allows us to test our model hyperparameters almost as well as if we had another validation data set.\n",
    "\n",
    "`cross_val_score()` only allows one scoring metric, but if you want to use more than one, you can use [`sklearn.model_selection.cross_validate()`](https://scikit-learn.org/stable/modules/generated/sklearn.model_selection.cross_validate.html).\n",
    "\n",
    "The next step is to use grid search with CV to test several hyperparameters and find those that fit our data best:"
   ]
  },
  {
   "cell_type": "markdown",
   "metadata": {},
   "source": [
    "## Grid Search CV\n",
    "\n",
    "We begin by importing [`GridSearchCV`](https://scikit-learn.org/stable/modules/generated/sklearn.model_selection.GridSearchCV.html), which is the class that performs grid search. We then define the *parameter space* that `GridSearchCV` should cover. We do this with a simple dictionary, in which the keys are the parameters and the values are the variations of these parameters that we want to check.\n",
    "\n",
    "In our case we use a pipeline (`make_pipeline()`), so we need to specify to which part of the pipeline each parameter belongs. We do this by first stating the step's names (e.g., `polynomialfeatures` and `linearregression`), followed by two underscores (`__`), and then the parameter names (e.g., `degree`).\n",
    "\n",
    "We also set `cv=5` to get 5-fold CV."
   ]
  },
  {
   "cell_type": "code",
   "execution_count": 10,
   "metadata": {},
   "outputs": [],
   "source": [
    "from sklearn.model_selection import GridSearchCV\n",
    "\n",
    "param_grid = {'polynomialfeatures__degree': np.arange(21),\n",
    "              'linearregression__fit_intercept': [True, False],\n",
    "              'linearregression__normalize': [True, False]}\n",
    "\n",
    "grid = GridSearchCV(make_pipeline(PolynomialFeatures(),\n",
    "                                  LinearRegression()),\n",
    "                    param_grid, cv=5)"
   ]
  },
  {
   "cell_type": "markdown",
   "metadata": {},
   "source": [
    "After this setup, we \"fit\" the `GridSearchCV`, which means that now each potential model combination is fit and 5-fold cross-validated. Note that we're now testing $21 × 2 × 2=84$ parameter combinations!"
   ]
  },
  {
   "cell_type": "code",
   "execution_count": 11,
   "metadata": {},
   "outputs": [
    {
     "data": {
      "text/plain": [
       "GridSearchCV(cv=5, error_score=nan,\n",
       "             estimator=Pipeline(memory=None,\n",
       "                                steps=[('polynomialfeatures',\n",
       "                                        PolynomialFeatures(degree=2,\n",
       "                                                           include_bias=True,\n",
       "                                                           interaction_only=False,\n",
       "                                                           order='C')),\n",
       "                                       ('linearregression',\n",
       "                                        LinearRegression(copy_X=True,\n",
       "                                                         fit_intercept=True,\n",
       "                                                         n_jobs=None,\n",
       "                                                         normalize=False))],\n",
       "                                verbose=False),\n",
       "             iid='deprecated', n_jobs=None,\n",
       "             param_grid={'linearregression__fit_intercept': [True, False],\n",
       "                         'linearregression__normalize': [True, False],\n",
       "                         'polynomialfeatures__degree': array([ 0,  1,  2,  3,  4,  5,  6,  7,  8,  9, 10, 11, 12, 13, 14, 15, 16,\n",
       "       17, 18, 19, 20])},\n",
       "             pre_dispatch='2*n_jobs', refit=True, return_train_score=False,\n",
       "             scoring=None, verbose=0)"
      ]
     },
     "execution_count": 11,
     "metadata": {},
     "output_type": "execute_result"
    }
   ],
   "source": [
    "grid.fit(X_train, y_train)"
   ]
  },
  {
   "cell_type": "markdown",
   "metadata": {},
   "source": [
    "All results of the grid search are stored in `grid.cv_results_`:"
   ]
  },
  {
   "cell_type": "code",
   "execution_count": 12,
   "metadata": {},
   "outputs": [
    {
     "data": {
      "text/plain": [
       "{'mean_fit_time': array([0.        , 0.0031353 , 0.00312924, 0.        , 0.        ,\n",
       "        0.        , 0.00312109, 0.        , 0.00311818, 0.        ,\n",
       "        0.00312476, 0.        , 0.        , 0.        , 0.        ,\n",
       "        0.        , 0.        , 0.        , 0.        , 0.        ,\n",
       "        0.        , 0.        , 0.        , 0.        , 0.        ,\n",
       "        0.        , 0.        , 0.00312376, 0.        , 0.        ,\n",
       "        0.        , 0.        , 0.00040669, 0.00202112, 0.00040951,\n",
       "        0.        , 0.        , 0.        , 0.        , 0.        ,\n",
       "        0.        , 0.        , 0.00161581, 0.        , 0.        ,\n",
       "        0.00161853, 0.        , 0.0016109 , 0.00040293, 0.        ,\n",
       "        0.00200467, 0.        , 0.00202208, 0.        , 0.        ,\n",
       "        0.00040984, 0.00040464, 0.        , 0.00040975, 0.        ,\n",
       "        0.        , 0.00041261, 0.        , 0.        , 0.00161209,\n",
       "        0.00161004, 0.        , 0.00042057, 0.00040956, 0.        ,\n",
       "        0.00161142, 0.        , 0.        , 0.00160546, 0.        ,\n",
       "        0.        , 0.00160069, 0.00041018, 0.        , 0.00041099,\n",
       "        0.0004107 , 0.        , 0.        , 0.00202017]),\n",
       " 'std_fit_time': array([0.        , 0.0062706 , 0.00625849, 0.        , 0.        ,\n",
       "        0.        , 0.00624218, 0.        , 0.00623636, 0.        ,\n",
       "        0.00624952, 0.        , 0.        , 0.        , 0.        ,\n",
       "        0.        , 0.        , 0.        , 0.        , 0.        ,\n",
       "        0.        , 0.        , 0.        , 0.        , 0.        ,\n",
       "        0.        , 0.        , 0.00624752, 0.        , 0.        ,\n",
       "        0.        , 0.        , 0.00081339, 0.00312146, 0.00081902,\n",
       "        0.        , 0.        , 0.        , 0.        , 0.        ,\n",
       "        0.        , 0.        , 0.00323162, 0.        , 0.        ,\n",
       "        0.00323706, 0.        , 0.0032218 , 0.00080585, 0.        ,\n",
       "        0.00309974, 0.        , 0.00312009, 0.        , 0.        ,\n",
       "        0.00081968, 0.00080929, 0.        , 0.00081949, 0.        ,\n",
       "        0.        , 0.00082521, 0.        , 0.        , 0.00322418,\n",
       "        0.00322008, 0.        , 0.00081716, 0.00081911, 0.        ,\n",
       "        0.00322285, 0.        , 0.        , 0.00321093, 0.        ,\n",
       "        0.        , 0.00320139, 0.00082035, 0.        , 0.00082197,\n",
       "        0.0008214 , 0.        , 0.        , 0.00311888]),\n",
       " 'mean_score_time': array([0.00000000e+00, 0.00000000e+00, 0.00000000e+00, 0.00000000e+00,\n",
       "        0.00000000e+00, 0.00000000e+00, 0.00000000e+00, 0.00000000e+00,\n",
       "        0.00000000e+00, 0.00000000e+00, 0.00000000e+00, 0.00000000e+00,\n",
       "        0.00000000e+00, 0.00000000e+00, 0.00000000e+00, 0.00000000e+00,\n",
       "        0.00000000e+00, 0.00000000e+00, 0.00000000e+00, 3.12466621e-03,\n",
       "        0.00000000e+00, 4.42714691e-03, 0.00000000e+00, 0.00000000e+00,\n",
       "        0.00000000e+00, 0.00000000e+00, 0.00000000e+00, 0.00000000e+00,\n",
       "        0.00000000e+00, 0.00000000e+00, 3.12571526e-03, 3.11851501e-03,\n",
       "        1.34296417e-03, 0.00000000e+00, 0.00000000e+00, 4.11462784e-04,\n",
       "        4.10747528e-04, 4.10795212e-04, 4.09507751e-04, 8.19778442e-04,\n",
       "        4.11272049e-04, 4.11272049e-04, 0.00000000e+00, 1.61161423e-03,\n",
       "        0.00000000e+00, 0.00000000e+00, 2.01916695e-03, 0.00000000e+00,\n",
       "        0.00000000e+00, 0.00000000e+00, 1.61347389e-03, 4.02688980e-04,\n",
       "        0.00000000e+00, 2.02312469e-03, 4.09603119e-04, 0.00000000e+00,\n",
       "        0.00000000e+00, 1.61576271e-03, 2.01873779e-03, 4.10318375e-04,\n",
       "        4.09698486e-04, 0.00000000e+00, 1.61156654e-03, 0.00000000e+00,\n",
       "        0.00000000e+00, 0.00000000e+00, 0.00000000e+00, 0.00000000e+00,\n",
       "        1.60970688e-03, 0.00000000e+00, 4.06217575e-04, 1.60493851e-03,\n",
       "        0.00000000e+00, 4.04930115e-04, 2.01821327e-03, 0.00000000e+00,\n",
       "        8.15391541e-06, 1.60703659e-03, 2.02093124e-03, 0.00000000e+00,\n",
       "        1.61170959e-03, 1.61542892e-03, 4.10366058e-04, 0.00000000e+00]),\n",
       " 'std_score_time': array([0.00000000e+00, 0.00000000e+00, 0.00000000e+00, 0.00000000e+00,\n",
       "        0.00000000e+00, 0.00000000e+00, 0.00000000e+00, 0.00000000e+00,\n",
       "        0.00000000e+00, 0.00000000e+00, 0.00000000e+00, 0.00000000e+00,\n",
       "        0.00000000e+00, 0.00000000e+00, 0.00000000e+00, 0.00000000e+00,\n",
       "        0.00000000e+00, 0.00000000e+00, 0.00000000e+00, 6.24933243e-03,\n",
       "        0.00000000e+00, 6.14069757e-03, 0.00000000e+00, 0.00000000e+00,\n",
       "        0.00000000e+00, 0.00000000e+00, 0.00000000e+00, 0.00000000e+00,\n",
       "        0.00000000e+00, 0.00000000e+00, 6.25143051e-03, 6.23703003e-03,\n",
       "        2.64204182e-03, 0.00000000e+00, 0.00000000e+00, 8.22925568e-04,\n",
       "        8.21495056e-04, 8.21590424e-04, 8.19015503e-04, 1.00401944e-03,\n",
       "        8.22544098e-04, 8.22544098e-04, 0.00000000e+00, 3.22322845e-03,\n",
       "        0.00000000e+00, 0.00000000e+00, 3.11712391e-03, 0.00000000e+00,\n",
       "        0.00000000e+00, 0.00000000e+00, 3.20066759e-03, 8.05377960e-04,\n",
       "        0.00000000e+00, 3.11387927e-03, 8.19206238e-04, 0.00000000e+00,\n",
       "        0.00000000e+00, 3.23152542e-03, 3.11776303e-03, 8.20636749e-04,\n",
       "        8.19396973e-04, 0.00000000e+00, 3.22313309e-03, 0.00000000e+00,\n",
       "        0.00000000e+00, 0.00000000e+00, 0.00000000e+00, 0.00000000e+00,\n",
       "        3.21941376e-03, 0.00000000e+00, 8.12435150e-04, 3.20987701e-03,\n",
       "        0.00000000e+00, 8.09860229e-04, 3.11381151e-03, 0.00000000e+00,\n",
       "        1.63078308e-05, 3.21407318e-03, 3.12182260e-03, 0.00000000e+00,\n",
       "        3.22341919e-03, 3.23085785e-03, 8.20732117e-04, 0.00000000e+00]),\n",
       " 'param_linearregression__fit_intercept': masked_array(data=[True, True, True, True, True, True, True, True, True,\n",
       "                    True, True, True, True, True, True, True, True, True,\n",
       "                    True, True, True, True, True, True, True, True, True,\n",
       "                    True, True, True, True, True, True, True, True, True,\n",
       "                    True, True, True, True, True, True, False, False,\n",
       "                    False, False, False, False, False, False, False, False,\n",
       "                    False, False, False, False, False, False, False, False,\n",
       "                    False, False, False, False, False, False, False, False,\n",
       "                    False, False, False, False, False, False, False, False,\n",
       "                    False, False, False, False, False, False, False, False],\n",
       "              mask=[False, False, False, False, False, False, False, False,\n",
       "                    False, False, False, False, False, False, False, False,\n",
       "                    False, False, False, False, False, False, False, False,\n",
       "                    False, False, False, False, False, False, False, False,\n",
       "                    False, False, False, False, False, False, False, False,\n",
       "                    False, False, False, False, False, False, False, False,\n",
       "                    False, False, False, False, False, False, False, False,\n",
       "                    False, False, False, False, False, False, False, False,\n",
       "                    False, False, False, False, False, False, False, False,\n",
       "                    False, False, False, False, False, False, False, False,\n",
       "                    False, False, False, False],\n",
       "        fill_value='?',\n",
       "             dtype=object),\n",
       " 'param_linearregression__normalize': masked_array(data=[True, True, True, True, True, True, True, True, True,\n",
       "                    True, True, True, True, True, True, True, True, True,\n",
       "                    True, True, True, False, False, False, False, False,\n",
       "                    False, False, False, False, False, False, False, False,\n",
       "                    False, False, False, False, False, False, False, False,\n",
       "                    True, True, True, True, True, True, True, True, True,\n",
       "                    True, True, True, True, True, True, True, True, True,\n",
       "                    True, True, True, False, False, False, False, False,\n",
       "                    False, False, False, False, False, False, False, False,\n",
       "                    False, False, False, False, False, False, False, False],\n",
       "              mask=[False, False, False, False, False, False, False, False,\n",
       "                    False, False, False, False, False, False, False, False,\n",
       "                    False, False, False, False, False, False, False, False,\n",
       "                    False, False, False, False, False, False, False, False,\n",
       "                    False, False, False, False, False, False, False, False,\n",
       "                    False, False, False, False, False, False, False, False,\n",
       "                    False, False, False, False, False, False, False, False,\n",
       "                    False, False, False, False, False, False, False, False,\n",
       "                    False, False, False, False, False, False, False, False,\n",
       "                    False, False, False, False, False, False, False, False,\n",
       "                    False, False, False, False],\n",
       "        fill_value='?',\n",
       "             dtype=object),\n",
       " 'param_polynomialfeatures__degree': masked_array(data=[0, 1, 2, 3, 4, 5, 6, 7, 8, 9, 10, 11, 12, 13, 14, 15,\n",
       "                    16, 17, 18, 19, 20, 0, 1, 2, 3, 4, 5, 6, 7, 8, 9, 10,\n",
       "                    11, 12, 13, 14, 15, 16, 17, 18, 19, 20, 0, 1, 2, 3, 4,\n",
       "                    5, 6, 7, 8, 9, 10, 11, 12, 13, 14, 15, 16, 17, 18, 19,\n",
       "                    20, 0, 1, 2, 3, 4, 5, 6, 7, 8, 9, 10, 11, 12, 13, 14,\n",
       "                    15, 16, 17, 18, 19, 20],\n",
       "              mask=[False, False, False, False, False, False, False, False,\n",
       "                    False, False, False, False, False, False, False, False,\n",
       "                    False, False, False, False, False, False, False, False,\n",
       "                    False, False, False, False, False, False, False, False,\n",
       "                    False, False, False, False, False, False, False, False,\n",
       "                    False, False, False, False, False, False, False, False,\n",
       "                    False, False, False, False, False, False, False, False,\n",
       "                    False, False, False, False, False, False, False, False,\n",
       "                    False, False, False, False, False, False, False, False,\n",
       "                    False, False, False, False, False, False, False, False,\n",
       "                    False, False, False, False],\n",
       "        fill_value='?',\n",
       "             dtype=object),\n",
       " 'params': [{'linearregression__fit_intercept': True,\n",
       "   'linearregression__normalize': True,\n",
       "   'polynomialfeatures__degree': 0},\n",
       "  {'linearregression__fit_intercept': True,\n",
       "   'linearregression__normalize': True,\n",
       "   'polynomialfeatures__degree': 1},\n",
       "  {'linearregression__fit_intercept': True,\n",
       "   'linearregression__normalize': True,\n",
       "   'polynomialfeatures__degree': 2},\n",
       "  {'linearregression__fit_intercept': True,\n",
       "   'linearregression__normalize': True,\n",
       "   'polynomialfeatures__degree': 3},\n",
       "  {'linearregression__fit_intercept': True,\n",
       "   'linearregression__normalize': True,\n",
       "   'polynomialfeatures__degree': 4},\n",
       "  {'linearregression__fit_intercept': True,\n",
       "   'linearregression__normalize': True,\n",
       "   'polynomialfeatures__degree': 5},\n",
       "  {'linearregression__fit_intercept': True,\n",
       "   'linearregression__normalize': True,\n",
       "   'polynomialfeatures__degree': 6},\n",
       "  {'linearregression__fit_intercept': True,\n",
       "   'linearregression__normalize': True,\n",
       "   'polynomialfeatures__degree': 7},\n",
       "  {'linearregression__fit_intercept': True,\n",
       "   'linearregression__normalize': True,\n",
       "   'polynomialfeatures__degree': 8},\n",
       "  {'linearregression__fit_intercept': True,\n",
       "   'linearregression__normalize': True,\n",
       "   'polynomialfeatures__degree': 9},\n",
       "  {'linearregression__fit_intercept': True,\n",
       "   'linearregression__normalize': True,\n",
       "   'polynomialfeatures__degree': 10},\n",
       "  {'linearregression__fit_intercept': True,\n",
       "   'linearregression__normalize': True,\n",
       "   'polynomialfeatures__degree': 11},\n",
       "  {'linearregression__fit_intercept': True,\n",
       "   'linearregression__normalize': True,\n",
       "   'polynomialfeatures__degree': 12},\n",
       "  {'linearregression__fit_intercept': True,\n",
       "   'linearregression__normalize': True,\n",
       "   'polynomialfeatures__degree': 13},\n",
       "  {'linearregression__fit_intercept': True,\n",
       "   'linearregression__normalize': True,\n",
       "   'polynomialfeatures__degree': 14},\n",
       "  {'linearregression__fit_intercept': True,\n",
       "   'linearregression__normalize': True,\n",
       "   'polynomialfeatures__degree': 15},\n",
       "  {'linearregression__fit_intercept': True,\n",
       "   'linearregression__normalize': True,\n",
       "   'polynomialfeatures__degree': 16},\n",
       "  {'linearregression__fit_intercept': True,\n",
       "   'linearregression__normalize': True,\n",
       "   'polynomialfeatures__degree': 17},\n",
       "  {'linearregression__fit_intercept': True,\n",
       "   'linearregression__normalize': True,\n",
       "   'polynomialfeatures__degree': 18},\n",
       "  {'linearregression__fit_intercept': True,\n",
       "   'linearregression__normalize': True,\n",
       "   'polynomialfeatures__degree': 19},\n",
       "  {'linearregression__fit_intercept': True,\n",
       "   'linearregression__normalize': True,\n",
       "   'polynomialfeatures__degree': 20},\n",
       "  {'linearregression__fit_intercept': True,\n",
       "   'linearregression__normalize': False,\n",
       "   'polynomialfeatures__degree': 0},\n",
       "  {'linearregression__fit_intercept': True,\n",
       "   'linearregression__normalize': False,\n",
       "   'polynomialfeatures__degree': 1},\n",
       "  {'linearregression__fit_intercept': True,\n",
       "   'linearregression__normalize': False,\n",
       "   'polynomialfeatures__degree': 2},\n",
       "  {'linearregression__fit_intercept': True,\n",
       "   'linearregression__normalize': False,\n",
       "   'polynomialfeatures__degree': 3},\n",
       "  {'linearregression__fit_intercept': True,\n",
       "   'linearregression__normalize': False,\n",
       "   'polynomialfeatures__degree': 4},\n",
       "  {'linearregression__fit_intercept': True,\n",
       "   'linearregression__normalize': False,\n",
       "   'polynomialfeatures__degree': 5},\n",
       "  {'linearregression__fit_intercept': True,\n",
       "   'linearregression__normalize': False,\n",
       "   'polynomialfeatures__degree': 6},\n",
       "  {'linearregression__fit_intercept': True,\n",
       "   'linearregression__normalize': False,\n",
       "   'polynomialfeatures__degree': 7},\n",
       "  {'linearregression__fit_intercept': True,\n",
       "   'linearregression__normalize': False,\n",
       "   'polynomialfeatures__degree': 8},\n",
       "  {'linearregression__fit_intercept': True,\n",
       "   'linearregression__normalize': False,\n",
       "   'polynomialfeatures__degree': 9},\n",
       "  {'linearregression__fit_intercept': True,\n",
       "   'linearregression__normalize': False,\n",
       "   'polynomialfeatures__degree': 10},\n",
       "  {'linearregression__fit_intercept': True,\n",
       "   'linearregression__normalize': False,\n",
       "   'polynomialfeatures__degree': 11},\n",
       "  {'linearregression__fit_intercept': True,\n",
       "   'linearregression__normalize': False,\n",
       "   'polynomialfeatures__degree': 12},\n",
       "  {'linearregression__fit_intercept': True,\n",
       "   'linearregression__normalize': False,\n",
       "   'polynomialfeatures__degree': 13},\n",
       "  {'linearregression__fit_intercept': True,\n",
       "   'linearregression__normalize': False,\n",
       "   'polynomialfeatures__degree': 14},\n",
       "  {'linearregression__fit_intercept': True,\n",
       "   'linearregression__normalize': False,\n",
       "   'polynomialfeatures__degree': 15},\n",
       "  {'linearregression__fit_intercept': True,\n",
       "   'linearregression__normalize': False,\n",
       "   'polynomialfeatures__degree': 16},\n",
       "  {'linearregression__fit_intercept': True,\n",
       "   'linearregression__normalize': False,\n",
       "   'polynomialfeatures__degree': 17},\n",
       "  {'linearregression__fit_intercept': True,\n",
       "   'linearregression__normalize': False,\n",
       "   'polynomialfeatures__degree': 18},\n",
       "  {'linearregression__fit_intercept': True,\n",
       "   'linearregression__normalize': False,\n",
       "   'polynomialfeatures__degree': 19},\n",
       "  {'linearregression__fit_intercept': True,\n",
       "   'linearregression__normalize': False,\n",
       "   'polynomialfeatures__degree': 20},\n",
       "  {'linearregression__fit_intercept': False,\n",
       "   'linearregression__normalize': True,\n",
       "   'polynomialfeatures__degree': 0},\n",
       "  {'linearregression__fit_intercept': False,\n",
       "   'linearregression__normalize': True,\n",
       "   'polynomialfeatures__degree': 1},\n",
       "  {'linearregression__fit_intercept': False,\n",
       "   'linearregression__normalize': True,\n",
       "   'polynomialfeatures__degree': 2},\n",
       "  {'linearregression__fit_intercept': False,\n",
       "   'linearregression__normalize': True,\n",
       "   'polynomialfeatures__degree': 3},\n",
       "  {'linearregression__fit_intercept': False,\n",
       "   'linearregression__normalize': True,\n",
       "   'polynomialfeatures__degree': 4},\n",
       "  {'linearregression__fit_intercept': False,\n",
       "   'linearregression__normalize': True,\n",
       "   'polynomialfeatures__degree': 5},\n",
       "  {'linearregression__fit_intercept': False,\n",
       "   'linearregression__normalize': True,\n",
       "   'polynomialfeatures__degree': 6},\n",
       "  {'linearregression__fit_intercept': False,\n",
       "   'linearregression__normalize': True,\n",
       "   'polynomialfeatures__degree': 7},\n",
       "  {'linearregression__fit_intercept': False,\n",
       "   'linearregression__normalize': True,\n",
       "   'polynomialfeatures__degree': 8},\n",
       "  {'linearregression__fit_intercept': False,\n",
       "   'linearregression__normalize': True,\n",
       "   'polynomialfeatures__degree': 9},\n",
       "  {'linearregression__fit_intercept': False,\n",
       "   'linearregression__normalize': True,\n",
       "   'polynomialfeatures__degree': 10},\n",
       "  {'linearregression__fit_intercept': False,\n",
       "   'linearregression__normalize': True,\n",
       "   'polynomialfeatures__degree': 11},\n",
       "  {'linearregression__fit_intercept': False,\n",
       "   'linearregression__normalize': True,\n",
       "   'polynomialfeatures__degree': 12},\n",
       "  {'linearregression__fit_intercept': False,\n",
       "   'linearregression__normalize': True,\n",
       "   'polynomialfeatures__degree': 13},\n",
       "  {'linearregression__fit_intercept': False,\n",
       "   'linearregression__normalize': True,\n",
       "   'polynomialfeatures__degree': 14},\n",
       "  {'linearregression__fit_intercept': False,\n",
       "   'linearregression__normalize': True,\n",
       "   'polynomialfeatures__degree': 15},\n",
       "  {'linearregression__fit_intercept': False,\n",
       "   'linearregression__normalize': True,\n",
       "   'polynomialfeatures__degree': 16},\n",
       "  {'linearregression__fit_intercept': False,\n",
       "   'linearregression__normalize': True,\n",
       "   'polynomialfeatures__degree': 17},\n",
       "  {'linearregression__fit_intercept': False,\n",
       "   'linearregression__normalize': True,\n",
       "   'polynomialfeatures__degree': 18},\n",
       "  {'linearregression__fit_intercept': False,\n",
       "   'linearregression__normalize': True,\n",
       "   'polynomialfeatures__degree': 19},\n",
       "  {'linearregression__fit_intercept': False,\n",
       "   'linearregression__normalize': True,\n",
       "   'polynomialfeatures__degree': 20},\n",
       "  {'linearregression__fit_intercept': False,\n",
       "   'linearregression__normalize': False,\n",
       "   'polynomialfeatures__degree': 0},\n",
       "  {'linearregression__fit_intercept': False,\n",
       "   'linearregression__normalize': False,\n",
       "   'polynomialfeatures__degree': 1},\n",
       "  {'linearregression__fit_intercept': False,\n",
       "   'linearregression__normalize': False,\n",
       "   'polynomialfeatures__degree': 2},\n",
       "  {'linearregression__fit_intercept': False,\n",
       "   'linearregression__normalize': False,\n",
       "   'polynomialfeatures__degree': 3},\n",
       "  {'linearregression__fit_intercept': False,\n",
       "   'linearregression__normalize': False,\n",
       "   'polynomialfeatures__degree': 4},\n",
       "  {'linearregression__fit_intercept': False,\n",
       "   'linearregression__normalize': False,\n",
       "   'polynomialfeatures__degree': 5},\n",
       "  {'linearregression__fit_intercept': False,\n",
       "   'linearregression__normalize': False,\n",
       "   'polynomialfeatures__degree': 6},\n",
       "  {'linearregression__fit_intercept': False,\n",
       "   'linearregression__normalize': False,\n",
       "   'polynomialfeatures__degree': 7},\n",
       "  {'linearregression__fit_intercept': False,\n",
       "   'linearregression__normalize': False,\n",
       "   'polynomialfeatures__degree': 8},\n",
       "  {'linearregression__fit_intercept': False,\n",
       "   'linearregression__normalize': False,\n",
       "   'polynomialfeatures__degree': 9},\n",
       "  {'linearregression__fit_intercept': False,\n",
       "   'linearregression__normalize': False,\n",
       "   'polynomialfeatures__degree': 10},\n",
       "  {'linearregression__fit_intercept': False,\n",
       "   'linearregression__normalize': False,\n",
       "   'polynomialfeatures__degree': 11},\n",
       "  {'linearregression__fit_intercept': False,\n",
       "   'linearregression__normalize': False,\n",
       "   'polynomialfeatures__degree': 12},\n",
       "  {'linearregression__fit_intercept': False,\n",
       "   'linearregression__normalize': False,\n",
       "   'polynomialfeatures__degree': 13},\n",
       "  {'linearregression__fit_intercept': False,\n",
       "   'linearregression__normalize': False,\n",
       "   'polynomialfeatures__degree': 14},\n",
       "  {'linearregression__fit_intercept': False,\n",
       "   'linearregression__normalize': False,\n",
       "   'polynomialfeatures__degree': 15},\n",
       "  {'linearregression__fit_intercept': False,\n",
       "   'linearregression__normalize': False,\n",
       "   'polynomialfeatures__degree': 16},\n",
       "  {'linearregression__fit_intercept': False,\n",
       "   'linearregression__normalize': False,\n",
       "   'polynomialfeatures__degree': 17},\n",
       "  {'linearregression__fit_intercept': False,\n",
       "   'linearregression__normalize': False,\n",
       "   'polynomialfeatures__degree': 18},\n",
       "  {'linearregression__fit_intercept': False,\n",
       "   'linearregression__normalize': False,\n",
       "   'polynomialfeatures__degree': 19},\n",
       "  {'linearregression__fit_intercept': False,\n",
       "   'linearregression__normalize': False,\n",
       "   'polynomialfeatures__degree': 20}],\n",
       " 'split0_test_score': array([-7.62502365e-02,  5.96755768e-01,  7.30282148e-01,  8.58852307e-01,\n",
       "         8.09673393e-01,  8.83437009e-01,  5.57587283e-01,  3.16238053e-01,\n",
       "        -1.04727170e+00, -1.20769350e+01, -7.73383991e+00, -3.47180671e+01,\n",
       "        -4.46053116e+01, -8.23873630e+00, -2.52496837e+02, -6.90599130e+02,\n",
       "        -4.05742942e+03, -3.26640423e+02, -5.61038495e+02, -1.65295460e+05,\n",
       "        -1.13876548e+04, -7.62502365e-02,  5.96755768e-01,  7.30282148e-01,\n",
       "         8.58852307e-01,  8.09673393e-01,  8.83437009e-01,  5.57587283e-01,\n",
       "         3.16238053e-01, -1.04727170e+00, -1.20769350e+01, -7.73383991e+00,\n",
       "        -3.47180672e+01, -4.46053112e+01, -8.23873731e+00, -2.52496733e+02,\n",
       "        -6.90596980e+02, -4.05747019e+03, -3.26471235e+02, -5.63854165e+02,\n",
       "        -1.65674756e+05, -8.20559237e+03, -7.62502365e-02,  5.96755768e-01,\n",
       "         7.30282148e-01,  8.58852307e-01,  8.09673393e-01,  8.83437009e-01,\n",
       "         5.57587283e-01,  3.16238053e-01, -1.04727170e+00, -1.20769350e+01,\n",
       "        -7.73383991e+00, -3.47180671e+01, -4.46053119e+01, -8.23873448e+00,\n",
       "        -2.52496908e+02, -6.90603340e+02, -4.05733325e+03, -3.26798966e+02,\n",
       "        -5.58294287e+02, -1.64369430e+05, -3.16656702e+05, -7.62502365e-02,\n",
       "         5.96755768e-01,  7.30282148e-01,  8.58852307e-01,  8.09673393e-01,\n",
       "         8.83437009e-01,  5.57587283e-01,  3.16238053e-01, -1.04727170e+00,\n",
       "        -1.20769350e+01, -7.73383991e+00, -3.47180671e+01, -4.46053119e+01,\n",
       "        -8.23873448e+00, -2.52496908e+02, -6.90603340e+02, -4.05733325e+03,\n",
       "        -3.26798966e+02, -5.58294287e+02, -1.64369430e+05, -3.16656702e+05]),\n",
       " 'split1_test_score': array([-0.01037094,  0.37970477,  0.59440243,  0.7337783 ,  0.83112292,\n",
       "         0.85090088,  0.85410328,  0.84298257,  0.84458372,  0.83001795,\n",
       "         0.84587338,  0.84542064,  0.83009628,  0.85131329,  0.83045283,\n",
       "         0.83127016,  0.82960635,  0.83385716,  0.83290873,  0.82383713,\n",
       "         0.82222537, -0.01037094,  0.37970477,  0.59440243,  0.7337783 ,\n",
       "         0.83112292,  0.85090088,  0.85410328,  0.84298257,  0.84458372,\n",
       "         0.83001795,  0.84587338,  0.84542064,  0.83009628,  0.85131329,\n",
       "         0.83045283,  0.83127014,  0.82960636,  0.83385709,  0.8329082 ,\n",
       "         0.82408256,  0.8215251 , -0.01037094,  0.37970477,  0.59440243,\n",
       "         0.7337783 ,  0.83112292,  0.85090088,  0.85410328,  0.84298257,\n",
       "         0.84458372,  0.83001795,  0.84587338,  0.84542064,  0.83009628,\n",
       "         0.85131329,  0.8304528 ,  0.83127013,  0.82960609,  0.8338552 ,\n",
       "         0.83291015,  0.82375447,  0.82082797, -0.01037094,  0.37970477,\n",
       "         0.59440243,  0.7337783 ,  0.83112292,  0.85090088,  0.85410328,\n",
       "         0.84298257,  0.84458372,  0.83001795,  0.84587338,  0.84542064,\n",
       "         0.83009628,  0.85131329,  0.8304528 ,  0.83127013,  0.82960609,\n",
       "         0.8338552 ,  0.83291015,  0.82375447,  0.82082797]),\n",
       " 'split2_test_score': array([-0.00200504,  0.69134131,  0.82074167,  0.8858432 ,  0.93343096,\n",
       "         0.93379029,  0.94209791,  0.94431474,  0.94501675,  0.94359293,\n",
       "         0.95284688,  0.95216798,  0.94685588,  0.94374655,  0.94416336,\n",
       "         0.94564452,  0.9456625 ,  0.94824913,  0.93809422,  0.93889695,\n",
       "         0.91971565, -0.00200504,  0.69134131,  0.82074167,  0.8858432 ,\n",
       "         0.93343096,  0.93379029,  0.94209791,  0.94431474,  0.94501675,\n",
       "         0.94359293,  0.95284688,  0.95216798,  0.94685588,  0.94374655,\n",
       "         0.94416336,  0.94564452,  0.94566254,  0.94824932,  0.93809284,\n",
       "         0.93878636,  0.91869997, -0.00200504,  0.69134131,  0.82074167,\n",
       "         0.8858432 ,  0.93343096,  0.93379029,  0.94209791,  0.94431474,\n",
       "         0.94501675,  0.94359293,  0.95284688,  0.95216798,  0.94685588,\n",
       "         0.94374655,  0.94416336,  0.94564453,  0.94566251,  0.94824865,\n",
       "         0.93809793,  0.93882698,  0.91874035, -0.00200504,  0.69134131,\n",
       "         0.82074167,  0.8858432 ,  0.93343096,  0.93379029,  0.94209791,\n",
       "         0.94431474,  0.94501675,  0.94359293,  0.95284688,  0.95216798,\n",
       "         0.94685588,  0.94374655,  0.94416336,  0.94564453,  0.94566251,\n",
       "         0.94824865,  0.93809793,  0.93882698,  0.91874035]),\n",
       " 'split3_test_score': array([-0.0902566 ,  0.4571663 ,  0.73555654,  0.82795742,  0.88474636,\n",
       "         0.89738873,  0.89827789,  0.88582702,  0.88622583,  0.88163491,\n",
       "         0.89372238,  0.89242791,  0.89246993,  0.89824669,  0.89573115,\n",
       "         0.89755117,  0.89507997,  0.89151798,  0.89122931,  0.89201865,\n",
       "         0.8934223 , -0.0902566 ,  0.4571663 ,  0.73555654,  0.82795742,\n",
       "         0.88474636,  0.89738873,  0.89827789,  0.88582702,  0.88622583,\n",
       "         0.88163491,  0.89372238,  0.89242791,  0.89246993,  0.89824669,\n",
       "         0.89573116,  0.89755118,  0.89507997,  0.89151829,  0.89123042,\n",
       "         0.89201885,  0.89334808, -0.0902566 ,  0.4571663 ,  0.73555654,\n",
       "         0.82795742,  0.88474636,  0.89738873,  0.89827789,  0.88582702,\n",
       "         0.88622583,  0.88163491,  0.89372238,  0.89242791,  0.89246993,\n",
       "         0.89824669,  0.89573115,  0.89755118,  0.89507998,  0.8915179 ,\n",
       "         0.89122966,  0.89201333,  0.89318732, -0.0902566 ,  0.4571663 ,\n",
       "         0.73555654,  0.82795742,  0.88474636,  0.89738873,  0.89827789,\n",
       "         0.88582702,  0.88622583,  0.88163491,  0.89372238,  0.89242791,\n",
       "         0.89246993,  0.89824669,  0.89573115,  0.89755118,  0.89507998,\n",
       "         0.8915179 ,  0.89122966,  0.89201333,  0.89318732]),\n",
       " 'split4_test_score': array([-3.47097083e-03,  5.99393306e-01,  7.86711927e-01,  8.61481097e-01,\n",
       "         8.80172305e-01,  8.80263700e-01,  8.30975277e-01,  8.56346845e-01,\n",
       "         8.18687363e-01,  5.70800954e-01,  8.83930209e-01, -5.77553212e-01,\n",
       "        -1.41911596e+01,  5.92079055e-01, -1.38320639e+01, -1.71365114e+03,\n",
       "        -1.35502915e+03, -7.02584889e+02, -2.63932282e+04, -8.79235110e+04,\n",
       "        -1.12578954e+06, -3.47097083e-03,  5.99393306e-01,  7.86711927e-01,\n",
       "         8.61481097e-01,  8.80172305e-01,  8.80263700e-01,  8.30975277e-01,\n",
       "         8.56346845e-01,  8.18687363e-01,  5.70800954e-01,  8.83930208e-01,\n",
       "        -5.77553199e-01, -1.41911601e+01,  5.92079003e-01, -1.38321025e+01,\n",
       "        -1.71365180e+03, -1.35527945e+03, -7.03583419e+02, -2.65175200e+04,\n",
       "        -8.99269949e+04, -2.25320940e+05, -3.47097083e-03,  5.99393306e-01,\n",
       "         7.86711927e-01,  8.61481097e-01,  8.80172305e-01,  8.80263700e-01,\n",
       "         8.30975277e-01,  8.56346845e-01,  8.18687363e-01,  5.70800954e-01,\n",
       "         8.83930209e-01, -5.77553204e-01, -1.41911600e+01,  5.92078963e-01,\n",
       "        -1.38320854e+01, -1.71363135e+03, -1.35516373e+03, -7.02735723e+02,\n",
       "        -2.64812991e+04, -9.11745588e+04, -2.24905481e+05, -3.47097083e-03,\n",
       "         5.99393306e-01,  7.86711927e-01,  8.61481097e-01,  8.80172305e-01,\n",
       "         8.80263700e-01,  8.30975277e-01,  8.56346845e-01,  8.18687363e-01,\n",
       "         5.70800954e-01,  8.83930209e-01, -5.77553204e-01, -1.41911600e+01,\n",
       "         5.92078963e-01, -1.38320854e+01, -1.71363135e+03, -1.35516373e+03,\n",
       "        -7.02735723e+02, -2.64812991e+04, -9.11745588e+04, -2.24905481e+05]),\n",
       " 'mean_test_score': array([-3.64707579e-02,  5.44872292e-01,  7.33538944e-01,  8.33582463e-01,\n",
       "         8.67829186e-01,  8.89156123e-01,  8.16608328e-01,  7.69141845e-01,\n",
       "         4.89448392e-01, -1.77017765e+00, -8.31493412e-01, -6.52112076e+00,\n",
       "        -1.12254098e+01, -9.90670143e-01, -5.27317107e+01, -4.80315160e+02,\n",
       "        -1.08195765e+03, -2.05310338e+02, -5.39032090e+03, -5.06432633e+04,\n",
       "        -2.27434913e+05, -3.64707579e-02,  5.44872292e-01,  7.33538944e-01,\n",
       "         8.33582463e-01,  8.67829186e-01,  8.89156123e-01,  8.16608328e-01,\n",
       "         7.69141845e-01,  4.89448392e-01, -1.77017765e+00, -8.31493411e-01,\n",
       "        -6.52112077e+00, -1.12254098e+01, -9.90670357e-01, -5.27316977e+01,\n",
       "        -4.80314864e+02, -1.08201586e+03, -2.05476206e+02, -5.41574238e+03,\n",
       "        -5.11198192e+04, -4.67047797e+04, -3.64707579e-02,  5.44872292e-01,\n",
       "         7.33538944e-01,  8.33582463e-01,  8.67829186e-01,  8.89156123e-01,\n",
       "         8.16608328e-01,  7.69141845e-01,  4.89448392e-01, -1.77017765e+00,\n",
       "        -8.31493412e-01, -6.52112075e+00, -1.12254100e+01, -9.90669799e-01,\n",
       "        -5.27317293e+01, -4.80312045e+02, -1.08196532e+03, -2.05372214e+02,\n",
       "        -5.40738623e+03, -5.11082668e+04, -1.08311910e+05, -3.64707579e-02,\n",
       "         5.44872292e-01,  7.33538944e-01,  8.33582463e-01,  8.67829186e-01,\n",
       "         8.89156123e-01,  8.16608328e-01,  7.69141845e-01,  4.89448392e-01,\n",
       "        -1.77017765e+00, -8.31493412e-01, -6.52112075e+00, -1.12254100e+01,\n",
       "        -9.90669799e-01, -5.27317293e+01, -4.80312045e+02, -1.08196532e+03,\n",
       "        -2.05372214e+02, -5.40738623e+03, -5.11082668e+04, -1.08311910e+05]),\n",
       " 'std_test_score': array([3.85574791e-02, 1.11436315e-01, 7.72079396e-02, 5.31800638e-02,\n",
       "        4.35237456e-02, 2.69637988e-02, 1.34997581e-01, 2.29120048e-01,\n",
       "        7.69545698e-01, 5.15494142e+00, 3.45134364e+00, 1.41100706e+01,\n",
       "        1.76825100e+01, 3.62608427e+00, 1.00045185e+02, 6.72311907e+02,\n",
       "        1.57769948e+03, 2.79127286e+02, 1.05037085e+04, 6.66774811e+04,\n",
       "        4.49198971e+05, 3.85574791e-02, 1.11436315e-01, 7.72079396e-02,\n",
       "        5.31800638e-02, 4.35237456e-02, 2.69637988e-02, 1.34997581e-01,\n",
       "        2.29120048e-01, 7.69545698e-01, 5.15494142e+00, 3.45134364e+00,\n",
       "        1.41100706e+01, 1.76825099e+01, 3.62608467e+00, 1.00045141e+02,\n",
       "        6.72312017e+02, 1.57772352e+03, 2.79468470e+02, 1.05531557e+04,\n",
       "        6.70355273e+04, 8.93646187e+04, 3.85574791e-02, 1.11436315e-01,\n",
       "        7.72079396e-02, 5.31800638e-02, 4.35237456e-02, 2.69637988e-02,\n",
       "        1.34997581e-01, 2.29120048e-01, 7.69545698e-01, 5.15494142e+00,\n",
       "        3.45134364e+00, 1.41100706e+01, 1.76825101e+01, 3.62608354e+00,\n",
       "        1.00045212e+02, 6.72304911e+02, 1.57766786e+03, 2.79194814e+02,\n",
       "        1.05391818e+04, 6.67380475e+04, 1.35791453e+05, 3.85574791e-02,\n",
       "        1.11436315e-01, 7.72079396e-02, 5.31800638e-02, 4.35237456e-02,\n",
       "        2.69637988e-02, 1.34997581e-01, 2.29120048e-01, 7.69545698e-01,\n",
       "        5.15494142e+00, 3.45134364e+00, 1.41100706e+01, 1.76825101e+01,\n",
       "        3.62608354e+00, 1.00045212e+02, 6.72304911e+02, 1.57766786e+03,\n",
       "        2.79194814e+02, 1.05391818e+04, 6.67380475e+04, 1.35791453e+05]),\n",
       " 'rank_test_score': array([35, 25, 24,  9,  7,  2, 16, 18, 31, 47, 40, 51, 53, 43, 58, 68, 69,\n",
       "        61, 73, 78, 84, 35, 26, 23,  9,  8,  1, 15, 17, 32, 48, 37, 52, 54,\n",
       "        44, 57, 67, 72, 64, 76, 81, 77, 33, 26, 21, 11,  5,  3, 13, 19, 29,\n",
       "        45, 38, 49, 55, 41, 59, 65, 70, 62, 74, 79, 82, 33, 26, 21, 11,  5,\n",
       "         3, 13, 19, 29, 45, 38, 49, 55, 41, 59, 65, 70, 62, 74, 79, 82])}"
      ]
     },
     "execution_count": 12,
     "metadata": {},
     "output_type": "execute_result"
    }
   ],
   "source": [
    "grid.cv_results_"
   ]
  },
  {
   "cell_type": "markdown",
   "metadata": {},
   "source": [
    "It's a lot of data on each model combination, but what we're really interested in is the best model. We can access this in two ways:\n",
    "1. `grid.best_params_`: the parameters to create the best model"
   ]
  },
  {
   "cell_type": "code",
   "execution_count": 13,
   "metadata": {},
   "outputs": [
    {
     "data": {
      "text/plain": [
       "{'linearregression__fit_intercept': True,\n",
       " 'linearregression__normalize': False,\n",
       " 'polynomialfeatures__degree': 5}"
      ]
     },
     "execution_count": 13,
     "metadata": {},
     "output_type": "execute_result"
    }
   ],
   "source": [
    "grid.best_params_"
   ]
  },
  {
   "cell_type": "markdown",
   "metadata": {},
   "source": [
    "`fit_intercept` is `False`, so `normalize` shouldn't matter\n",
    "    \n",
    "2. `grid.best_estimator_`: the fully fit best model, which we can use directly in predictions"
   ]
  },
  {
   "cell_type": "code",
   "execution_count": 14,
   "metadata": {},
   "outputs": [
    {
     "data": {
      "image/png": "[encoded data removed]",
      "text/plain": [
       "<Figure size 432x288 with 1 Axes>"
      ]
     },
     "metadata": {},
     "output_type": "display_data"
    }
   ],
   "source": [
    "model = grid.best_estimator_\n",
    "\n",
    "plt.scatter(X, y)\n",
    "y_fit = model.predict(np.arange(0, 1, .01)[:, np.newaxis])\n",
    "plt.plot(np.arange(0, 1, .01), y_fit, color='red', linestyle='--');"
   ]
  },
  {
   "cell_type": "markdown",
   "metadata": {},
   "source": [
    "We can get the best model's score with:"
   ]
  },
  {
   "cell_type": "code",
   "execution_count": 15,
   "metadata": {},
   "outputs": [
    {
     "data": {
      "text/plain": [
       "0.8891561231283086"
      ]
     },
     "execution_count": 15,
     "metadata": {},
     "output_type": "execute_result"
    }
   ],
   "source": [
    "grid.best_score_"
   ]
  },
  {
   "cell_type": "markdown",
   "metadata": {},
   "source": [
    "The last step is to check the test score:"
   ]
  },
  {
   "cell_type": "code",
   "execution_count": 16,
   "metadata": {},
   "outputs": [
    {
     "data": {
      "text/plain": [
       "0.778005816570997"
      ]
     },
     "execution_count": 16,
     "metadata": {},
     "output_type": "execute_result"
    }
   ],
   "source": [
    "model.score(X_test, y_test)"
   ]
  },
  {
   "cell_type": "markdown",
   "metadata": {},
   "source": [
    "I used a couple of NumPy functions to generate random data and to plot regression lines, such as [`np.arange()`](https://numpy.org/doc/stable/reference/generated/numpy.arange.html). Feel free to check them out if you're interested, but they won't be part of any assignment."
   ]
  },
  {
   "cell_type": "markdown",
   "metadata": {
    "deletable": false,
    "editable": false
   },
   "source": [
    "© 2023 Philipp Cornelius"
   ]
  }
 ],
 "metadata": {
  "kernelspec": {
   "display_name": "Python 3",
   "language": "python",
   "name": "python3"
  },
  "language_info": {
   "codemirror_mode": {
    "name": "ipython",
    "version": 3
   },
   "file_extension": ".py",
   "mimetype": "text/x-python",
   "name": "python",
   "nbconvert_exporter": "python",
   "pygments_lexer": "ipython3",
   "version": "3.8.1"
  }
 },
 "nbformat": 4,
 "nbformat_minor": 4
}
