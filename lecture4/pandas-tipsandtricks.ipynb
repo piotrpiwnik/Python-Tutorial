{
 "cells": [
  {
   "cell_type": "markdown",
   "metadata": {},
   "source": [
    "# Lecture 5: Pandas Tips & Tricks\n",
    "\n",
    "* Missing data in Pandas\n",
    "* String accessor\n",
    "* Date parsing & date accessor\n",
    "* Resetting and setting an explicit index"
   ]
  },
  {
   "cell_type": "markdown",
   "metadata": {},
   "source": [
    "## Imports"
   ]
  },
  {
   "cell_type": "code",
   "execution_count": 1,
   "metadata": {},
   "outputs": [],
   "source": [
    "import pandas as pd, numpy as np"
   ]
  },
  {
   "cell_type": "markdown",
   "metadata": {},
   "source": [
    "## Data"
   ]
  },
  {
   "cell_type": "markdown",
   "metadata": {},
   "source": [
    "We use the slightly expanded student data from *Lecture 4*:"
   ]
  },
  {
   "cell_type": "code",
   "execution_count": 2,
   "metadata": {},
   "outputs": [
    {
     "data": {
      "text/html": [
       "<div>\n",
       "<style scoped>\n",
       "    .dataframe tbody tr th:only-of-type {\n",
       "        vertical-align: middle;\n",
       "    }\n",
       "\n",
       "    .dataframe tbody tr th {\n",
       "        vertical-align: top;\n",
       "    }\n",
       "\n",
       "    .dataframe thead th {\n",
       "        text-align: right;\n",
       "    }\n",
       "</style>\n",
       "<table border=\"1\" class=\"dataframe\">\n",
       "  <thead>\n",
       "    <tr style=\"text-align: right;\">\n",
       "      <th></th>\n",
       "      <th>student</th>\n",
       "      <th>programme</th>\n",
       "      <th>enrolment</th>\n",
       "      <th>first_class</th>\n",
       "      <th>classes_taken</th>\n",
       "    </tr>\n",
       "  </thead>\n",
       "  <tbody>\n",
       "    <tr>\n",
       "      <th>0</th>\n",
       "      <td>Bob</td>\n",
       "      <td>BIM</td>\n",
       "      <td>2008</td>\n",
       "      <td>01/09/2008</td>\n",
       "      <td>10.0</td>\n",
       "    </tr>\n",
       "    <tr>\n",
       "      <th>1</th>\n",
       "      <td>Jake</td>\n",
       "      <td>MiM</td>\n",
       "      <td>2012</td>\n",
       "      <td>01/10/2012</td>\n",
       "      <td>4.0</td>\n",
       "    </tr>\n",
       "    <tr>\n",
       "      <th>2</th>\n",
       "      <td>Lisa</td>\n",
       "      <td>IM</td>\n",
       "      <td>2004</td>\n",
       "      <td>15/09/2004</td>\n",
       "      <td>7.0</td>\n",
       "    </tr>\n",
       "    <tr>\n",
       "      <th>3</th>\n",
       "      <td>Sue</td>\n",
       "      <td>BIM</td>\n",
       "      <td>missing</td>\n",
       "      <td>NaN</td>\n",
       "      <td>2.0</td>\n",
       "    </tr>\n",
       "    <tr>\n",
       "      <th>4</th>\n",
       "      <td>William</td>\n",
       "      <td>SCM</td>\n",
       "      <td>2008</td>\n",
       "      <td>01/01/2009</td>\n",
       "      <td>NaN</td>\n",
       "    </tr>\n",
       "    <tr>\n",
       "      <th>5</th>\n",
       "      <td>James</td>\n",
       "      <td>BIM</td>\n",
       "      <td>2012</td>\n",
       "      <td>01/10/2012</td>\n",
       "      <td>NaN</td>\n",
       "    </tr>\n",
       "    <tr>\n",
       "      <th>6</th>\n",
       "      <td>Harper</td>\n",
       "      <td>BIM</td>\n",
       "      <td>2004</td>\n",
       "      <td>30/08/2004</td>\n",
       "      <td>NaN</td>\n",
       "    </tr>\n",
       "    <tr>\n",
       "      <th>7</th>\n",
       "      <td>Mason</td>\n",
       "      <td>IM</td>\n",
       "      <td>2009</td>\n",
       "      <td>10/09/2009</td>\n",
       "      <td>3.0</td>\n",
       "    </tr>\n",
       "    <tr>\n",
       "      <th>8</th>\n",
       "      <td>Evelyn</td>\n",
       "      <td>IM</td>\n",
       "      <td>missing</td>\n",
       "      <td>NaN</td>\n",
       "      <td>4.0</td>\n",
       "    </tr>\n",
       "    <tr>\n",
       "      <th>9</th>\n",
       "      <td>Ella</td>\n",
       "      <td>SCM</td>\n",
       "      <td>2012</td>\n",
       "      <td>02/10/2012</td>\n",
       "      <td>5.0</td>\n",
       "    </tr>\n",
       "    <tr>\n",
       "      <th>10</th>\n",
       "      <td>Jackson</td>\n",
       "      <td>MiM</td>\n",
       "      <td>2004</td>\n",
       "      <td>01/09/2004</td>\n",
       "      <td>NaN</td>\n",
       "    </tr>\n",
       "    <tr>\n",
       "      <th>11</th>\n",
       "      <td>Avery</td>\n",
       "      <td>MiM</td>\n",
       "      <td>2005</td>\n",
       "      <td>05/02/2006</td>\n",
       "      <td>10.0</td>\n",
       "    </tr>\n",
       "  </tbody>\n",
       "</table>\n",
       "</div>"
      ],
      "text/plain": [
       "    student programme enrolment first_class  classes_taken\n",
       "0       Bob       BIM      2008  01/09/2008           10.0\n",
       "1      Jake       MiM      2012  01/10/2012            4.0\n",
       "2      Lisa        IM      2004  15/09/2004            7.0\n",
       "3       Sue       BIM   missing         NaN            2.0\n",
       "4   William       SCM      2008  01/01/2009            NaN\n",
       "5     James       BIM      2012  01/10/2012            NaN\n",
       "6    Harper       BIM      2004  30/08/2004            NaN\n",
       "7     Mason        IM      2009  10/09/2009            3.0\n",
       "8    Evelyn        IM   missing         NaN            4.0\n",
       "9      Ella       SCM      2012  02/10/2012            5.0\n",
       "10  Jackson       MiM      2004  01/09/2004            NaN\n",
       "11    Avery       MiM      2005  05/02/2006           10.0"
      ]
     },
     "execution_count": 2,
     "metadata": {},
     "output_type": "execute_result"
    }
   ],
   "source": [
    "df = pd.read_csv('students.csv')\n",
    "df"
   ]
  },
  {
   "cell_type": "markdown",
   "metadata": {},
   "source": [
    "We already saw how to use `pandas.to_numeric()` to convert enrolment into an integer variable:"
   ]
  },
  {
   "cell_type": "code",
   "execution_count": 3,
   "metadata": {},
   "outputs": [
    {
     "data": {
      "text/html": [
       "<div>\n",
       "<style scoped>\n",
       "    .dataframe tbody tr th:only-of-type {\n",
       "        vertical-align: middle;\n",
       "    }\n",
       "\n",
       "    .dataframe tbody tr th {\n",
       "        vertical-align: top;\n",
       "    }\n",
       "\n",
       "    .dataframe thead th {\n",
       "        text-align: right;\n",
       "    }\n",
       "</style>\n",
       "<table border=\"1\" class=\"dataframe\">\n",
       "  <thead>\n",
       "    <tr style=\"text-align: right;\">\n",
       "      <th></th>\n",
       "      <th>student</th>\n",
       "      <th>programme</th>\n",
       "      <th>enrolment</th>\n",
       "      <th>first_class</th>\n",
       "      <th>classes_taken</th>\n",
       "    </tr>\n",
       "  </thead>\n",
       "  <tbody>\n",
       "    <tr>\n",
       "      <th>0</th>\n",
       "      <td>Bob</td>\n",
       "      <td>BIM</td>\n",
       "      <td>2008.0</td>\n",
       "      <td>01/09/2008</td>\n",
       "      <td>10.0</td>\n",
       "    </tr>\n",
       "    <tr>\n",
       "      <th>1</th>\n",
       "      <td>Jake</td>\n",
       "      <td>MiM</td>\n",
       "      <td>2012.0</td>\n",
       "      <td>01/10/2012</td>\n",
       "      <td>4.0</td>\n",
       "    </tr>\n",
       "    <tr>\n",
       "      <th>2</th>\n",
       "      <td>Lisa</td>\n",
       "      <td>IM</td>\n",
       "      <td>2004.0</td>\n",
       "      <td>15/09/2004</td>\n",
       "      <td>7.0</td>\n",
       "    </tr>\n",
       "    <tr>\n",
       "      <th>3</th>\n",
       "      <td>Sue</td>\n",
       "      <td>BIM</td>\n",
       "      <td>NaN</td>\n",
       "      <td>NaN</td>\n",
       "      <td>2.0</td>\n",
       "    </tr>\n",
       "    <tr>\n",
       "      <th>4</th>\n",
       "      <td>William</td>\n",
       "      <td>SCM</td>\n",
       "      <td>2008.0</td>\n",
       "      <td>01/01/2009</td>\n",
       "      <td>NaN</td>\n",
       "    </tr>\n",
       "    <tr>\n",
       "      <th>5</th>\n",
       "      <td>James</td>\n",
       "      <td>BIM</td>\n",
       "      <td>2012.0</td>\n",
       "      <td>01/10/2012</td>\n",
       "      <td>NaN</td>\n",
       "    </tr>\n",
       "    <tr>\n",
       "      <th>6</th>\n",
       "      <td>Harper</td>\n",
       "      <td>BIM</td>\n",
       "      <td>2004.0</td>\n",
       "      <td>30/08/2004</td>\n",
       "      <td>NaN</td>\n",
       "    </tr>\n",
       "    <tr>\n",
       "      <th>7</th>\n",
       "      <td>Mason</td>\n",
       "      <td>IM</td>\n",
       "      <td>2009.0</td>\n",
       "      <td>10/09/2009</td>\n",
       "      <td>3.0</td>\n",
       "    </tr>\n",
       "    <tr>\n",
       "      <th>8</th>\n",
       "      <td>Evelyn</td>\n",
       "      <td>IM</td>\n",
       "      <td>NaN</td>\n",
       "      <td>NaN</td>\n",
       "      <td>4.0</td>\n",
       "    </tr>\n",
       "    <tr>\n",
       "      <th>9</th>\n",
       "      <td>Ella</td>\n",
       "      <td>SCM</td>\n",
       "      <td>2012.0</td>\n",
       "      <td>02/10/2012</td>\n",
       "      <td>5.0</td>\n",
       "    </tr>\n",
       "    <tr>\n",
       "      <th>10</th>\n",
       "      <td>Jackson</td>\n",
       "      <td>MiM</td>\n",
       "      <td>2004.0</td>\n",
       "      <td>01/09/2004</td>\n",
       "      <td>NaN</td>\n",
       "    </tr>\n",
       "    <tr>\n",
       "      <th>11</th>\n",
       "      <td>Avery</td>\n",
       "      <td>MiM</td>\n",
       "      <td>2005.0</td>\n",
       "      <td>05/02/2006</td>\n",
       "      <td>10.0</td>\n",
       "    </tr>\n",
       "  </tbody>\n",
       "</table>\n",
       "</div>"
      ],
      "text/plain": [
       "    student programme  enrolment first_class  classes_taken\n",
       "0       Bob       BIM     2008.0  01/09/2008           10.0\n",
       "1      Jake       MiM     2012.0  01/10/2012            4.0\n",
       "2      Lisa        IM     2004.0  15/09/2004            7.0\n",
       "3       Sue       BIM        NaN         NaN            2.0\n",
       "4   William       SCM     2008.0  01/01/2009            NaN\n",
       "5     James       BIM     2012.0  01/10/2012            NaN\n",
       "6    Harper       BIM     2004.0  30/08/2004            NaN\n",
       "7     Mason        IM     2009.0  10/09/2009            3.0\n",
       "8    Evelyn        IM        NaN         NaN            4.0\n",
       "9      Ella       SCM     2012.0  02/10/2012            5.0\n",
       "10  Jackson       MiM     2004.0  01/09/2004            NaN\n",
       "11    Avery       MiM     2005.0  05/02/2006           10.0"
      ]
     },
     "execution_count": 3,
     "metadata": {},
     "output_type": "execute_result"
    }
   ],
   "source": [
    "df['enrolment'] = pd.to_numeric(df['enrolment'], errors='coerce')\n",
    "df"
   ]
  },
  {
   "cell_type": "markdown",
   "metadata": {},
   "source": [
    "Let's take a look at the `DataFrame` and its data types:"
   ]
  },
  {
   "cell_type": "code",
   "execution_count": 4,
   "metadata": {},
   "outputs": [
    {
     "name": "stdout",
     "output_type": "stream",
     "text": [
      "<class 'pandas.core.frame.DataFrame'>\n",
      "RangeIndex: 12 entries, 0 to 11\n",
      "Data columns (total 5 columns):\n",
      " #   Column         Non-Null Count  Dtype  \n",
      "---  ------         --------------  -----  \n",
      " 0   student        12 non-null     object \n",
      " 1   programme      12 non-null     object \n",
      " 2   enrolment      10 non-null     float64\n",
      " 3   first_class    10 non-null     object \n",
      " 4   classes_taken  8 non-null      float64\n",
      "dtypes: float64(2), object(3)\n",
      "memory usage: 608.0+ bytes\n"
     ]
    }
   ],
   "source": [
    "df.info()"
   ]
  },
  {
   "cell_type": "markdown",
   "metadata": {},
   "source": [
    "## Missing Data\n",
    "\n",
    "We can see in the output of `info()` that some columns have missing data. For example, only 10 observations have a year of `enrolment`, and only 8 have information on the number of classes taken.\n",
    "\n",
    "Missing data is a semi-tricky thing in Pandas, as you've seen on the \"Data Types\" slide in *Lecture 2*. Generally speaking, there are two types of missing data:\n",
    "* `None` for `object`\n",
    "* `numpy.nan` for `float64`\n",
    "\n",
    "Because `float64` is faster than `object` for numerical data, whenever a numerical variable contains missing values, Pandas automatically converts it to `float64`. Hence why `enrolment` is `float64` after we converted it to a number.\n",
    "\n",
    "If you want to set a numerical variable to missing, you can do that with NumPy's `nan`:\n",
    "\n",
    "```\n",
    "import numpy as np\n",
    "...\n",
    "DF['col1'] = np.nan\n",
    "```"
   ]
  },
  {
   "cell_type": "markdown",
   "metadata": {},
   "source": [
    "### Selecting Missing Data\n",
    "\n",
    "Let's have a look at the observations for which `classes_taken` is missing. A first approach might be to perform masking, for example by checking if any value in the column is equal to `np.nan`:"
   ]
  },
  {
   "cell_type": "code",
   "execution_count": 5,
   "metadata": {},
   "outputs": [
    {
     "data": {
      "text/html": [
       "<div>\n",
       "<style scoped>\n",
       "    .dataframe tbody tr th:only-of-type {\n",
       "        vertical-align: middle;\n",
       "    }\n",
       "\n",
       "    .dataframe tbody tr th {\n",
       "        vertical-align: top;\n",
       "    }\n",
       "\n",
       "    .dataframe thead th {\n",
       "        text-align: right;\n",
       "    }\n",
       "</style>\n",
       "<table border=\"1\" class=\"dataframe\">\n",
       "  <thead>\n",
       "    <tr style=\"text-align: right;\">\n",
       "      <th></th>\n",
       "      <th>student</th>\n",
       "      <th>programme</th>\n",
       "      <th>enrolment</th>\n",
       "      <th>first_class</th>\n",
       "      <th>classes_taken</th>\n",
       "    </tr>\n",
       "  </thead>\n",
       "  <tbody>\n",
       "  </tbody>\n",
       "</table>\n",
       "</div>"
      ],
      "text/plain": [
       "Empty DataFrame\n",
       "Columns: [student, programme, enrolment, first_class, classes_taken]\n",
       "Index: []"
      ]
     },
     "execution_count": 5,
     "metadata": {},
     "output_type": "execute_result"
    }
   ],
   "source": [
    "df[df['classes_taken'] == np.nan]"
   ]
  },
  {
   "cell_type": "markdown",
   "metadata": {},
   "source": [
    "However, this doesn't work, because we cannot compare missing values with each other. `None == None` is always `True` and `np.nan == np.nan` is always `False`.\n",
    "\n",
    "Instead, the way to select missing data is with [`isna()`](https://pandas.pydata.org/pandas-docs/stable/reference/api/pandas.DataFrame.isna.html) or [`isnull()`](https://pandas.pydata.org/pandas-docs/stable/reference/api/pandas.DataFrame.isnull.html), which return a *bitmask* in which missing data is `True`:"
   ]
  },
  {
   "cell_type": "code",
   "execution_count": 6,
   "metadata": {},
   "outputs": [
    {
     "data": {
      "text/html": [
       "<div>\n",
       "<style scoped>\n",
       "    .dataframe tbody tr th:only-of-type {\n",
       "        vertical-align: middle;\n",
       "    }\n",
       "\n",
       "    .dataframe tbody tr th {\n",
       "        vertical-align: top;\n",
       "    }\n",
       "\n",
       "    .dataframe thead th {\n",
       "        text-align: right;\n",
       "    }\n",
       "</style>\n",
       "<table border=\"1\" class=\"dataframe\">\n",
       "  <thead>\n",
       "    <tr style=\"text-align: right;\">\n",
       "      <th></th>\n",
       "      <th>student</th>\n",
       "      <th>programme</th>\n",
       "      <th>enrolment</th>\n",
       "      <th>first_class</th>\n",
       "      <th>classes_taken</th>\n",
       "    </tr>\n",
       "  </thead>\n",
       "  <tbody>\n",
       "    <tr>\n",
       "      <th>4</th>\n",
       "      <td>William</td>\n",
       "      <td>SCM</td>\n",
       "      <td>2008.0</td>\n",
       "      <td>01/01/2009</td>\n",
       "      <td>NaN</td>\n",
       "    </tr>\n",
       "    <tr>\n",
       "      <th>5</th>\n",
       "      <td>James</td>\n",
       "      <td>BIM</td>\n",
       "      <td>2012.0</td>\n",
       "      <td>01/10/2012</td>\n",
       "      <td>NaN</td>\n",
       "    </tr>\n",
       "    <tr>\n",
       "      <th>6</th>\n",
       "      <td>Harper</td>\n",
       "      <td>BIM</td>\n",
       "      <td>2004.0</td>\n",
       "      <td>30/08/2004</td>\n",
       "      <td>NaN</td>\n",
       "    </tr>\n",
       "    <tr>\n",
       "      <th>10</th>\n",
       "      <td>Jackson</td>\n",
       "      <td>MiM</td>\n",
       "      <td>2004.0</td>\n",
       "      <td>01/09/2004</td>\n",
       "      <td>NaN</td>\n",
       "    </tr>\n",
       "  </tbody>\n",
       "</table>\n",
       "</div>"
      ],
      "text/plain": [
       "    student programme  enrolment first_class  classes_taken\n",
       "4   William       SCM     2008.0  01/01/2009            NaN\n",
       "5     James       BIM     2012.0  01/10/2012            NaN\n",
       "6    Harper       BIM     2004.0  30/08/2004            NaN\n",
       "10  Jackson       MiM     2004.0  01/09/2004            NaN"
      ]
     },
     "execution_count": 6,
     "metadata": {},
     "output_type": "execute_result"
    }
   ],
   "source": [
    "df[df['classes_taken'].isna()]"
   ]
  },
  {
   "cell_type": "markdown",
   "metadata": {},
   "source": [
    "We can also get the opposite by using the bitwise negator `~`, which gives us all observations in `df` for which `classes_taken` is *not* missing:"
   ]
  },
  {
   "cell_type": "code",
   "execution_count": 7,
   "metadata": {},
   "outputs": [
    {
     "data": {
      "text/html": [
       "<div>\n",
       "<style scoped>\n",
       "    .dataframe tbody tr th:only-of-type {\n",
       "        vertical-align: middle;\n",
       "    }\n",
       "\n",
       "    .dataframe tbody tr th {\n",
       "        vertical-align: top;\n",
       "    }\n",
       "\n",
       "    .dataframe thead th {\n",
       "        text-align: right;\n",
       "    }\n",
       "</style>\n",
       "<table border=\"1\" class=\"dataframe\">\n",
       "  <thead>\n",
       "    <tr style=\"text-align: right;\">\n",
       "      <th></th>\n",
       "      <th>student</th>\n",
       "      <th>programme</th>\n",
       "      <th>enrolment</th>\n",
       "      <th>first_class</th>\n",
       "      <th>classes_taken</th>\n",
       "    </tr>\n",
       "  </thead>\n",
       "  <tbody>\n",
       "    <tr>\n",
       "      <th>0</th>\n",
       "      <td>Bob</td>\n",
       "      <td>BIM</td>\n",
       "      <td>2008.0</td>\n",
       "      <td>01/09/2008</td>\n",
       "      <td>10.0</td>\n",
       "    </tr>\n",
       "    <tr>\n",
       "      <th>1</th>\n",
       "      <td>Jake</td>\n",
       "      <td>MiM</td>\n",
       "      <td>2012.0</td>\n",
       "      <td>01/10/2012</td>\n",
       "      <td>4.0</td>\n",
       "    </tr>\n",
       "    <tr>\n",
       "      <th>2</th>\n",
       "      <td>Lisa</td>\n",
       "      <td>IM</td>\n",
       "      <td>2004.0</td>\n",
       "      <td>15/09/2004</td>\n",
       "      <td>7.0</td>\n",
       "    </tr>\n",
       "    <tr>\n",
       "      <th>3</th>\n",
       "      <td>Sue</td>\n",
       "      <td>BIM</td>\n",
       "      <td>NaN</td>\n",
       "      <td>NaN</td>\n",
       "      <td>2.0</td>\n",
       "    </tr>\n",
       "    <tr>\n",
       "      <th>7</th>\n",
       "      <td>Mason</td>\n",
       "      <td>IM</td>\n",
       "      <td>2009.0</td>\n",
       "      <td>10/09/2009</td>\n",
       "      <td>3.0</td>\n",
       "    </tr>\n",
       "    <tr>\n",
       "      <th>8</th>\n",
       "      <td>Evelyn</td>\n",
       "      <td>IM</td>\n",
       "      <td>NaN</td>\n",
       "      <td>NaN</td>\n",
       "      <td>4.0</td>\n",
       "    </tr>\n",
       "    <tr>\n",
       "      <th>9</th>\n",
       "      <td>Ella</td>\n",
       "      <td>SCM</td>\n",
       "      <td>2012.0</td>\n",
       "      <td>02/10/2012</td>\n",
       "      <td>5.0</td>\n",
       "    </tr>\n",
       "    <tr>\n",
       "      <th>11</th>\n",
       "      <td>Avery</td>\n",
       "      <td>MiM</td>\n",
       "      <td>2005.0</td>\n",
       "      <td>05/02/2006</td>\n",
       "      <td>10.0</td>\n",
       "    </tr>\n",
       "  </tbody>\n",
       "</table>\n",
       "</div>"
      ],
      "text/plain": [
       "   student programme  enrolment first_class  classes_taken\n",
       "0      Bob       BIM     2008.0  01/09/2008           10.0\n",
       "1     Jake       MiM     2012.0  01/10/2012            4.0\n",
       "2     Lisa        IM     2004.0  15/09/2004            7.0\n",
       "3      Sue       BIM        NaN         NaN            2.0\n",
       "7    Mason        IM     2009.0  10/09/2009            3.0\n",
       "8   Evelyn        IM        NaN         NaN            4.0\n",
       "9     Ella       SCM     2012.0  02/10/2012            5.0\n",
       "11   Avery       MiM     2005.0  05/02/2006           10.0"
      ]
     },
     "execution_count": 7,
     "metadata": {},
     "output_type": "execute_result"
    }
   ],
   "source": [
    "df[~df['classes_taken'].isna()]"
   ]
  },
  {
   "cell_type": "markdown",
   "metadata": {},
   "source": [
    "### Filling Missing Data\n",
    "\n",
    "Sometimes, we want to replace missing data with a different value instead. For example, we may want to treat missing values as 0. For this we can use the aptly named [`fillna()`](https://pandas.pydata.org/pandas-docs/stable/reference/api/pandas.DataFrame.fillna.html) function.\n",
    "\n",
    "For example, missing values in `classes_taken` may suggest that the student hasn't taken any so far. In that case, we can replace the missing values with 0:"
   ]
  },
  {
   "cell_type": "code",
   "execution_count": 8,
   "metadata": {},
   "outputs": [
    {
     "data": {
      "text/plain": [
       "0     10.0\n",
       "1      4.0\n",
       "2      7.0\n",
       "3      2.0\n",
       "4      0.0\n",
       "5      0.0\n",
       "6      0.0\n",
       "7      3.0\n",
       "8      4.0\n",
       "9      5.0\n",
       "10     0.0\n",
       "11    10.0\n",
       "Name: classes_taken, dtype: float64"
      ]
     },
     "execution_count": 8,
     "metadata": {},
     "output_type": "execute_result"
    }
   ],
   "source": [
    "df['classes_taken'].fillna(0)"
   ]
  },
  {
   "cell_type": "markdown",
   "metadata": {},
   "source": [
    "Like other `DataFrame` functions, `fillna()` creates a copy of the data. If we want to modify our original `DataFrame`, we can either replace the column or us `inplace=True`."
   ]
  },
  {
   "cell_type": "code",
   "execution_count": 9,
   "metadata": {},
   "outputs": [
    {
     "data": {
      "text/html": [
       "<div>\n",
       "<style scoped>\n",
       "    .dataframe tbody tr th:only-of-type {\n",
       "        vertical-align: middle;\n",
       "    }\n",
       "\n",
       "    .dataframe tbody tr th {\n",
       "        vertical-align: top;\n",
       "    }\n",
       "\n",
       "    .dataframe thead th {\n",
       "        text-align: right;\n",
       "    }\n",
       "</style>\n",
       "<table border=\"1\" class=\"dataframe\">\n",
       "  <thead>\n",
       "    <tr style=\"text-align: right;\">\n",
       "      <th></th>\n",
       "      <th>student</th>\n",
       "      <th>programme</th>\n",
       "      <th>enrolment</th>\n",
       "      <th>first_class</th>\n",
       "      <th>classes_taken</th>\n",
       "    </tr>\n",
       "  </thead>\n",
       "  <tbody>\n",
       "    <tr>\n",
       "      <th>0</th>\n",
       "      <td>Bob</td>\n",
       "      <td>BIM</td>\n",
       "      <td>2008.0</td>\n",
       "      <td>01/09/2008</td>\n",
       "      <td>10.0</td>\n",
       "    </tr>\n",
       "    <tr>\n",
       "      <th>1</th>\n",
       "      <td>Jake</td>\n",
       "      <td>MiM</td>\n",
       "      <td>2012.0</td>\n",
       "      <td>01/10/2012</td>\n",
       "      <td>4.0</td>\n",
       "    </tr>\n",
       "    <tr>\n",
       "      <th>2</th>\n",
       "      <td>Lisa</td>\n",
       "      <td>IM</td>\n",
       "      <td>2004.0</td>\n",
       "      <td>15/09/2004</td>\n",
       "      <td>7.0</td>\n",
       "    </tr>\n",
       "    <tr>\n",
       "      <th>3</th>\n",
       "      <td>Sue</td>\n",
       "      <td>BIM</td>\n",
       "      <td>NaN</td>\n",
       "      <td>NaN</td>\n",
       "      <td>2.0</td>\n",
       "    </tr>\n",
       "    <tr>\n",
       "      <th>4</th>\n",
       "      <td>William</td>\n",
       "      <td>SCM</td>\n",
       "      <td>2008.0</td>\n",
       "      <td>01/01/2009</td>\n",
       "      <td>0.0</td>\n",
       "    </tr>\n",
       "    <tr>\n",
       "      <th>5</th>\n",
       "      <td>James</td>\n",
       "      <td>BIM</td>\n",
       "      <td>2012.0</td>\n",
       "      <td>01/10/2012</td>\n",
       "      <td>0.0</td>\n",
       "    </tr>\n",
       "    <tr>\n",
       "      <th>6</th>\n",
       "      <td>Harper</td>\n",
       "      <td>BIM</td>\n",
       "      <td>2004.0</td>\n",
       "      <td>30/08/2004</td>\n",
       "      <td>0.0</td>\n",
       "    </tr>\n",
       "    <tr>\n",
       "      <th>7</th>\n",
       "      <td>Mason</td>\n",
       "      <td>IM</td>\n",
       "      <td>2009.0</td>\n",
       "      <td>10/09/2009</td>\n",
       "      <td>3.0</td>\n",
       "    </tr>\n",
       "    <tr>\n",
       "      <th>8</th>\n",
       "      <td>Evelyn</td>\n",
       "      <td>IM</td>\n",
       "      <td>NaN</td>\n",
       "      <td>NaN</td>\n",
       "      <td>4.0</td>\n",
       "    </tr>\n",
       "    <tr>\n",
       "      <th>9</th>\n",
       "      <td>Ella</td>\n",
       "      <td>SCM</td>\n",
       "      <td>2012.0</td>\n",
       "      <td>02/10/2012</td>\n",
       "      <td>5.0</td>\n",
       "    </tr>\n",
       "    <tr>\n",
       "      <th>10</th>\n",
       "      <td>Jackson</td>\n",
       "      <td>MiM</td>\n",
       "      <td>2004.0</td>\n",
       "      <td>01/09/2004</td>\n",
       "      <td>0.0</td>\n",
       "    </tr>\n",
       "    <tr>\n",
       "      <th>11</th>\n",
       "      <td>Avery</td>\n",
       "      <td>MiM</td>\n",
       "      <td>2005.0</td>\n",
       "      <td>05/02/2006</td>\n",
       "      <td>10.0</td>\n",
       "    </tr>\n",
       "  </tbody>\n",
       "</table>\n",
       "</div>"
      ],
      "text/plain": [
       "    student programme  enrolment first_class  classes_taken\n",
       "0       Bob       BIM     2008.0  01/09/2008           10.0\n",
       "1      Jake       MiM     2012.0  01/10/2012            4.0\n",
       "2      Lisa        IM     2004.0  15/09/2004            7.0\n",
       "3       Sue       BIM        NaN         NaN            2.0\n",
       "4   William       SCM     2008.0  01/01/2009            0.0\n",
       "5     James       BIM     2012.0  01/10/2012            0.0\n",
       "6    Harper       BIM     2004.0  30/08/2004            0.0\n",
       "7     Mason        IM     2009.0  10/09/2009            3.0\n",
       "8    Evelyn        IM        NaN         NaN            4.0\n",
       "9      Ella       SCM     2012.0  02/10/2012            5.0\n",
       "10  Jackson       MiM     2004.0  01/09/2004            0.0\n",
       "11    Avery       MiM     2005.0  05/02/2006           10.0"
      ]
     },
     "execution_count": 9,
     "metadata": {},
     "output_type": "execute_result"
    }
   ],
   "source": [
    "df['classes_taken'].fillna(0, inplace=True)\n",
    "df"
   ]
  },
  {
   "cell_type": "markdown",
   "metadata": {},
   "source": [
    "### Converting Numeric Types\n",
    "\n",
    "`classes_taken` is still a floating point data type, even though it really should be an integer (students cannot take 4.13 classes). We can convert between numerical data types easily with [`astype()`](https://pandas.pydata.org/pandas-docs/stable/reference/api/pandas.DataFrame.astype.html):"
   ]
  },
  {
   "cell_type": "code",
   "execution_count": 10,
   "metadata": {},
   "outputs": [
    {
     "data": {
      "text/plain": [
       "0     10\n",
       "1      4\n",
       "2      7\n",
       "3      2\n",
       "4      0\n",
       "5      0\n",
       "6      0\n",
       "7      3\n",
       "8      4\n",
       "9      5\n",
       "10     0\n",
       "11    10\n",
       "Name: classes_taken, dtype: int32"
      ]
     },
     "execution_count": 10,
     "metadata": {},
     "output_type": "execute_result"
    }
   ],
   "source": [
    "df['classes_taken'].astype('int')"
   ]
  },
  {
   "cell_type": "markdown",
   "metadata": {},
   "source": [
    "`'int'` defaults to a 32-bit integer (`int32`). We can also specify if we want a specific integer type (e.g., to save memory with large data sets). In this example, I'm choosing a 16-bit integer, which can hold values $\\in [−32768, 32767]$:"
   ]
  },
  {
   "cell_type": "code",
   "execution_count": 11,
   "metadata": {},
   "outputs": [
    {
     "data": {
      "text/plain": [
       "0     10\n",
       "1      4\n",
       "2      7\n",
       "3      2\n",
       "4      0\n",
       "5      0\n",
       "6      0\n",
       "7      3\n",
       "8      4\n",
       "9      5\n",
       "10     0\n",
       "11    10\n",
       "Name: classes_taken, dtype: int16"
      ]
     },
     "execution_count": 11,
     "metadata": {},
     "output_type": "execute_result"
    }
   ],
   "source": [
    "df['classes_taken'].astype('int16')"
   ]
  },
  {
   "cell_type": "markdown",
   "metadata": {},
   "source": [
    "`astype()` does not have an `inplace` option, so we need to replace the column if we want the change to take effect in the original `DataFrame`:"
   ]
  },
  {
   "cell_type": "code",
   "execution_count": 12,
   "metadata": {},
   "outputs": [
    {
     "data": {
      "text/html": [
       "<div>\n",
       "<style scoped>\n",
       "    .dataframe tbody tr th:only-of-type {\n",
       "        vertical-align: middle;\n",
       "    }\n",
       "\n",
       "    .dataframe tbody tr th {\n",
       "        vertical-align: top;\n",
       "    }\n",
       "\n",
       "    .dataframe thead th {\n",
       "        text-align: right;\n",
       "    }\n",
       "</style>\n",
       "<table border=\"1\" class=\"dataframe\">\n",
       "  <thead>\n",
       "    <tr style=\"text-align: right;\">\n",
       "      <th></th>\n",
       "      <th>student</th>\n",
       "      <th>programme</th>\n",
       "      <th>enrolment</th>\n",
       "      <th>first_class</th>\n",
       "      <th>classes_taken</th>\n",
       "    </tr>\n",
       "  </thead>\n",
       "  <tbody>\n",
       "    <tr>\n",
       "      <th>0</th>\n",
       "      <td>Bob</td>\n",
       "      <td>BIM</td>\n",
       "      <td>2008.0</td>\n",
       "      <td>01/09/2008</td>\n",
       "      <td>10</td>\n",
       "    </tr>\n",
       "    <tr>\n",
       "      <th>1</th>\n",
       "      <td>Jake</td>\n",
       "      <td>MiM</td>\n",
       "      <td>2012.0</td>\n",
       "      <td>01/10/2012</td>\n",
       "      <td>4</td>\n",
       "    </tr>\n",
       "    <tr>\n",
       "      <th>2</th>\n",
       "      <td>Lisa</td>\n",
       "      <td>IM</td>\n",
       "      <td>2004.0</td>\n",
       "      <td>15/09/2004</td>\n",
       "      <td>7</td>\n",
       "    </tr>\n",
       "    <tr>\n",
       "      <th>3</th>\n",
       "      <td>Sue</td>\n",
       "      <td>BIM</td>\n",
       "      <td>NaN</td>\n",
       "      <td>NaN</td>\n",
       "      <td>2</td>\n",
       "    </tr>\n",
       "    <tr>\n",
       "      <th>4</th>\n",
       "      <td>William</td>\n",
       "      <td>SCM</td>\n",
       "      <td>2008.0</td>\n",
       "      <td>01/01/2009</td>\n",
       "      <td>0</td>\n",
       "    </tr>\n",
       "    <tr>\n",
       "      <th>5</th>\n",
       "      <td>James</td>\n",
       "      <td>BIM</td>\n",
       "      <td>2012.0</td>\n",
       "      <td>01/10/2012</td>\n",
       "      <td>0</td>\n",
       "    </tr>\n",
       "    <tr>\n",
       "      <th>6</th>\n",
       "      <td>Harper</td>\n",
       "      <td>BIM</td>\n",
       "      <td>2004.0</td>\n",
       "      <td>30/08/2004</td>\n",
       "      <td>0</td>\n",
       "    </tr>\n",
       "    <tr>\n",
       "      <th>7</th>\n",
       "      <td>Mason</td>\n",
       "      <td>IM</td>\n",
       "      <td>2009.0</td>\n",
       "      <td>10/09/2009</td>\n",
       "      <td>3</td>\n",
       "    </tr>\n",
       "    <tr>\n",
       "      <th>8</th>\n",
       "      <td>Evelyn</td>\n",
       "      <td>IM</td>\n",
       "      <td>NaN</td>\n",
       "      <td>NaN</td>\n",
       "      <td>4</td>\n",
       "    </tr>\n",
       "    <tr>\n",
       "      <th>9</th>\n",
       "      <td>Ella</td>\n",
       "      <td>SCM</td>\n",
       "      <td>2012.0</td>\n",
       "      <td>02/10/2012</td>\n",
       "      <td>5</td>\n",
       "    </tr>\n",
       "    <tr>\n",
       "      <th>10</th>\n",
       "      <td>Jackson</td>\n",
       "      <td>MiM</td>\n",
       "      <td>2004.0</td>\n",
       "      <td>01/09/2004</td>\n",
       "      <td>0</td>\n",
       "    </tr>\n",
       "    <tr>\n",
       "      <th>11</th>\n",
       "      <td>Avery</td>\n",
       "      <td>MiM</td>\n",
       "      <td>2005.0</td>\n",
       "      <td>05/02/2006</td>\n",
       "      <td>10</td>\n",
       "    </tr>\n",
       "  </tbody>\n",
       "</table>\n",
       "</div>"
      ],
      "text/plain": [
       "    student programme  enrolment first_class  classes_taken\n",
       "0       Bob       BIM     2008.0  01/09/2008             10\n",
       "1      Jake       MiM     2012.0  01/10/2012              4\n",
       "2      Lisa        IM     2004.0  15/09/2004              7\n",
       "3       Sue       BIM        NaN         NaN              2\n",
       "4   William       SCM     2008.0  01/01/2009              0\n",
       "5     James       BIM     2012.0  01/10/2012              0\n",
       "6    Harper       BIM     2004.0  30/08/2004              0\n",
       "7     Mason        IM     2009.0  10/09/2009              3\n",
       "8    Evelyn        IM        NaN         NaN              4\n",
       "9      Ella       SCM     2012.0  02/10/2012              5\n",
       "10  Jackson       MiM     2004.0  01/09/2004              0\n",
       "11    Avery       MiM     2005.0  05/02/2006             10"
      ]
     },
     "execution_count": 12,
     "metadata": {},
     "output_type": "execute_result"
    }
   ],
   "source": [
    "df['classes_taken'] = df['classes_taken'].astype('int16')\n",
    "df"
   ]
  },
  {
   "cell_type": "markdown",
   "metadata": {},
   "source": [
    "### Dropping Missing Data\n",
    "\n",
    "We can drop missing data with masking or with [`dropna()`](https://pandas.pydata.org/pandas-docs/stable/reference/api/pandas.DataFrame.dropna.html):"
   ]
  },
  {
   "cell_type": "code",
   "execution_count": 13,
   "metadata": {},
   "outputs": [
    {
     "data": {
      "text/html": [
       "<div>\n",
       "<style scoped>\n",
       "    .dataframe tbody tr th:only-of-type {\n",
       "        vertical-align: middle;\n",
       "    }\n",
       "\n",
       "    .dataframe tbody tr th {\n",
       "        vertical-align: top;\n",
       "    }\n",
       "\n",
       "    .dataframe thead th {\n",
       "        text-align: right;\n",
       "    }\n",
       "</style>\n",
       "<table border=\"1\" class=\"dataframe\">\n",
       "  <thead>\n",
       "    <tr style=\"text-align: right;\">\n",
       "      <th></th>\n",
       "      <th>student</th>\n",
       "      <th>programme</th>\n",
       "      <th>enrolment</th>\n",
       "      <th>first_class</th>\n",
       "      <th>classes_taken</th>\n",
       "    </tr>\n",
       "  </thead>\n",
       "  <tbody>\n",
       "    <tr>\n",
       "      <th>0</th>\n",
       "      <td>Bob</td>\n",
       "      <td>BIM</td>\n",
       "      <td>2008.0</td>\n",
       "      <td>01/09/2008</td>\n",
       "      <td>10</td>\n",
       "    </tr>\n",
       "    <tr>\n",
       "      <th>1</th>\n",
       "      <td>Jake</td>\n",
       "      <td>MiM</td>\n",
       "      <td>2012.0</td>\n",
       "      <td>01/10/2012</td>\n",
       "      <td>4</td>\n",
       "    </tr>\n",
       "    <tr>\n",
       "      <th>2</th>\n",
       "      <td>Lisa</td>\n",
       "      <td>IM</td>\n",
       "      <td>2004.0</td>\n",
       "      <td>15/09/2004</td>\n",
       "      <td>7</td>\n",
       "    </tr>\n",
       "    <tr>\n",
       "      <th>4</th>\n",
       "      <td>William</td>\n",
       "      <td>SCM</td>\n",
       "      <td>2008.0</td>\n",
       "      <td>01/01/2009</td>\n",
       "      <td>0</td>\n",
       "    </tr>\n",
       "    <tr>\n",
       "      <th>5</th>\n",
       "      <td>James</td>\n",
       "      <td>BIM</td>\n",
       "      <td>2012.0</td>\n",
       "      <td>01/10/2012</td>\n",
       "      <td>0</td>\n",
       "    </tr>\n",
       "    <tr>\n",
       "      <th>6</th>\n",
       "      <td>Harper</td>\n",
       "      <td>BIM</td>\n",
       "      <td>2004.0</td>\n",
       "      <td>30/08/2004</td>\n",
       "      <td>0</td>\n",
       "    </tr>\n",
       "    <tr>\n",
       "      <th>7</th>\n",
       "      <td>Mason</td>\n",
       "      <td>IM</td>\n",
       "      <td>2009.0</td>\n",
       "      <td>10/09/2009</td>\n",
       "      <td>3</td>\n",
       "    </tr>\n",
       "    <tr>\n",
       "      <th>9</th>\n",
       "      <td>Ella</td>\n",
       "      <td>SCM</td>\n",
       "      <td>2012.0</td>\n",
       "      <td>02/10/2012</td>\n",
       "      <td>5</td>\n",
       "    </tr>\n",
       "    <tr>\n",
       "      <th>10</th>\n",
       "      <td>Jackson</td>\n",
       "      <td>MiM</td>\n",
       "      <td>2004.0</td>\n",
       "      <td>01/09/2004</td>\n",
       "      <td>0</td>\n",
       "    </tr>\n",
       "    <tr>\n",
       "      <th>11</th>\n",
       "      <td>Avery</td>\n",
       "      <td>MiM</td>\n",
       "      <td>2005.0</td>\n",
       "      <td>05/02/2006</td>\n",
       "      <td>10</td>\n",
       "    </tr>\n",
       "  </tbody>\n",
       "</table>\n",
       "</div>"
      ],
      "text/plain": [
       "    student programme  enrolment first_class  classes_taken\n",
       "0       Bob       BIM     2008.0  01/09/2008             10\n",
       "1      Jake       MiM     2012.0  01/10/2012              4\n",
       "2      Lisa        IM     2004.0  15/09/2004              7\n",
       "4   William       SCM     2008.0  01/01/2009              0\n",
       "5     James       BIM     2012.0  01/10/2012              0\n",
       "6    Harper       BIM     2004.0  30/08/2004              0\n",
       "7     Mason        IM     2009.0  10/09/2009              3\n",
       "9      Ella       SCM     2012.0  02/10/2012              5\n",
       "10  Jackson       MiM     2004.0  01/09/2004              0\n",
       "11    Avery       MiM     2005.0  05/02/2006             10"
      ]
     },
     "execution_count": 13,
     "metadata": {},
     "output_type": "execute_result"
    }
   ],
   "source": [
    "df.dropna(subset=['enrolment', 'first_class'], how='all')"
   ]
  },
  {
   "cell_type": "markdown",
   "metadata": {},
   "source": [
    "Here, I drop all observations from the `DataFrame` which have all missing observations in columns `enrolment` and `first_class`."
   ]
  },
  {
   "cell_type": "markdown",
   "metadata": {},
   "source": [
    "## [String Accessors](https://pandas.pydata.org/pandas-docs/stable/reference/series.html#api-series-str)\n",
    "\n",
    "If we have text data in a `DataFrame`, we often want to use functions similar to the ones that are available to us for standard Python strings. For example, `startswith()` checks if a string starts with a certain sequence of characters:"
   ]
  },
  {
   "cell_type": "code",
   "execution_count": 14,
   "metadata": {},
   "outputs": [
    {
     "data": {
      "text/plain": [
       "True"
      ]
     },
     "execution_count": 14,
     "metadata": {},
     "output_type": "execute_result"
    }
   ],
   "source": [
    "'Avery'.startswith('A')"
   ]
  },
  {
   "cell_type": "markdown",
   "metadata": {},
   "source": [
    "To do that in a `DataFrame`, we use the *string accessor*. It replicates almost all functions that we are used to from Python strings.\n",
    "\n",
    "For example, let's say we want to find all students whose name starts with an `E`. For that, we can use `str.startswith()`:"
   ]
  },
  {
   "cell_type": "code",
   "execution_count": 15,
   "metadata": {},
   "outputs": [
    {
     "data": {
      "text/html": [
       "<div>\n",
       "<style scoped>\n",
       "    .dataframe tbody tr th:only-of-type {\n",
       "        vertical-align: middle;\n",
       "    }\n",
       "\n",
       "    .dataframe tbody tr th {\n",
       "        vertical-align: top;\n",
       "    }\n",
       "\n",
       "    .dataframe thead th {\n",
       "        text-align: right;\n",
       "    }\n",
       "</style>\n",
       "<table border=\"1\" class=\"dataframe\">\n",
       "  <thead>\n",
       "    <tr style=\"text-align: right;\">\n",
       "      <th></th>\n",
       "      <th>student</th>\n",
       "      <th>programme</th>\n",
       "      <th>enrolment</th>\n",
       "      <th>first_class</th>\n",
       "      <th>classes_taken</th>\n",
       "    </tr>\n",
       "  </thead>\n",
       "  <tbody>\n",
       "    <tr>\n",
       "      <th>8</th>\n",
       "      <td>Evelyn</td>\n",
       "      <td>IM</td>\n",
       "      <td>NaN</td>\n",
       "      <td>NaN</td>\n",
       "      <td>4</td>\n",
       "    </tr>\n",
       "    <tr>\n",
       "      <th>9</th>\n",
       "      <td>Ella</td>\n",
       "      <td>SCM</td>\n",
       "      <td>2012.0</td>\n",
       "      <td>02/10/2012</td>\n",
       "      <td>5</td>\n",
       "    </tr>\n",
       "  </tbody>\n",
       "</table>\n",
       "</div>"
      ],
      "text/plain": [
       "  student programme  enrolment first_class  classes_taken\n",
       "8  Evelyn        IM        NaN         NaN              4\n",
       "9    Ella       SCM     2012.0  02/10/2012              5"
      ]
     },
     "execution_count": 15,
     "metadata": {},
     "output_type": "execute_result"
    }
   ],
   "source": [
    "df[df['student'].str.startswith('E')]"
   ]
  },
  {
   "cell_type": "markdown",
   "metadata": {},
   "source": [
    "`str` is the string accessor, and it exposes many useful string functions. See the above link to the API documentation."
   ]
  },
  {
   "cell_type": "markdown",
   "metadata": {},
   "source": [
    "## Date Parsing & Date Accessor\n",
    "\n",
    "### Date Parsing\n",
    "\n",
    "By default, `read_csv()` tries to convert data to the correct data types. However, this does not work for dates and datetimes. We can see that `first_class` is an `object` rather than a `datetime` column:"
   ]
  },
  {
   "cell_type": "code",
   "execution_count": 16,
   "metadata": {},
   "outputs": [
    {
     "data": {
      "text/plain": [
       "student           object\n",
       "programme         object\n",
       "enrolment        float64\n",
       "first_class       object\n",
       "classes_taken      int16\n",
       "dtype: object"
      ]
     },
     "execution_count": 16,
     "metadata": {},
     "output_type": "execute_result"
    }
   ],
   "source": [
    "df.dtypes"
   ]
  },
  {
   "cell_type": "markdown",
   "metadata": {},
   "source": [
    "In effect, this means they're strings:"
   ]
  },
  {
   "cell_type": "code",
   "execution_count": 17,
   "metadata": {},
   "outputs": [
    {
     "data": {
      "text/plain": [
       "'01/09/2008'"
      ]
     },
     "execution_count": 17,
     "metadata": {},
     "output_type": "execute_result"
    }
   ],
   "source": [
    "df.loc[0, 'first_class']"
   ]
  },
  {
   "cell_type": "markdown",
   "metadata": {},
   "source": [
    "To parse them into Pandas' `datetime` data type, we use [`to_datetime()`](https://pandas.pydata.org/pandas-docs/stable/reference/api/pandas.to_datetime.html):"
   ]
  },
  {
   "cell_type": "code",
   "execution_count": 18,
   "metadata": {},
   "outputs": [
    {
     "data": {
      "text/plain": [
       "0    2008-01-09\n",
       "1    2012-01-10\n",
       "2    2004-09-15\n",
       "3           NaT\n",
       "4    2009-01-01\n",
       "5    2012-01-10\n",
       "6    2004-08-30\n",
       "7    2009-10-09\n",
       "8           NaT\n",
       "9    2012-02-10\n",
       "10   2004-01-09\n",
       "11   2006-05-02\n",
       "Name: first_class, dtype: datetime64[ns]"
      ]
     },
     "execution_count": 18,
     "metadata": {},
     "output_type": "execute_result"
    }
   ],
   "source": [
    "pd.to_datetime(df['first_class'], errors='coerce')"
   ]
  },
  {
   "cell_type": "markdown",
   "metadata": {},
   "source": [
    "I use `errors='coerce'` so that in case some conversions fail, the programme continues and the failed ones are replaced with missing values."
   ]
  },
  {
   "cell_type": "code",
   "execution_count": 19,
   "metadata": {},
   "outputs": [],
   "source": [
    "df['first_class'] = pd.to_datetime(df['first_class'], errors='coerce')"
   ]
  },
  {
   "cell_type": "markdown",
   "metadata": {},
   "source": [
    "The data type of the converted columns is now `datetime`:"
   ]
  },
  {
   "cell_type": "code",
   "execution_count": 20,
   "metadata": {},
   "outputs": [
    {
     "data": {
      "text/plain": [
       "student                  object\n",
       "programme                object\n",
       "enrolment               float64\n",
       "first_class      datetime64[ns]\n",
       "classes_taken             int16\n",
       "dtype: object"
      ]
     },
     "execution_count": 20,
     "metadata": {},
     "output_type": "execute_result"
    }
   ],
   "source": [
    "df.dtypes"
   ]
  },
  {
   "cell_type": "markdown",
   "metadata": {},
   "source": [
    "`NaT` is the missing value for `datetime` and it is based on `np.nan`."
   ]
  },
  {
   "cell_type": "markdown",
   "metadata": {},
   "source": [
    "### [Date Accessors](https://pandas.pydata.org/pandas-docs/stable/reference/series.html#api-series-dt)\n",
    "\n",
    "One advantage of having dates in the correct data type is that we can use `datetime` accessors now. These little suffixes allow us to use special functionality only available to `datetime` columns.\n",
    "\n",
    "For example, let's say we want to extract the year student took their first class:"
   ]
  },
  {
   "cell_type": "code",
   "execution_count": 21,
   "metadata": {},
   "outputs": [
    {
     "data": {
      "text/plain": [
       "0     2008.0\n",
       "1     2012.0\n",
       "2     2004.0\n",
       "3        NaN\n",
       "4     2009.0\n",
       "5     2012.0\n",
       "6     2004.0\n",
       "7     2009.0\n",
       "8        NaN\n",
       "9     2012.0\n",
       "10    2004.0\n",
       "11    2006.0\n",
       "Name: first_class, dtype: float64"
      ]
     },
     "execution_count": 21,
     "metadata": {},
     "output_type": "execute_result"
    }
   ],
   "source": [
    "df['first_class'].dt.year"
   ]
  },
  {
   "cell_type": "markdown",
   "metadata": {},
   "source": [
    "We could now assign the extracted year to a new column. While a date by itself cannot be used in ML models, extracted properties such as the year can."
   ]
  },
  {
   "cell_type": "markdown",
   "metadata": {},
   "source": [
    "## More on Indices\n",
    "\n",
    "### Reset Index\n",
    "\n",
    "If we select data from a `DataFrame`, its index is usually preserved. For example, for this subset of BIM students:"
   ]
  },
  {
   "cell_type": "code",
   "execution_count": 22,
   "metadata": {},
   "outputs": [
    {
     "data": {
      "text/html": [
       "<div>\n",
       "<style scoped>\n",
       "    .dataframe tbody tr th:only-of-type {\n",
       "        vertical-align: middle;\n",
       "    }\n",
       "\n",
       "    .dataframe tbody tr th {\n",
       "        vertical-align: top;\n",
       "    }\n",
       "\n",
       "    .dataframe thead th {\n",
       "        text-align: right;\n",
       "    }\n",
       "</style>\n",
       "<table border=\"1\" class=\"dataframe\">\n",
       "  <thead>\n",
       "    <tr style=\"text-align: right;\">\n",
       "      <th></th>\n",
       "      <th>student</th>\n",
       "      <th>programme</th>\n",
       "      <th>enrolment</th>\n",
       "      <th>first_class</th>\n",
       "      <th>classes_taken</th>\n",
       "    </tr>\n",
       "  </thead>\n",
       "  <tbody>\n",
       "    <tr>\n",
       "      <th>0</th>\n",
       "      <td>Bob</td>\n",
       "      <td>BIM</td>\n",
       "      <td>2008.0</td>\n",
       "      <td>2008-01-09</td>\n",
       "      <td>10</td>\n",
       "    </tr>\n",
       "    <tr>\n",
       "      <th>3</th>\n",
       "      <td>Sue</td>\n",
       "      <td>BIM</td>\n",
       "      <td>NaN</td>\n",
       "      <td>NaT</td>\n",
       "      <td>2</td>\n",
       "    </tr>\n",
       "    <tr>\n",
       "      <th>5</th>\n",
       "      <td>James</td>\n",
       "      <td>BIM</td>\n",
       "      <td>2012.0</td>\n",
       "      <td>2012-01-10</td>\n",
       "      <td>0</td>\n",
       "    </tr>\n",
       "    <tr>\n",
       "      <th>6</th>\n",
       "      <td>Harper</td>\n",
       "      <td>BIM</td>\n",
       "      <td>2004.0</td>\n",
       "      <td>2004-08-30</td>\n",
       "      <td>0</td>\n",
       "    </tr>\n",
       "  </tbody>\n",
       "</table>\n",
       "</div>"
      ],
      "text/plain": [
       "  student programme  enrolment first_class  classes_taken\n",
       "0     Bob       BIM     2008.0  2008-01-09             10\n",
       "3     Sue       BIM        NaN         NaT              2\n",
       "5   James       BIM     2012.0  2012-01-10              0\n",
       "6  Harper       BIM     2004.0  2004-08-30              0"
      ]
     },
     "execution_count": 22,
     "metadata": {},
     "output_type": "execute_result"
    }
   ],
   "source": [
    "df[df['programme'] == 'BIM']"
   ]
  },
  {
   "cell_type": "markdown",
   "metadata": {},
   "source": [
    "This is a good thing, because it means we never lose track of where our data came from. However, sometimes we want to reset an index. We can do that with [`reset_index()`](https://pandas.pydata.org/pandas-docs/stable/reference/api/pandas.DataFrame.reset_index.html):"
   ]
  },
  {
   "cell_type": "code",
   "execution_count": 23,
   "metadata": {},
   "outputs": [
    {
     "data": {
      "text/html": [
       "<div>\n",
       "<style scoped>\n",
       "    .dataframe tbody tr th:only-of-type {\n",
       "        vertical-align: middle;\n",
       "    }\n",
       "\n",
       "    .dataframe tbody tr th {\n",
       "        vertical-align: top;\n",
       "    }\n",
       "\n",
       "    .dataframe thead th {\n",
       "        text-align: right;\n",
       "    }\n",
       "</style>\n",
       "<table border=\"1\" class=\"dataframe\">\n",
       "  <thead>\n",
       "    <tr style=\"text-align: right;\">\n",
       "      <th></th>\n",
       "      <th>student</th>\n",
       "      <th>programme</th>\n",
       "      <th>enrolment</th>\n",
       "      <th>first_class</th>\n",
       "      <th>classes_taken</th>\n",
       "    </tr>\n",
       "  </thead>\n",
       "  <tbody>\n",
       "    <tr>\n",
       "      <th>0</th>\n",
       "      <td>Bob</td>\n",
       "      <td>BIM</td>\n",
       "      <td>2008.0</td>\n",
       "      <td>2008-01-09</td>\n",
       "      <td>10</td>\n",
       "    </tr>\n",
       "    <tr>\n",
       "      <th>1</th>\n",
       "      <td>Sue</td>\n",
       "      <td>BIM</td>\n",
       "      <td>NaN</td>\n",
       "      <td>NaT</td>\n",
       "      <td>2</td>\n",
       "    </tr>\n",
       "    <tr>\n",
       "      <th>2</th>\n",
       "      <td>James</td>\n",
       "      <td>BIM</td>\n",
       "      <td>2012.0</td>\n",
       "      <td>2012-01-10</td>\n",
       "      <td>0</td>\n",
       "    </tr>\n",
       "    <tr>\n",
       "      <th>3</th>\n",
       "      <td>Harper</td>\n",
       "      <td>BIM</td>\n",
       "      <td>2004.0</td>\n",
       "      <td>2004-08-30</td>\n",
       "      <td>0</td>\n",
       "    </tr>\n",
       "  </tbody>\n",
       "</table>\n",
       "</div>"
      ],
      "text/plain": [
       "  student programme  enrolment first_class  classes_taken\n",
       "0     Bob       BIM     2008.0  2008-01-09             10\n",
       "1     Sue       BIM        NaN         NaT              2\n",
       "2   James       BIM     2012.0  2012-01-10              0\n",
       "3  Harper       BIM     2004.0  2004-08-30              0"
      ]
     },
     "execution_count": 23,
     "metadata": {},
     "output_type": "execute_result"
    }
   ],
   "source": [
    "df[df['programme'] == 'BIM'].reset_index(drop=True)"
   ]
  },
  {
   "cell_type": "markdown",
   "metadata": {},
   "source": [
    "I set `drop=True` as otherwise the old index would be appended to the `DataFrame` as a column."
   ]
  },
  {
   "cell_type": "markdown",
   "metadata": {},
   "source": [
    "### Setting a Column to the Explicit Index\n",
    "\n",
    "We can also replace an existing explicit index with any column (it doesn't even need to be unique, although it is advisable for obvious reasons). To do so, we use [`set_index()`](https://pandas.pydata.org/pandas-docs/stable/reference/api/pandas.DataFrame.set_index.html).\n",
    "\n",
    "In our case, `student` might be a good explicit index. Let's check if it's unique. There are two ways.\n",
    "\n",
    "1) We can compare the `DataFrame`'s shape with the number of unique values in `student`:"
   ]
  },
  {
   "cell_type": "code",
   "execution_count": 24,
   "metadata": {},
   "outputs": [
    {
     "data": {
      "text/plain": [
       "(12, 5)"
      ]
     },
     "execution_count": 24,
     "metadata": {},
     "output_type": "execute_result"
    }
   ],
   "source": [
    "df.shape"
   ]
  },
  {
   "cell_type": "code",
   "execution_count": 25,
   "metadata": {},
   "outputs": [
    {
     "data": {
      "text/plain": [
       "12"
      ]
     },
     "execution_count": 25,
     "metadata": {},
     "output_type": "execute_result"
    }
   ],
   "source": [
    "df['student'].nunique()"
   ]
  },
  {
   "cell_type": "markdown",
   "metadata": {},
   "source": [
    "They're the same, so `permalink` must be unique. (`shape` is the easiest way to check a `DataFrame`'s row and column counts.)\n",
    "\n",
    "2) Alternatively, we can use [`is_unique`](https://pandas.pydata.org/pandas-docs/stable/reference/api/pandas.Series.is_unique.html):"
   ]
  },
  {
   "cell_type": "code",
   "execution_count": 26,
   "metadata": {},
   "outputs": [
    {
     "data": {
      "text/plain": [
       "True"
      ]
     },
     "execution_count": 26,
     "metadata": {},
     "output_type": "execute_result"
    }
   ],
   "source": [
    "df['student'].is_unique"
   ]
  },
  {
   "cell_type": "markdown",
   "metadata": {},
   "source": [
    "`student` is indeed unique, so we can proceed and make it the explicit index:"
   ]
  },
  {
   "cell_type": "code",
   "execution_count": 27,
   "metadata": {},
   "outputs": [
    {
     "data": {
      "text/html": [
       "<div>\n",
       "<style scoped>\n",
       "    .dataframe tbody tr th:only-of-type {\n",
       "        vertical-align: middle;\n",
       "    }\n",
       "\n",
       "    .dataframe tbody tr th {\n",
       "        vertical-align: top;\n",
       "    }\n",
       "\n",
       "    .dataframe thead th {\n",
       "        text-align: right;\n",
       "    }\n",
       "</style>\n",
       "<table border=\"1\" class=\"dataframe\">\n",
       "  <thead>\n",
       "    <tr style=\"text-align: right;\">\n",
       "      <th></th>\n",
       "      <th>programme</th>\n",
       "      <th>enrolment</th>\n",
       "      <th>first_class</th>\n",
       "      <th>classes_taken</th>\n",
       "    </tr>\n",
       "    <tr>\n",
       "      <th>student</th>\n",
       "      <th></th>\n",
       "      <th></th>\n",
       "      <th></th>\n",
       "      <th></th>\n",
       "    </tr>\n",
       "  </thead>\n",
       "  <tbody>\n",
       "    <tr>\n",
       "      <th>Bob</th>\n",
       "      <td>BIM</td>\n",
       "      <td>2008.0</td>\n",
       "      <td>2008-01-09</td>\n",
       "      <td>10</td>\n",
       "    </tr>\n",
       "    <tr>\n",
       "      <th>Jake</th>\n",
       "      <td>MiM</td>\n",
       "      <td>2012.0</td>\n",
       "      <td>2012-01-10</td>\n",
       "      <td>4</td>\n",
       "    </tr>\n",
       "    <tr>\n",
       "      <th>Lisa</th>\n",
       "      <td>IM</td>\n",
       "      <td>2004.0</td>\n",
       "      <td>2004-09-15</td>\n",
       "      <td>7</td>\n",
       "    </tr>\n",
       "    <tr>\n",
       "      <th>Sue</th>\n",
       "      <td>BIM</td>\n",
       "      <td>NaN</td>\n",
       "      <td>NaT</td>\n",
       "      <td>2</td>\n",
       "    </tr>\n",
       "    <tr>\n",
       "      <th>William</th>\n",
       "      <td>SCM</td>\n",
       "      <td>2008.0</td>\n",
       "      <td>2009-01-01</td>\n",
       "      <td>0</td>\n",
       "    </tr>\n",
       "    <tr>\n",
       "      <th>James</th>\n",
       "      <td>BIM</td>\n",
       "      <td>2012.0</td>\n",
       "      <td>2012-01-10</td>\n",
       "      <td>0</td>\n",
       "    </tr>\n",
       "    <tr>\n",
       "      <th>Harper</th>\n",
       "      <td>BIM</td>\n",
       "      <td>2004.0</td>\n",
       "      <td>2004-08-30</td>\n",
       "      <td>0</td>\n",
       "    </tr>\n",
       "    <tr>\n",
       "      <th>Mason</th>\n",
       "      <td>IM</td>\n",
       "      <td>2009.0</td>\n",
       "      <td>2009-10-09</td>\n",
       "      <td>3</td>\n",
       "    </tr>\n",
       "    <tr>\n",
       "      <th>Evelyn</th>\n",
       "      <td>IM</td>\n",
       "      <td>NaN</td>\n",
       "      <td>NaT</td>\n",
       "      <td>4</td>\n",
       "    </tr>\n",
       "    <tr>\n",
       "      <th>Ella</th>\n",
       "      <td>SCM</td>\n",
       "      <td>2012.0</td>\n",
       "      <td>2012-02-10</td>\n",
       "      <td>5</td>\n",
       "    </tr>\n",
       "    <tr>\n",
       "      <th>Jackson</th>\n",
       "      <td>MiM</td>\n",
       "      <td>2004.0</td>\n",
       "      <td>2004-01-09</td>\n",
       "      <td>0</td>\n",
       "    </tr>\n",
       "    <tr>\n",
       "      <th>Avery</th>\n",
       "      <td>MiM</td>\n",
       "      <td>2005.0</td>\n",
       "      <td>2006-05-02</td>\n",
       "      <td>10</td>\n",
       "    </tr>\n",
       "  </tbody>\n",
       "</table>\n",
       "</div>"
      ],
      "text/plain": [
       "        programme  enrolment first_class  classes_taken\n",
       "student                                                \n",
       "Bob           BIM     2008.0  2008-01-09             10\n",
       "Jake          MiM     2012.0  2012-01-10              4\n",
       "Lisa           IM     2004.0  2004-09-15              7\n",
       "Sue           BIM        NaN         NaT              2\n",
       "William       SCM     2008.0  2009-01-01              0\n",
       "James         BIM     2012.0  2012-01-10              0\n",
       "Harper        BIM     2004.0  2004-08-30              0\n",
       "Mason          IM     2009.0  2009-10-09              3\n",
       "Evelyn         IM        NaN         NaT              4\n",
       "Ella          SCM     2012.0  2012-02-10              5\n",
       "Jackson       MiM     2004.0  2004-01-09              0\n",
       "Avery         MiM     2005.0  2006-05-02             10"
      ]
     },
     "execution_count": 27,
     "metadata": {},
     "output_type": "execute_result"
    }
   ],
   "source": [
    "df = df.set_index('student')\n",
    "df"
   ]
  },
  {
   "cell_type": "markdown",
   "metadata": {},
   "source": [
    "Now we can use a student's name to select her/his data:"
   ]
  },
  {
   "cell_type": "code",
   "execution_count": 28,
   "metadata": {},
   "outputs": [
    {
     "data": {
      "text/plain": [
       "programme                        BIM\n",
       "enrolment                     2008.0\n",
       "first_class      2008-01-09 00:00:00\n",
       "classes_taken                     10\n",
       "Name: Bob, dtype: object"
      ]
     },
     "execution_count": 28,
     "metadata": {},
     "output_type": "execute_result"
    }
   ],
   "source": [
    "df.loc['Bob']"
   ]
  },
  {
   "cell_type": "markdown",
   "metadata": {
    "deletable": false,
    "editable": false
   },
   "source": [
    "© 2023 Philipp Cornelius"
   ]
  }
 ],
 "metadata": {
  "kernelspec": {
   "display_name": "Python 3",
   "language": "python",
   "name": "python3"
  },
  "language_info": {
   "codemirror_mode": {
    "name": "ipython",
    "version": 3
   },
   "file_extension": ".py",
   "mimetype": "text/x-python",
   "name": "python",
   "nbconvert_exporter": "python",
   "pygments_lexer": "ipython3",
   "version": "3.8.1"
  }
 },
 "nbformat": 4,
 "nbformat_minor": 4
}
