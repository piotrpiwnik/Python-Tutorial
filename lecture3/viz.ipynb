{
 "cells": [
  {
   "cell_type": "markdown",
   "metadata": {},
   "source": [
    "# Lecture 4: Data Visualisation\n",
    "\n",
    "* Pandas + matplotlib\n",
    "    * Pie chart\n",
    "    * Line chart\n",
    "    * Scatter plot\n",
    "    * Histogram"
   ]
  },
  {
   "cell_type": "markdown",
   "metadata": {},
   "source": [
    "## Setup\n",
    "\n",
    "Pandas:"
   ]
  },
  {
   "cell_type": "code",
   "execution_count": 1,
   "metadata": {},
   "outputs": [],
   "source": [
    "import pandas as pd"
   ]
  },
  {
   "cell_type": "markdown",
   "metadata": {},
   "source": [
    "Matplotlib + Seaborn:"
   ]
  },
  {
   "cell_type": "code",
   "execution_count": 2,
   "metadata": {},
   "outputs": [],
   "source": [
    "import matplotlib.pyplot as plt\n",
    "%matplotlib inline\n",
    "import seaborn as sns; sns.set()"
   ]
  },
  {
   "cell_type": "markdown",
   "metadata": {},
   "source": [
    "## Data\n",
    "\n",
    "From [OECD](https://data.oecd.org/gdp/gross-domestic-product-gdp.htm)."
   ]
  },
  {
   "cell_type": "code",
   "execution_count": 3,
   "metadata": {},
   "outputs": [
    {
     "data": {
      "text/html": [
       "<div>\n",
       "<style scoped>\n",
       "    .dataframe tbody tr th:only-of-type {\n",
       "        vertical-align: middle;\n",
       "    }\n",
       "\n",
       "    .dataframe tbody tr th {\n",
       "        vertical-align: top;\n",
       "    }\n",
       "\n",
       "    .dataframe thead th {\n",
       "        text-align: right;\n",
       "    }\n",
       "</style>\n",
       "<table border=\"1\" class=\"dataframe\">\n",
       "  <thead>\n",
       "    <tr style=\"text-align: right;\">\n",
       "      <th></th>\n",
       "      <th>LOCATION</th>\n",
       "      <th>INDICATOR</th>\n",
       "      <th>SUBJECT</th>\n",
       "      <th>MEASURE</th>\n",
       "      <th>FREQUENCY</th>\n",
       "      <th>TIME</th>\n",
       "      <th>Value</th>\n",
       "      <th>Flag Codes</th>\n",
       "    </tr>\n",
       "  </thead>\n",
       "  <tbody>\n",
       "    <tr>\n",
       "      <th>0</th>\n",
       "      <td>AUS</td>\n",
       "      <td>GDP</td>\n",
       "      <td>TOT</td>\n",
       "      <td>MLN_USD</td>\n",
       "      <td>A</td>\n",
       "      <td>1960</td>\n",
       "      <td>25034.740000</td>\n",
       "      <td>NaN</td>\n",
       "    </tr>\n",
       "    <tr>\n",
       "      <th>1</th>\n",
       "      <td>AUS</td>\n",
       "      <td>GDP</td>\n",
       "      <td>TOT</td>\n",
       "      <td>MLN_USD</td>\n",
       "      <td>A</td>\n",
       "      <td>1961</td>\n",
       "      <td>25326.382000</td>\n",
       "      <td>NaN</td>\n",
       "    </tr>\n",
       "    <tr>\n",
       "      <th>2</th>\n",
       "      <td>AUS</td>\n",
       "      <td>GDP</td>\n",
       "      <td>TOT</td>\n",
       "      <td>MLN_USD</td>\n",
       "      <td>A</td>\n",
       "      <td>1962</td>\n",
       "      <td>27913.206000</td>\n",
       "      <td>NaN</td>\n",
       "    </tr>\n",
       "    <tr>\n",
       "      <th>3</th>\n",
       "      <td>AUS</td>\n",
       "      <td>GDP</td>\n",
       "      <td>TOT</td>\n",
       "      <td>MLN_USD</td>\n",
       "      <td>A</td>\n",
       "      <td>1963</td>\n",
       "      <td>30385.723000</td>\n",
       "      <td>NaN</td>\n",
       "    </tr>\n",
       "    <tr>\n",
       "      <th>4</th>\n",
       "      <td>AUS</td>\n",
       "      <td>GDP</td>\n",
       "      <td>TOT</td>\n",
       "      <td>MLN_USD</td>\n",
       "      <td>A</td>\n",
       "      <td>1964</td>\n",
       "      <td>32694.467000</td>\n",
       "      <td>NaN</td>\n",
       "    </tr>\n",
       "    <tr>\n",
       "      <th>...</th>\n",
       "      <td>...</td>\n",
       "      <td>...</td>\n",
       "      <td>...</td>\n",
       "      <td>...</td>\n",
       "      <td>...</td>\n",
       "      <td>...</td>\n",
       "      <td>...</td>\n",
       "      <td>...</td>\n",
       "    </tr>\n",
       "    <tr>\n",
       "      <th>4832</th>\n",
       "      <td>EU27_2020</td>\n",
       "      <td>GDP</td>\n",
       "      <td>TOT</td>\n",
       "      <td>USD_CAP</td>\n",
       "      <td>A</td>\n",
       "      <td>2016</td>\n",
       "      <td>39172.901704</td>\n",
       "      <td>NaN</td>\n",
       "    </tr>\n",
       "    <tr>\n",
       "      <th>4833</th>\n",
       "      <td>EU27_2020</td>\n",
       "      <td>GDP</td>\n",
       "      <td>TOT</td>\n",
       "      <td>USD_CAP</td>\n",
       "      <td>A</td>\n",
       "      <td>2017</td>\n",
       "      <td>40728.649363</td>\n",
       "      <td>NaN</td>\n",
       "    </tr>\n",
       "    <tr>\n",
       "      <th>4834</th>\n",
       "      <td>EU27_2020</td>\n",
       "      <td>GDP</td>\n",
       "      <td>TOT</td>\n",
       "      <td>USD_CAP</td>\n",
       "      <td>A</td>\n",
       "      <td>2018</td>\n",
       "      <td>42055.470257</td>\n",
       "      <td>NaN</td>\n",
       "    </tr>\n",
       "    <tr>\n",
       "      <th>4835</th>\n",
       "      <td>EU27_2020</td>\n",
       "      <td>GDP</td>\n",
       "      <td>TOT</td>\n",
       "      <td>USD_CAP</td>\n",
       "      <td>A</td>\n",
       "      <td>2019</td>\n",
       "      <td>43354.982276</td>\n",
       "      <td>NaN</td>\n",
       "    </tr>\n",
       "    <tr>\n",
       "      <th>4836</th>\n",
       "      <td>EU27_2020</td>\n",
       "      <td>GDP</td>\n",
       "      <td>TOT</td>\n",
       "      <td>USD_CAP</td>\n",
       "      <td>A</td>\n",
       "      <td>2020</td>\n",
       "      <td>41235.245877</td>\n",
       "      <td>NaN</td>\n",
       "    </tr>\n",
       "  </tbody>\n",
       "</table>\n",
       "<p>4837 rows × 8 columns</p>\n",
       "</div>"
      ],
      "text/plain": [
       "       LOCATION INDICATOR SUBJECT  MEASURE FREQUENCY  TIME         Value  \\\n",
       "0           AUS       GDP     TOT  MLN_USD         A  1960  25034.740000   \n",
       "1           AUS       GDP     TOT  MLN_USD         A  1961  25326.382000   \n",
       "2           AUS       GDP     TOT  MLN_USD         A  1962  27913.206000   \n",
       "3           AUS       GDP     TOT  MLN_USD         A  1963  30385.723000   \n",
       "4           AUS       GDP     TOT  MLN_USD         A  1964  32694.467000   \n",
       "...         ...       ...     ...      ...       ...   ...           ...   \n",
       "4832  EU27_2020       GDP     TOT  USD_CAP         A  2016  39172.901704   \n",
       "4833  EU27_2020       GDP     TOT  USD_CAP         A  2017  40728.649363   \n",
       "4834  EU27_2020       GDP     TOT  USD_CAP         A  2018  42055.470257   \n",
       "4835  EU27_2020       GDP     TOT  USD_CAP         A  2019  43354.982276   \n",
       "4836  EU27_2020       GDP     TOT  USD_CAP         A  2020  41235.245877   \n",
       "\n",
       "     Flag Codes  \n",
       "0           NaN  \n",
       "1           NaN  \n",
       "2           NaN  \n",
       "3           NaN  \n",
       "4           NaN  \n",
       "...         ...  \n",
       "4832        NaN  \n",
       "4833        NaN  \n",
       "4834        NaN  \n",
       "4835        NaN  \n",
       "4836        NaN  \n",
       "\n",
       "[4837 rows x 8 columns]"
      ]
     },
     "execution_count": 3,
     "metadata": {},
     "output_type": "execute_result"
    }
   ],
   "source": [
    "gdp = pd.read_csv('OECD GDP 2021-04.csv')\n",
    "gdp"
   ]
  },
  {
   "cell_type": "markdown",
   "metadata": {},
   "source": [
    "We can use `info()` to get an overview of all variables in a `DataFrame`:"
   ]
  },
  {
   "cell_type": "code",
   "execution_count": 4,
   "metadata": {},
   "outputs": [
    {
     "name": "stdout",
     "output_type": "stream",
     "text": [
      "<class 'pandas.core.frame.DataFrame'>\n",
      "RangeIndex: 4837 entries, 0 to 4836\n",
      "Data columns (total 8 columns):\n",
      " #   Column      Non-Null Count  Dtype  \n",
      "---  ------      --------------  -----  \n",
      " 0   LOCATION    4837 non-null   object \n",
      " 1   INDICATOR   4837 non-null   object \n",
      " 2   SUBJECT     4837 non-null   object \n",
      " 3   MEASURE     4837 non-null   object \n",
      " 4   FREQUENCY   4837 non-null   object \n",
      " 5   TIME        4837 non-null   int64  \n",
      " 6   Value       4837 non-null   float64\n",
      " 7   Flag Codes  1265 non-null   object \n",
      "dtypes: float64(1), int64(1), object(6)\n",
      "memory usage: 302.4+ KB\n"
     ]
    }
   ],
   "source": [
    "gdp.info()"
   ]
  },
  {
   "cell_type": "markdown",
   "metadata": {},
   "source": [
    "... and we can use `describe()` to get summary statistics of all numerical variables:"
   ]
  },
  {
   "cell_type": "code",
   "execution_count": 5,
   "metadata": {},
   "outputs": [
    {
     "data": {
      "text/html": [
       "<div>\n",
       "<style scoped>\n",
       "    .dataframe tbody tr th:only-of-type {\n",
       "        vertical-align: middle;\n",
       "    }\n",
       "\n",
       "    .dataframe tbody tr th {\n",
       "        vertical-align: top;\n",
       "    }\n",
       "\n",
       "    .dataframe thead th {\n",
       "        text-align: right;\n",
       "    }\n",
       "</style>\n",
       "<table border=\"1\" class=\"dataframe\">\n",
       "  <thead>\n",
       "    <tr style=\"text-align: right;\">\n",
       "      <th></th>\n",
       "      <th>TIME</th>\n",
       "      <th>Value</th>\n",
       "    </tr>\n",
       "  </thead>\n",
       "  <tbody>\n",
       "    <tr>\n",
       "      <th>count</th>\n",
       "      <td>4837.000000</td>\n",
       "      <td>4.837000e+03</td>\n",
       "    </tr>\n",
       "    <tr>\n",
       "      <th>mean</th>\n",
       "      <td>1997.892289</td>\n",
       "      <td>1.003483e+06</td>\n",
       "    </tr>\n",
       "    <tr>\n",
       "      <th>std</th>\n",
       "      <td>14.610711</td>\n",
       "      <td>4.081933e+06</td>\n",
       "    </tr>\n",
       "    <tr>\n",
       "      <th>min</th>\n",
       "      <td>1960.000000</td>\n",
       "      <td>1.029476e+02</td>\n",
       "    </tr>\n",
       "    <tr>\n",
       "      <th>25%</th>\n",
       "      <td>1987.000000</td>\n",
       "      <td>1.659526e+04</td>\n",
       "    </tr>\n",
       "    <tr>\n",
       "      <th>50%</th>\n",
       "      <td>2000.000000</td>\n",
       "      <td>4.077592e+04</td>\n",
       "    </tr>\n",
       "    <tr>\n",
       "      <th>75%</th>\n",
       "      <td>2010.000000</td>\n",
       "      <td>2.786919e+05</td>\n",
       "    </tr>\n",
       "    <tr>\n",
       "      <th>max</th>\n",
       "      <td>2020.000000</td>\n",
       "      <td>6.308436e+07</td>\n",
       "    </tr>\n",
       "  </tbody>\n",
       "</table>\n",
       "</div>"
      ],
      "text/plain": [
       "              TIME         Value\n",
       "count  4837.000000  4.837000e+03\n",
       "mean   1997.892289  1.003483e+06\n",
       "std      14.610711  4.081933e+06\n",
       "min    1960.000000  1.029476e+02\n",
       "25%    1987.000000  1.659526e+04\n",
       "50%    2000.000000  4.077592e+04\n",
       "75%    2010.000000  2.786919e+05\n",
       "max    2020.000000  6.308436e+07"
      ]
     },
     "execution_count": 5,
     "metadata": {},
     "output_type": "execute_result"
    }
   ],
   "source": [
    "gdp.describe()"
   ]
  },
  {
   "cell_type": "markdown",
   "metadata": {},
   "source": [
    "Some explanation of the variables:\n",
    "* `MEASURE`:\n",
    "    * `MLN_USD`: million USD\n",
    "    * `USD_CAP`: per capita"
   ]
  },
  {
   "cell_type": "markdown",
   "metadata": {},
   "source": [
    "Remove non-country data (e.g., `OECD`):"
   ]
  },
  {
   "cell_type": "code",
   "execution_count": 6,
   "metadata": {},
   "outputs": [],
   "source": [
    "gdp = gdp[gdp['LOCATION'].str.len() == 3]"
   ]
  },
  {
   "cell_type": "markdown",
   "metadata": {},
   "source": [
    "## Pie Chart\n",
    "\n",
    "Top-10 countries by GDP (in million USD) in 2019."
   ]
  },
  {
   "cell_type": "code",
   "execution_count": 7,
   "metadata": {},
   "outputs": [],
   "source": [
    "gdp_top10 = gdp[(gdp['MEASURE'] == 'MLN_USD')\n",
    "                & (gdp['TIME'] == 2019)].sort_values('Value', ascending=False).head(10)"
   ]
  },
  {
   "cell_type": "code",
   "execution_count": 8,
   "metadata": {},
   "outputs": [
    {
     "data": {
      "text/html": [
       "<div>\n",
       "<style scoped>\n",
       "    .dataframe tbody tr th:only-of-type {\n",
       "        vertical-align: middle;\n",
       "    }\n",
       "\n",
       "    .dataframe tbody tr th {\n",
       "        vertical-align: top;\n",
       "    }\n",
       "\n",
       "    .dataframe thead th {\n",
       "        text-align: right;\n",
       "    }\n",
       "</style>\n",
       "<table border=\"1\" class=\"dataframe\">\n",
       "  <thead>\n",
       "    <tr style=\"text-align: right;\">\n",
       "      <th></th>\n",
       "      <th>LOCATION</th>\n",
       "      <th>INDICATOR</th>\n",
       "      <th>SUBJECT</th>\n",
       "      <th>MEASURE</th>\n",
       "      <th>FREQUENCY</th>\n",
       "      <th>TIME</th>\n",
       "      <th>Value</th>\n",
       "      <th>Flag Codes</th>\n",
       "    </tr>\n",
       "  </thead>\n",
       "  <tbody>\n",
       "    <tr>\n",
       "      <th>3096</th>\n",
       "      <td>CHN</td>\n",
       "      <td>GDP</td>\n",
       "      <td>TOT</td>\n",
       "      <td>MLN_USD</td>\n",
       "      <td>A</td>\n",
       "      <td>2019</td>\n",
       "      <td>2.352336e+07</td>\n",
       "      <td>NaN</td>\n",
       "    </tr>\n",
       "    <tr>\n",
       "      <th>2928</th>\n",
       "      <td>USA</td>\n",
       "      <td>GDP</td>\n",
       "      <td>TOT</td>\n",
       "      <td>MLN_USD</td>\n",
       "      <td>A</td>\n",
       "      <td>2019</td>\n",
       "      <td>2.143323e+07</td>\n",
       "      <td>NaN</td>\n",
       "    </tr>\n",
       "    <tr>\n",
       "      <th>1460</th>\n",
       "      <td>JPN</td>\n",
       "      <td>GDP</td>\n",
       "      <td>TOT</td>\n",
       "      <td>MLN_USD</td>\n",
       "      <td>A</td>\n",
       "      <td>2019</td>\n",
       "      <td>5.346540e+06</td>\n",
       "      <td>E</td>\n",
       "    </tr>\n",
       "    <tr>\n",
       "      <th>880</th>\n",
       "      <td>DEU</td>\n",
       "      <td>GDP</td>\n",
       "      <td>TOT</td>\n",
       "      <td>MLN_USD</td>\n",
       "      <td>A</td>\n",
       "      <td>2019</td>\n",
       "      <td>4.644164e+06</td>\n",
       "      <td>NaN</td>\n",
       "    </tr>\n",
       "    <tr>\n",
       "      <th>3487</th>\n",
       "      <td>RUS</td>\n",
       "      <td>GDP</td>\n",
       "      <td>TOT</td>\n",
       "      <td>MLN_USD</td>\n",
       "      <td>A</td>\n",
       "      <td>2019</td>\n",
       "      <td>4.315441e+06</td>\n",
       "      <td>NaN</td>\n",
       "    </tr>\n",
       "    <tr>\n",
       "      <th>3368</th>\n",
       "      <td>IDN</td>\n",
       "      <td>GDP</td>\n",
       "      <td>TOT</td>\n",
       "      <td>MLN_USD</td>\n",
       "      <td>A</td>\n",
       "      <td>2019</td>\n",
       "      <td>3.338144e+06</td>\n",
       "      <td>NaN</td>\n",
       "    </tr>\n",
       "    <tr>\n",
       "      <th>768</th>\n",
       "      <td>FRA</td>\n",
       "      <td>GDP</td>\n",
       "      <td>TOT</td>\n",
       "      <td>MLN_USD</td>\n",
       "      <td>A</td>\n",
       "      <td>2019</td>\n",
       "      <td>3.320560e+06</td>\n",
       "      <td>P</td>\n",
       "    </tr>\n",
       "    <tr>\n",
       "      <th>2816</th>\n",
       "      <td>GBR</td>\n",
       "      <td>GDP</td>\n",
       "      <td>TOT</td>\n",
       "      <td>MLN_USD</td>\n",
       "      <td>A</td>\n",
       "      <td>2019</td>\n",
       "      <td>3.242466e+06</td>\n",
       "      <td>NaN</td>\n",
       "    </tr>\n",
       "    <tr>\n",
       "      <th>1358</th>\n",
       "      <td>ITA</td>\n",
       "      <td>GDP</td>\n",
       "      <td>TOT</td>\n",
       "      <td>MLN_USD</td>\n",
       "      <td>A</td>\n",
       "      <td>2019</td>\n",
       "      <td>2.678904e+06</td>\n",
       "      <td>NaN</td>\n",
       "    </tr>\n",
       "    <tr>\n",
       "      <th>1762</th>\n",
       "      <td>MEX</td>\n",
       "      <td>GDP</td>\n",
       "      <td>TOT</td>\n",
       "      <td>MLN_USD</td>\n",
       "      <td>A</td>\n",
       "      <td>2019</td>\n",
       "      <td>2.608650e+06</td>\n",
       "      <td>P</td>\n",
       "    </tr>\n",
       "  </tbody>\n",
       "</table>\n",
       "</div>"
      ],
      "text/plain": [
       "     LOCATION INDICATOR SUBJECT  MEASURE FREQUENCY  TIME         Value  \\\n",
       "3096      CHN       GDP     TOT  MLN_USD         A  2019  2.352336e+07   \n",
       "2928      USA       GDP     TOT  MLN_USD         A  2019  2.143323e+07   \n",
       "1460      JPN       GDP     TOT  MLN_USD         A  2019  5.346540e+06   \n",
       "880       DEU       GDP     TOT  MLN_USD         A  2019  4.644164e+06   \n",
       "3487      RUS       GDP     TOT  MLN_USD         A  2019  4.315441e+06   \n",
       "3368      IDN       GDP     TOT  MLN_USD         A  2019  3.338144e+06   \n",
       "768       FRA       GDP     TOT  MLN_USD         A  2019  3.320560e+06   \n",
       "2816      GBR       GDP     TOT  MLN_USD         A  2019  3.242466e+06   \n",
       "1358      ITA       GDP     TOT  MLN_USD         A  2019  2.678904e+06   \n",
       "1762      MEX       GDP     TOT  MLN_USD         A  2019  2.608650e+06   \n",
       "\n",
       "     Flag Codes  \n",
       "3096        NaN  \n",
       "2928        NaN  \n",
       "1460          E  \n",
       "880         NaN  \n",
       "3487        NaN  \n",
       "3368        NaN  \n",
       "768           P  \n",
       "2816        NaN  \n",
       "1358        NaN  \n",
       "1762          P  "
      ]
     },
     "execution_count": 8,
     "metadata": {},
     "output_type": "execute_result"
    }
   ],
   "source": [
    "gdp_top10"
   ]
  },
  {
   "cell_type": "code",
   "execution_count": 9,
   "metadata": {},
   "outputs": [
    {
     "data": {
      "image/png": "[encoded data removed]",
      "text/plain": [
       "<Figure size 432x288 with 1 Axes>"
      ]
     },
     "metadata": {},
     "output_type": "display_data"
    }
   ],
   "source": [
    "gdp_top10.plot.pie(y='Value');"
   ]
  },
  {
   "cell_type": "code",
   "execution_count": 10,
   "metadata": {},
   "outputs": [
    {
     "data": {
      "image/png": "[encoded data removed]",
      "text/plain": [
       "<Figure size 432x288 with 1 Axes>"
      ]
     },
     "metadata": {},
     "output_type": "display_data"
    }
   ],
   "source": [
    "gdp_top10.plot.pie(y='Value', legend=False);"
   ]
  },
  {
   "cell_type": "code",
   "execution_count": 11,
   "metadata": {},
   "outputs": [
    {
     "data": {
      "image/png": "[encoded data removed]",
      "text/plain": [
       "<Figure size 432x288 with 1 Axes>"
      ]
     },
     "metadata": {},
     "output_type": "display_data"
    }
   ],
   "source": [
    "gdp_top10.plot.pie(y='Value', legend=False,\n",
    "                   labels=gdp_top10['LOCATION']);"
   ]
  },
  {
   "cell_type": "markdown",
   "metadata": {},
   "source": [
    "Display shares using Python's old string formatting syntax (with `%`):"
   ]
  },
  {
   "cell_type": "code",
   "execution_count": 12,
   "metadata": {},
   "outputs": [
    {
     "data": {
      "image/png": "[encoded data removed]",
      "text/plain": [
       "<Figure size 432x288 with 1 Axes>"
      ]
     },
     "metadata": {},
     "output_type": "display_data"
    }
   ],
   "source": [
    "gdp_top10.plot.pie(y='Value', legend=False,\n",
    "                   labels=gdp_top10['LOCATION'],\n",
    "                   autopct='%.0f');"
   ]
  },
  {
   "cell_type": "markdown",
   "metadata": {},
   "source": [
    "Documentation is in [pandas.DataFrame.plot.pie](https://pandas.pydata.org/pandas-docs/stable/reference/api/pandas.DataFrame.plot.pie.html) and [matplotlib.pyplot.pie](https://matplotlib.org/stable/api/_as_gen/matplotlib.pyplot.pie.html)."
   ]
  },
  {
   "cell_type": "markdown",
   "metadata": {},
   "source": [
    "## Line Plot\n",
    "\n",
    "GDP per capita in the Netherlands since the 60s."
   ]
  },
  {
   "cell_type": "code",
   "execution_count": 13,
   "metadata": {},
   "outputs": [
    {
     "data": {
      "image/png": "[encoded data removed]",
      "text/plain": [
       "<Figure size 432x288 with 1 Axes>"
      ]
     },
     "metadata": {},
     "output_type": "display_data"
    }
   ],
   "source": [
    "gdp[(gdp['LOCATION'] == 'NLD')\n",
    "    & (gdp['MEASURE'] == 'USD_CAP')].plot(x='TIME', y='Value');"
   ]
  },
  {
   "cell_type": "markdown",
   "metadata": {},
   "source": [
    "Documentation is in [pandas.DataFrame.plot](https://pandas.pydata.org/pandas-docs/stable/reference/api/pandas.DataFrame.plot.html) and [matplotlib.pyplot](https://matplotlib.org/stable/api/_as_gen/matplotlib.pyplot.html)."
   ]
  },
  {
   "cell_type": "markdown",
   "metadata": {},
   "source": [
    "## Scatter Plot\n",
    "\n",
    "GDP per capita in the Netherlands since the 60s."
   ]
  },
  {
   "cell_type": "code",
   "execution_count": 14,
   "metadata": {},
   "outputs": [
    {
     "data": {
      "image/png": "[encoded data removed]",
      "text/plain": [
       "<Figure size 432x288 with 1 Axes>"
      ]
     },
     "metadata": {},
     "output_type": "display_data"
    }
   ],
   "source": [
    "gdp[(gdp['LOCATION'] == 'NLD')\n",
    "    & (gdp['MEASURE'] == 'USD_CAP')].plot.scatter(x='TIME',\n",
    "                                                  y='Value',\n",
    "                                                  c='r');"
   ]
  },
  {
   "cell_type": "markdown",
   "metadata": {},
   "source": [
    "Documentation is in [pandas.DataFrame.plot.scatter](https://pandas.pydata.org/pandas-docs/stable/reference/api/pandas.DataFrame.plot.scatter.html) and [matplotlib.pyplot.scatter](https://matplotlib.org/stable/api/_as_gen/matplotlib.pyplot.scatter.html)."
   ]
  },
  {
   "cell_type": "markdown",
   "metadata": {},
   "source": [
    "## Histogram\n",
    "\n",
    "Distribution of GDP in 2019."
   ]
  },
  {
   "cell_type": "code",
   "execution_count": 15,
   "metadata": {},
   "outputs": [
    {
     "data": {
      "image/png": "[encoded data removed]",
      "text/plain": [
       "<Figure size 432x288 with 1 Axes>"
      ]
     },
     "metadata": {},
     "output_type": "display_data"
    }
   ],
   "source": [
    "gdp.loc[(gdp['MEASURE'] == 'MLN_USD')\n",
    "        & (gdp['TIME'] == 2019), 'Value'].plot.hist(bins=100);"
   ]
  },
  {
   "cell_type": "markdown",
   "metadata": {},
   "source": [
    "Documentation is in [pandas.DataFrame.plot.hist](https://pandas.pydata.org/pandas-docs/stable/reference/api/pandas.DataFrame.plot.hist.html) and [matplotlib.pyplot.hist](https://matplotlib.org/stable/api/_as_gen/matplotlib.pyplot.hist.html)."
   ]
  },
  {
   "cell_type": "markdown",
   "metadata": {
    "deletable": false,
    "editable": false
   },
   "source": [
    "© 2023 Philipp Cornelius"
   ]
  }
 ],
 "metadata": {
  "kernelspec": {
   "display_name": "Python 3",
   "language": "python",
   "name": "python3"
  },
  "language_info": {
   "codemirror_mode": {
    "name": "ipython",
    "version": 3
   },
   "file_extension": ".py",
   "mimetype": "text/x-python",
   "name": "python",
   "nbconvert_exporter": "python",
   "pygments_lexer": "ipython3",
   "version": "3.8.1"
  }
 },
 "nbformat": 4,
 "nbformat_minor": 4
}
