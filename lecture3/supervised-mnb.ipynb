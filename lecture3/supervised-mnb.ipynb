{
 "cells": [
  {
   "cell_type": "markdown",
   "metadata": {},
   "source": [
    "# Lecture 4: Supervised Models, [Multinomial Naïve Bayes (MNB)](https://scikit-learn.org/stable/modules/generated/sklearn.naive_bayes.MultinomialNB.html) Classifier\n",
    "\n",
    "* How to train a Multinomial Naïve Bayesian classifier with `sklearn`."
   ]
  },
  {
   "cell_type": "markdown",
   "metadata": {},
   "source": [
    "## Imports"
   ]
  },
  {
   "cell_type": "code",
   "execution_count": 1,
   "metadata": {},
   "outputs": [],
   "source": [
    "import pandas as pd\n",
    "import numpy as np\n",
    "\n",
    "import matplotlib.pyplot as plt\n",
    "%matplotlib inline\n",
    "import seaborn as sns; sns.set()"
   ]
  },
  {
   "cell_type": "markdown",
   "metadata": {},
   "source": [
    "## Data\n",
    "\n",
    "MNB classifiers are often used to predict labels for textual data. This also allows us to practice vectorisation.\n",
    "\n",
    "We use the well-known [newsgroups data](https://scikit-learn.org/stable/modules/generated/sklearn.datasets.fetch_20newsgroups.html), which \"comprises around 18000 newsgroups posts on 20 topics\" ([src](https://scikit-learn.org/stable/datasets/real_world.html#newsgroups-dataset)). Our goal is to create an MNB model that can predict posts' topics based on their text."
   ]
  },
  {
   "cell_type": "code",
   "execution_count": 2,
   "metadata": {},
   "outputs": [],
   "source": [
    "from sklearn.datasets import fetch_20newsgroups\n",
    "\n",
    "X, y = fetch_20newsgroups(return_X_y=True)"
   ]
  },
  {
   "cell_type": "markdown",
   "metadata": {},
   "source": [
    "`X` now contains a single blob of text for each post:"
   ]
  },
  {
   "cell_type": "code",
   "execution_count": 3,
   "metadata": {
    "tags": []
   },
   "outputs": [
    {
     "data": {
      "text/plain": [
       "\"From: lerxst@wam.umd.edu (where's my thing)\\nSubject: WHAT car is this!?\\nNntp-Posting-Host: rac3.wam.umd.edu\\nOrganization: University of Maryland, College Park\\nLines: 15\\n\\n I was wondering if anyone out there could enlighten me on this car I saw\\nthe other day. It was a 2-door sports car, looked to be from the late 60s/\\nearly 70s. It was called a Bricklin. The doors were really small. In addition,\\nthe front bumper was separate from the rest of the body. This is \\nall I know. If anyone can tellme a model name, engine specs, years\\nof production, where this car is made, history, or whatever info you\\nhave on this funky looking car, please e-mail.\\n\\nThanks,\\n- IL\\n   ---- brought to you by your neighborhood Lerxst ----\\n\\n\\n\\n\\n\""
      ]
     },
     "execution_count": 3,
     "metadata": {},
     "output_type": "execute_result"
    }
   ],
   "source": [
    "X[0]"
   ]
  },
  {
   "cell_type": "markdown",
   "metadata": {},
   "source": [
    "We can't use text directly in models. Instead, we need to **vectorise** it. Vectorisation is the process of taking non-numerical data (usually text or pictures) and transforming it into a numerical vector.\n",
    "\n",
    "A very common and simple vectoriser is to simply count words:\n",
    "\n",
    "<img src=\"vectorisation.png\" alt=\"Vectorisation\" style=\"width: 600px; display: inline; margin-top: 0\"/><br>\n",
    "Picture from *Applied Text Analysis with Python* by *Benjamin Bengfort, Rebecca Bilbro, Tony Ojeda* ([src](https://www.oreilly.com/library/view/applied-text-analysis/9781491963036/ch04.html))</br>\n",
    "\n",
    "Each text (or *document*) becomes a vector of word counts. The length of the vector is determined by the number of words in all documents (the *corpus*). Every word has its own entry in the vector and vectors for each observation are equally long.\n",
    "\n",
    "Count vectorisation is implemented in `sklearn`'s [`CountVectorizer`](https://scikit-learn.org/stable/modules/generated/sklearn.feature_extraction.text.CountVectorizer.html).\n",
    "\n",
    "It's easy to use:\n",
    "1. We import `CountVectorizer` from `sklearn.feature_extraction.text`.\n",
    "2. We instantiate the vectoriser, using a small integer format (`np.int16`) to conserve memory.\n",
    "3. We call `fit_transform(X)` to transform `X` into a vector."
   ]
  },
  {
   "cell_type": "code",
   "execution_count": 5,
   "metadata": {},
   "outputs": [],
   "source": [
    "from sklearn.feature_extraction.text import CountVectorizer\n",
    "\n",
    "vectoriser = CountVectorizer(dtype=np.int16)\n",
    "X_vect = vectoriser.fit_transform(X).tocsr()"
   ]
  },
  {
   "cell_type": "markdown",
   "metadata": {},
   "source": [
    "Since each word is a column (and each row is a document), `X_vect` is quite big:"
   ]
  },
  {
   "cell_type": "code",
   "execution_count": 6,
   "metadata": {},
   "outputs": [
    {
     "data": {
      "text/plain": [
       "(11314, 130107)"
      ]
     },
     "execution_count": 6,
     "metadata": {},
     "output_type": "execute_result"
    }
   ],
   "source": [
    "X_vect.shape"
   ]
  },
  {
   "cell_type": "markdown",
   "metadata": {},
   "source": [
    "At the same time, there are many zeros in `X_vect`. Matrices with many zeros are called [**sparse matrices**](https://en.wikipedia.org/wiki/Sparse_matrix), and there are special tools that can process such sparse matrices faster than normal matrices. In Python, that's [Scipy's sparse matrix](https://docs.scipy.org/doc/scipy/reference/generated/scipy.sparse.csr_matrix.html) (`csr` for *Compressed Sparse Row*):"
   ]
  },
  {
   "cell_type": "code",
   "execution_count": 7,
   "metadata": {},
   "outputs": [
    {
     "data": {
      "text/plain": [
       "scipy.sparse.csr.csr_matrix"
      ]
     },
     "execution_count": 7,
     "metadata": {},
     "output_type": "execute_result"
    }
   ],
   "source": [
    "type(X_vect)"
   ]
  },
  {
   "cell_type": "markdown",
   "metadata": {},
   "source": [
    "That is the reason why we called `tocsr()` after the vectorisation. If we had not done that, the full `ndarray` may well have filled up your computer's memory.\n",
    "\n",
    "We can \"display\" a CSR's content by converting it to an `ndarray`:"
   ]
  },
  {
   "cell_type": "code",
   "execution_count": 8,
   "metadata": {},
   "outputs": [
    {
     "data": {
      "text/plain": [
       "array([[0, 0, 0, ..., 0, 0, 0]], dtype=int16)"
      ]
     },
     "execution_count": 8,
     "metadata": {},
     "output_type": "execute_result"
    }
   ],
   "source": [
    "X_vect[0].toarray()"
   ]
  },
  {
   "cell_type": "markdown",
   "metadata": {},
   "source": [
    "`CountVectorizer` and other variable transformers in `sklearn` expose two APIs: `fit()` and `transform()`. Like with a ML model, `fit()` \"*trains*\" the transformer on the data (in this case, how many and which words there are) and `transform()` does the actual transformation into a numerical matrix. If you have test and training data, you need to call `fit()` on both the training and test data together. In this case, we only have one data, so we call `fit_transform()`, which performs both steps in one."
   ]
  },
  {
   "cell_type": "markdown",
   "metadata": {},
   "source": [
    "Now you've seen the basic process of vectorisation. We can further improve vectorisation by pre-processing the text, for example by removing stop words (e.g., remove all \"and\"s) and performing stemming. However, this is beyond this course. [NLTK](https://www.nltk.org/) is a good place to start if you're interested in natural language processing."
   ]
  },
  {
   "cell_type": "markdown",
   "metadata": {},
   "source": [
    "Posts' topics (the outcome variable) are already encoded as integers between 0 and 19, so we don't need to do anything:"
   ]
  },
  {
   "cell_type": "code",
   "execution_count": 4,
   "metadata": {},
   "outputs": [
    {
     "data": {
      "text/plain": [
       "array([ 0,  1,  2,  3,  4,  5,  6,  7,  8,  9, 10, 11, 12, 13, 14, 15, 16,\n",
       "       17, 18, 19])"
      ]
     },
     "execution_count": 4,
     "metadata": {},
     "output_type": "execute_result"
    }
   ],
   "source": [
    "np.unique(y)"
   ]
  },
  {
   "cell_type": "markdown",
   "metadata": {},
   "source": [
    "## Model Training\n",
    "\n",
    "We follow the `sklearn` training process as seen on the slides.\n",
    "\n",
    "### 1. Choose a Model"
   ]
  },
  {
   "cell_type": "code",
   "execution_count": 9,
   "metadata": {},
   "outputs": [],
   "source": [
    "from sklearn.naive_bayes import MultinomialNB"
   ]
  },
  {
   "cell_type": "markdown",
   "metadata": {},
   "source": [
    "### 2. Choose Hyperparameters\n",
    "\n",
    "None for now."
   ]
  },
  {
   "cell_type": "code",
   "execution_count": 10,
   "metadata": {},
   "outputs": [
    {
     "data": {
      "text/plain": [
       "MultinomialNB(alpha=1.0, class_prior=None, fit_prior=True)"
      ]
     },
     "execution_count": 10,
     "metadata": {},
     "output_type": "execute_result"
    }
   ],
   "source": [
    "model = MultinomialNB()\n",
    "model"
   ]
  },
  {
   "cell_type": "markdown",
   "metadata": {},
   "source": [
    "### 3. Arrange Data in Feature Matrix and Target Vector\n",
    "\n",
    "* `y` needs to be an `n_samples` long vector\n",
    "* `X` needs to be a `[n_samples, n_features]` matrix"
   ]
  },
  {
   "cell_type": "code",
   "execution_count": 11,
   "metadata": {},
   "outputs": [
    {
     "data": {
      "text/plain": [
       "(11314, 130107)"
      ]
     },
     "execution_count": 11,
     "metadata": {},
     "output_type": "execute_result"
    }
   ],
   "source": [
    "X_vect.shape"
   ]
  },
  {
   "cell_type": "code",
   "execution_count": 12,
   "metadata": {
    "tags": []
   },
   "outputs": [
    {
     "data": {
      "text/plain": [
       "(11314,)"
      ]
     },
     "execution_count": 12,
     "metadata": {},
     "output_type": "execute_result"
    }
   ],
   "source": [
    "y.shape"
   ]
  },
  {
   "cell_type": "markdown",
   "metadata": {},
   "source": [
    "### 4. Fit the Model to the Data"
   ]
  },
  {
   "cell_type": "code",
   "execution_count": 13,
   "metadata": {},
   "outputs": [
    {
     "data": {
      "text/plain": [
       "MultinomialNB(alpha=1.0, class_prior=None, fit_prior=True)"
      ]
     },
     "execution_count": 13,
     "metadata": {},
     "output_type": "execute_result"
    }
   ],
   "source": [
    "model.fit(X_vect, y)"
   ]
  },
  {
   "cell_type": "markdown",
   "metadata": {},
   "source": [
    "As with GNBs, we're not usually interested in an MNB's parameters.\n",
    "\n",
    "The main performance metric for an MNB model is its accuracy: \\\\(\\frac{correct\\space decisions}{all\\space  decisions}\\\\)\n",
    "\n",
    "The model can compute its accuracy automatically for us with the [`score()`](https://scikit-learn.org/stable/modules/generated/sklearn.naive_bayes.GaussianNB.html#sklearn.naive_bayes.GaussianNB.score) method:"
   ]
  },
  {
   "cell_type": "code",
   "execution_count": 14,
   "metadata": {},
   "outputs": [
    {
     "data": {
      "text/plain": [
       "0.9245182959165635"
      ]
     },
     "execution_count": 14,
     "metadata": {},
     "output_type": "execute_result"
    }
   ],
   "source": [
    "model.score(X_vect, y)"
   ]
  },
  {
   "cell_type": "markdown",
   "metadata": {},
   "source": [
    "This means that the model predicted 93% of all cases in the data correctly.\n",
    "\n",
    "We can use [`predict()`](https://scikit-learn.org/stable/modules/generated/sklearn.naive_bayes.GaussianNB.html#sklearn.naive_bayes.GaussianNB.predict) to count how many posts have been mislabelled:"
   ]
  },
  {
   "cell_type": "code",
   "execution_count": 15,
   "metadata": {
    "tags": []
   },
   "outputs": [
    {
     "data": {
      "text/plain": [
       "854"
      ]
     },
     "execution_count": 15,
     "metadata": {},
     "output_type": "execute_result"
    }
   ],
   "source": [
    "y_pred = model.predict(X_vect)\n",
    "(y != y_pred).sum()"
   ]
  },
  {
   "cell_type": "markdown",
   "metadata": {},
   "source": [
    "That's unfortunately a few too many too look at manually. However, the evaluation of categorical regressands lends itself to a [confusion matrix](https://scikit-learn.org/stable/modules/generated/sklearn.metrics.confusion_matrix.html):"
   ]
  },
  {
   "cell_type": "code",
   "execution_count": 16,
   "metadata": {
    "scrolled": true
   },
   "outputs": [
    {
     "data": {
      "text/plain": [
       "array([[469,   0,   0,   0,   0,   0,   0,   0,   0,   0,   0,   0,   0,\n",
       "          0,   0,   7,   0,   2,   0,   2],\n",
       "       [  0, 565,   0,   6,   1,   3,   2,   0,   0,   0,   0,   1,   0,\n",
       "          1,   3,   0,   0,   0,   2,   0],\n",
       "       [  0,  82,  85, 203,  18, 137,   2,   3,   0,   0,   1,  26,  16,\n",
       "          4,   3,   2,   2,   1,   6,   0],\n",
       "       [  0,   4,   0, 569,   3,   2,   5,   1,   0,   0,   1,   2,   0,\n",
       "          0,   1,   0,   0,   1,   1,   0],\n",
       "       [  1,   1,   0,   1, 566,   1,   1,   0,   1,   0,   0,   2,   0,\n",
       "          0,   0,   0,   0,   1,   3,   0],\n",
       "       [  0,   5,   0,   0,   1, 584,   0,   1,   0,   0,   0,   1,   0,\n",
       "          0,   1,   0,   0,   0,   0,   0],\n",
       "       [  1,   1,   0,  21,   1,   0, 498,  13,   1,   0,   4,  11,   8,\n",
       "          4,   3,   1,   6,   4,   8,   0],\n",
       "       [  1,   0,   0,   0,   0,   0,   1, 585,   1,   0,   0,   1,   1,\n",
       "          0,   1,   0,   1,   0,   2,   0],\n",
       "       [  0,   0,   0,   0,   1,   0,   2,   3, 585,   0,   0,   0,   0,\n",
       "          0,   1,   0,   4,   1,   1,   0],\n",
       "       [  0,   0,   0,   0,   0,   0,   0,   2,   0, 589,   4,   0,   0,\n",
       "          0,   1,   1,   0,   0,   0,   0],\n",
       "       [  0,   3,   0,   1,   0,   1,   0,   0,   0,   0, 593,   0,   0,\n",
       "          0,   0,   0,   0,   0,   2,   0],\n",
       "       [  0,   0,   1,   0,   0,   0,   0,   0,   0,   0,   0, 591,   0,\n",
       "          0,   0,   0,   0,   1,   2,   0],\n",
       "       [  0,   3,   0,   7,   1,   0,   2,   2,   0,   0,   1,   4, 568,\n",
       "          0,   1,   0,   1,   0,   1,   0],\n",
       "       [  0,   1,   0,   0,   0,   0,   0,   1,   0,   0,   0,   0,   2,\n",
       "        585,   1,   2,   1,   1,   0,   0],\n",
       "       [  0,   0,   0,   0,   0,   0,   0,   0,   0,   0,   0,   0,   0,\n",
       "          0, 592,   1,   0,   0,   0,   0],\n",
       "       [  0,   1,   0,   0,   1,   1,   0,   0,   0,   0,   0,   0,   0,\n",
       "          0,   0, 595,   0,   1,   0,   0],\n",
       "       [  1,   0,   1,   0,   0,   0,   0,   0,   0,   0,   0,   1,   0,\n",
       "          0,   0,   0, 542,   1,   0,   0],\n",
       "       [  1,   0,   0,   0,   0,   0,   0,   0,   0,   0,   1,   0,   0,\n",
       "          0,   0,   3,   0, 558,   1,   0],\n",
       "       [  0,   0,   0,   0,   0,   0,   0,   1,   0,   0,   0,   4,   1,\n",
       "          0,   0,   0,   4,   3, 452,   0],\n",
       "       [ 31,   0,   0,   0,   0,   0,   0,   0,   1,   0,   0,   0,   0,\n",
       "          2,   0,  37,   7,   6,   4, 289]], dtype=int64)"
      ]
     },
     "execution_count": 16,
     "metadata": {},
     "output_type": "execute_result"
    }
   ],
   "source": [
    "from sklearn.metrics import confusion_matrix\n",
    "\n",
    "cm = confusion_matrix(y, y_pred)\n",
    "cm"
   ]
  },
  {
   "cell_type": "markdown",
   "metadata": {},
   "source": [
    "We can use [Seaborn's](https://seaborn.pydata.org/) [heatmap](https://seaborn.pydata.org/generated/seaborn.heatmap.html) to render the confusion matrix in a more human-readable format:"
   ]
  },
  {
   "cell_type": "code",
   "execution_count": 17,
   "metadata": {},
   "outputs": [
    {
     "data": {
      "image/png": "[encoded data removed]",
      "text/plain": [
       "<Figure size 432x288 with 1 Axes>"
      ]
     },
     "metadata": {},
     "output_type": "display_data"
    }
   ],
   "source": [
    "sns.heatmap(cm.T, square=True, fmt='d', cbar=False)\n",
    "plt.xlabel('true label')\n",
    "plt.ylabel('predicted label');"
   ]
  },
  {
   "cell_type": "markdown",
   "metadata": {},
   "source": [
    "Very strong for all but `y=2`."
   ]
  },
  {
   "cell_type": "markdown",
   "metadata": {
    "deletable": false,
    "editable": false
   },
   "source": [
    "© 2023 Philipp Cornelius"
   ]
  }
 ],
 "metadata": {
  "kernelspec": {
   "display_name": "Python 3 (ipykernel)",
   "language": "python",
   "name": "python3"
  },
  "language_info": {
   "codemirror_mode": {
    "name": "ipython",
    "version": 3
   },
   "file_extension": ".py",
   "mimetype": "text/x-python",
   "name": "python",
   "nbconvert_exporter": "python",
   "pygments_lexer": "ipython3",
   "version": "3.9.13"
  }
 },
 "nbformat": 4,
 "nbformat_minor": 4
}
