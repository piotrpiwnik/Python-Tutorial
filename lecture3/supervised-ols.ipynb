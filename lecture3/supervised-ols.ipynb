{
 "cells": [
  {
   "cell_type": "markdown",
   "metadata": {},
   "source": [
    "# Lecture 4: Supervised Models, [OLS](https://scikit-learn.org/stable/modules/generated/sklearn.linear_model.LinearRegression.html)\n",
    "\n",
    "* How to train an OLS model with `sklearn`.\n",
    "* How to use an OLS model for prediction and how to evaluate it in test data."
   ]
  },
  {
   "cell_type": "markdown",
   "metadata": {},
   "source": [
    "## Imports"
   ]
  },
  {
   "cell_type": "code",
   "execution_count": 1,
   "metadata": {},
   "outputs": [],
   "source": [
    "import pandas as pd\n",
    "\n",
    "import matplotlib.pyplot as plt\n",
    "%matplotlib inline\n",
    "import seaborn as sns; sns.set()"
   ]
  },
  {
   "cell_type": "markdown",
   "metadata": {},
   "source": [
    "## Data\n",
    "\n",
    "To practice fitting models we need data. We can use real data, but for practice it is often better to use specifically generated data that has exactly the shape that we want to practice with.\n",
    "\n",
    "Whenever we want to generate data, we need to go through NumPy's `ndarray`s. Pandas itself does not afford any APIs to generate data.\n",
    "\n",
    "We have two options:\n",
    "\n",
    "1. `sklearn` provides several [methods](https://scikit-learn.org/stable/modules/classes.html#samples-generator) to generate data (e.g., [`make_regression()`](https://scikit-learn.org/stable/modules/generated/sklearn.datasets.make_regression.html)). I recommend these if you want to practice by yourself and if the custom generator below is too complex. You can use it like this:"
   ]
  },
  {
   "cell_type": "code",
   "execution_count": 2,
   "metadata": {},
   "outputs": [],
   "source": [
    "from sklearn.datasets import make_regression\n",
    "\n",
    "X, y = make_regression(n_samples=100, n_features=1, n_informative=1)"
   ]
  },
  {
   "cell_type": "markdown",
   "metadata": {},
   "source": [
    "* `n_samples`: 100 observations\n",
    "* `n_features`: 1 variable\n",
    "* `n_informative`: 1 variable in the *data-generating process*\n",
    "\n",
    "Both `X` and `y` are `ndarray`s:"
   ]
  },
  {
   "cell_type": "code",
   "execution_count": 3,
   "metadata": {
    "scrolled": true
   },
   "outputs": [
    {
     "data": {
      "text/plain": [
       "array([[ 9.17594628e-01],\n",
       "       [ 5.52990204e-01],\n",
       "       [ 1.61793700e+00],\n",
       "       [-2.66209764e-01],\n",
       "       [ 3.13884148e-01],\n",
       "       [-2.24784750e+00],\n",
       "       [ 2.45596080e+00],\n",
       "       [-1.78359966e-02],\n",
       "       [-8.74277634e-01],\n",
       "       [ 9.05912635e-01],\n",
       "       [ 1.48016757e+00],\n",
       "       [-3.04709547e-01],\n",
       "       [-3.36980609e-01],\n",
       "       [ 8.66804218e-01],\n",
       "       [-1.24377392e+00],\n",
       "       [-4.81077142e-01],\n",
       "       [ 1.14183340e+00],\n",
       "       [ 1.13804030e+00],\n",
       "       [ 1.10134792e+00],\n",
       "       [ 2.12012790e+00],\n",
       "       [-8.17110941e-02],\n",
       "       [-4.43089871e-01],\n",
       "       [ 6.97082004e-01],\n",
       "       [ 4.19623356e-01],\n",
       "       [-5.18501592e-02],\n",
       "       [-8.94631684e-01],\n",
       "       [ 1.37720540e+00],\n",
       "       [ 1.56278535e-03],\n",
       "       [ 3.86034906e-01],\n",
       "       [ 5.96641824e-01],\n",
       "       [ 1.11709453e-01],\n",
       "       [-8.48497816e-01],\n",
       "       [-7.82742907e-01],\n",
       "       [-8.45692772e-01],\n",
       "       [-4.27618020e-01],\n",
       "       [ 3.22071518e-01],\n",
       "       [ 5.92690671e-01],\n",
       "       [ 5.13631301e-01],\n",
       "       [ 8.90876158e-02],\n",
       "       [-2.24266885e-01],\n",
       "       [ 9.99427548e-01],\n",
       "       [ 7.00486000e-01],\n",
       "       [-1.42366321e+00],\n",
       "       [ 2.11156462e-01],\n",
       "       [ 1.27322551e+00],\n",
       "       [-8.26371501e-01],\n",
       "       [-1.71413130e-02],\n",
       "       [ 2.13859926e+00],\n",
       "       [ 1.17451122e+00],\n",
       "       [ 2.05106394e-01],\n",
       "       [ 1.41091336e-01],\n",
       "       [ 5.01777213e-01],\n",
       "       [-7.47190689e-01],\n",
       "       [-5.76916218e-01],\n",
       "       [ 1.00395111e+00],\n",
       "       [-1.57476984e+00],\n",
       "       [-3.50898668e-01],\n",
       "       [ 7.45881456e-01],\n",
       "       [ 1.04855205e+00],\n",
       "       [ 1.77436604e-01],\n",
       "       [-4.13728424e-01],\n",
       "       [-2.74748868e+00],\n",
       "       [ 3.81943277e-01],\n",
       "       [-4.08305264e-01],\n",
       "       [-1.44632592e+00],\n",
       "       [ 5.64600981e-01],\n",
       "       [ 1.84196366e+00],\n",
       "       [ 3.88418071e-01],\n",
       "       [-8.75072972e-01],\n",
       "       [ 1.15964153e+00],\n",
       "       [-7.53983487e-01],\n",
       "       [-5.81689865e-01],\n",
       "       [-6.26106334e-02],\n",
       "       [ 5.10425866e-01],\n",
       "       [ 1.36820860e+00],\n",
       "       [ 3.89965403e-02],\n",
       "       [-1.11313881e+00],\n",
       "       [ 6.82295173e-01],\n",
       "       [-4.41948511e-01],\n",
       "       [ 1.48019145e+00],\n",
       "       [-5.59610437e-01],\n",
       "       [-6.93463116e-01],\n",
       "       [-9.45835772e-01],\n",
       "       [ 6.46300150e-01],\n",
       "       [-3.46105397e-02],\n",
       "       [ 4.20911824e-01],\n",
       "       [-4.15069221e-01],\n",
       "       [ 3.72396790e-01],\n",
       "       [ 2.05372790e-01],\n",
       "       [-1.41576648e+00],\n",
       "       [ 9.71844477e-01],\n",
       "       [ 7.53892256e-01],\n",
       "       [ 5.10797862e-01],\n",
       "       [ 1.15831202e-01],\n",
       "       [-1.10718777e+00],\n",
       "       [ 8.79730205e-02],\n",
       "       [-1.37734261e-01],\n",
       "       [ 7.14689983e-01],\n",
       "       [-1.76838225e+00],\n",
       "       [ 9.46336231e-01]])"
      ]
     },
     "execution_count": 3,
     "metadata": {},
     "output_type": "execute_result"
    }
   ],
   "source": [
    "X"
   ]
  },
  {
   "cell_type": "code",
   "execution_count": 4,
   "metadata": {
    "scrolled": true
   },
   "outputs": [
    {
     "data": {
      "text/plain": [
       "array([ 5.91825749e+01,  3.56664950e+01,  1.04352919e+02, -1.71698687e+01,\n",
       "        2.02447481e+01, -1.44980582e+02,  1.58403373e+02, -1.15037749e+00,\n",
       "       -5.63887364e+01,  5.84291154e+01,  9.54671326e+01, -1.96530091e+01,\n",
       "       -2.17344125e+01,  5.59067196e+01, -8.02203291e+01, -3.10282810e+01,\n",
       "        7.36454188e+01,  7.34007735e+01,  7.10342057e+01,  1.36742985e+02,\n",
       "       -5.27016267e+00, -2.85781964e+01,  4.49600582e+01,  2.70646645e+01,\n",
       "       -3.34420652e+00, -5.77015221e+01,  8.88263285e+01,  1.00795774e-01,\n",
       "        2.48982928e+01,  3.84819161e+01,  7.20498232e+00, -5.47260021e+01,\n",
       "       -5.04849738e+01, -5.45450838e+01, -2.75803004e+01,  2.07728131e+01,\n",
       "        3.82270765e+01,  3.31279434e+01,  5.74593000e+00, -1.44646572e+01,\n",
       "        6.44605951e+01,  4.51796076e+01, -9.18227418e+01,  1.36190675e+01,\n",
       "        8.21198837e+01, -5.32989097e+01, -1.10557212e+00,  1.37934342e+02,\n",
       "        7.57530571e+01,  1.32288531e+01,  9.10004082e+00,  3.23633842e+01,\n",
       "       -4.81919440e+01, -3.72096635e+01,  6.47523535e+01, -1.01568744e+02,\n",
       "       -2.26320927e+01,  4.81075017e+01,  6.76290034e+01,  1.14442203e+01,\n",
       "       -2.66844560e+01, -1.77206197e+02,  2.46343929e+01, -2.63346756e+01,\n",
       "       -9.32844306e+01,  3.64153613e+01,  1.18802082e+02,  2.50520010e+01,\n",
       "       -5.64400337e+01,  7.47939993e+01, -4.86300626e+01, -3.75175518e+01,\n",
       "       -4.03823038e+00,  3.29212008e+01,  8.82460573e+01,  2.51518002e+00,\n",
       "       -7.17946894e+01,  4.40063444e+01, -2.85045815e+01,  9.54686727e+01,\n",
       "       -3.60934835e+01, -4.47266490e+01, -6.10040586e+01,  4.16847548e+01,\n",
       "       -2.23229387e+00,  2.71477674e+01, -2.67709341e+01,  2.40186682e+01,\n",
       "        1.32460350e+01, -9.13134226e+01,  6.26815555e+01,  4.86241785e+01,\n",
       "        3.29451937e+01,  7.47082489e+00, -7.14108616e+01,  5.67404137e+00,\n",
       "       -8.88351780e+00,  4.60957292e+01, -1.14056264e+02,  6.10363370e+01])"
      ]
     },
     "execution_count": 4,
     "metadata": {},
     "output_type": "execute_result"
    }
   ],
   "source": [
    "y"
   ]
  },
  {
   "cell_type": "markdown",
   "metadata": {},
   "source": [
    "Note that every time you invoke `make_regression()`, the generated data will be different.\n",
    "\n",
    "2. The other option is to write a custom data generator using NumPy. This gives us much more control over the functional form of the *data-generating process*.\n",
    "\n",
    "For this example, I generate 50 observations of the form $y = 2X - 1 + \\epsilon$, with $X$ (the *feature matrix*) only holding one variable $\\in [0, 10]$.\n",
    "\n",
    "$y = 2X - 1 + \\epsilon$ is called the **true model** or **data-generating process**. Of course, with real world data, we don't know the true model, which is why we try to estimate it."
   ]
  },
  {
   "cell_type": "code",
   "execution_count": 5,
   "metadata": {},
   "outputs": [
    {
     "data": {
      "image/png": "[encoded data removed]",
      "text/plain": [
       "<Figure size 432x288 with 1 Axes>"
      ]
     },
     "metadata": {},
     "output_type": "display_data"
    }
   ],
   "source": [
    "import numpy as np\n",
    "\n",
    "# rng for Random Number Generator\n",
    "rng = np.random.RandomState(42)\n",
    "\n",
    "X = 10 * rng.rand(50)\n",
    "y = 2 * X - 1 + rng.randn(50)\n",
    "\n",
    "X = pd.DataFrame(X)\n",
    "y = pd.Series(y)\n",
    "\n",
    "plt.scatter(X, y);"
   ]
  },
  {
   "cell_type": "markdown",
   "metadata": {},
   "source": [
    "How does the custom data generator work?\n",
    "* Part of the data is supposed to be random, so we need a **random number generator**. I use NumPy's own [`RandomState`](https://numpy.org/doc/stable/reference/random/legacy.html#numpy.random.RandomState) for this, which I *seed* with 42. The same seed will give you the same sequence of random numbers.\n",
    "    * `RandomState`'s [`rand()`](https://numpy.org/doc/stable/reference/random/generated/numpy.random.RandomState.rand.html) function returns random numbers $\\in [0, 1)$.\n",
    "    * `RandomState`'s [`randn()`](https://numpy.org/doc/stable/reference/random/generated/numpy.random.RandomState.randn.html) function returns random numbers $\\sim N(0, 1)$\n",
    "* How to compute the feature matrix `X`:\n",
    "    * By calling `rand(50)` I get 50 random numbers.\n",
    "    * I multiply the 50 random numbers by 10 to get random numbers over $[0, 10)$. (This is an example of a *UFunc*.)\n",
    "    * For simplicity, this data only has one feature (or variable, or column).\n",
    "* How to compute the outcome vector `y`:\n",
    "    * I compute the outcome variable `y` as a function of `X` and some random standard-normal $N(0, 1)$ noise (`rng.randn(50)`).\n",
    "* I wrap both `ndarray`s in the corresponding Pandas `DataFrame` and `Series`."
   ]
  },
  {
   "cell_type": "markdown",
   "metadata": {},
   "source": [
    "## Model Training\n",
    "\n",
    "We follow the `sklearn` training process as seen on the slides."
   ]
  },
  {
   "cell_type": "markdown",
   "metadata": {},
   "source": [
    "### 1. Choose a Model\n",
    "\n",
    "OLS is implemented in `sklearn`'s [`LinearRegression`](https://scikit-learn.org/stable/modules/generated/sklearn.linear_model.LinearRegression.html). To be able to use `LinearRegression`, we first need to import it."
   ]
  },
  {
   "cell_type": "code",
   "execution_count": 6,
   "metadata": {},
   "outputs": [],
   "source": [
    "from sklearn.linear_model import LinearRegression"
   ]
  },
  {
   "cell_type": "markdown",
   "metadata": {},
   "source": [
    "### 2. Choose Hyperparameters\n",
    "\n",
    "*Hyperparameters* determine different modes that models use to fit the data. Think of them as meta-parameters (as opposed to tunable parameters).\n",
    "\n",
    "Standard OLS comes with one hyperparameter:\n",
    "\n",
    "- [x] Fit the intercept?"
   ]
  },
  {
   "cell_type": "code",
   "execution_count": 7,
   "metadata": {
    "tags": []
   },
   "outputs": [
    {
     "data": {
      "text/plain": [
       "LinearRegression(copy_X=True, fit_intercept=True, n_jobs=None, normalize=False)"
      ]
     },
     "execution_count": 7,
     "metadata": {},
     "output_type": "execute_result"
    }
   ],
   "source": [
    "model = LinearRegression(fit_intercept=True)\n",
    "model"
   ]
  },
  {
   "cell_type": "markdown",
   "metadata": {},
   "source": [
    "If we print the model to the console we can see its hyperparameter."
   ]
  },
  {
   "cell_type": "markdown",
   "metadata": {},
   "source": [
    "### 3. Arrange Data in Feature Matrix and Target Vector\n",
    "The [`Model.fit(X, y)`](https://scikit-learn.org/stable/modules/generated/sklearn.linear_model.LinearRegression.html#sklearn.linear_model.LinearRegression.fit) methods requires data in the following shape:\n",
    "* `y` needs to be an `n_samples` long vector\n",
    "* `X` needs to be a `[n_samples, n_features]` matrix"
   ]
  },
  {
   "cell_type": "code",
   "execution_count": 8,
   "metadata": {},
   "outputs": [
    {
     "data": {
      "text/plain": [
       "(50, 1)"
      ]
     },
     "execution_count": 8,
     "metadata": {},
     "output_type": "execute_result"
    }
   ],
   "source": [
    "X.shape"
   ]
  },
  {
   "cell_type": "code",
   "execution_count": 9,
   "metadata": {
    "scrolled": true
   },
   "outputs": [
    {
     "data": {
      "text/plain": [
       "(50,)"
      ]
     },
     "execution_count": 9,
     "metadata": {},
     "output_type": "execute_result"
    }
   ],
   "source": [
    "y.shape"
   ]
  },
  {
   "cell_type": "markdown",
   "metadata": {},
   "source": [
    "### 4. Fit the Model to the Data\n",
    "We fit the following model: $Y = \\beta_0 + \\beta X + \\epsilon$"
   ]
  },
  {
   "cell_type": "code",
   "execution_count": 10,
   "metadata": {},
   "outputs": [
    {
     "data": {
      "text/plain": [
       "LinearRegression(copy_X=True, fit_intercept=True, n_jobs=None, normalize=False)"
      ]
     },
     "execution_count": 10,
     "metadata": {},
     "output_type": "execute_result"
    }
   ],
   "source": [
    "model.fit(X, y)"
   ]
  },
  {
   "cell_type": "markdown",
   "metadata": {},
   "source": [
    "The fitted $\\beta$:"
   ]
  },
  {
   "cell_type": "code",
   "execution_count": 11,
   "metadata": {},
   "outputs": [
    {
     "data": {
      "text/plain": [
       "array([1.9776566])"
      ]
     },
     "execution_count": 11,
     "metadata": {},
     "output_type": "execute_result"
    }
   ],
   "source": [
    "model.coef_"
   ]
  },
  {
   "cell_type": "markdown",
   "metadata": {},
   "source": [
    "Recall that the true model is $y = 2X - 1 + \\epsilon$. Our estimate of $ \\beta$ is very close to the true $2$.\n",
    "\n",
    "The fitted $\\beta_0$:"
   ]
  },
  {
   "cell_type": "code",
   "execution_count": 12,
   "metadata": {},
   "outputs": [
    {
     "data": {
      "text/plain": [
       "-0.9033107255311164"
      ]
     },
     "execution_count": 12,
     "metadata": {},
     "output_type": "execute_result"
    }
   ],
   "source": [
    "model.intercept_"
   ]
  },
  {
   "cell_type": "markdown",
   "metadata": {},
   "source": [
    "Also very close to the true $-1$.\n",
    "\n",
    "We can plot the regression line (in red) against the data (blue dots):"
   ]
  },
  {
   "cell_type": "code",
   "execution_count": 13,
   "metadata": {},
   "outputs": [
    {
     "data": {
      "image/png": "[encoded data removed]",
      "text/plain": [
       "<Figure size 432x288 with 1 Axes>"
      ]
     },
     "metadata": {},
     "output_type": "display_data"
    }
   ],
   "source": [
    "plt.scatter(X, y)\n",
    "plt.plot([0, 10],\n",
    "         [0 * model.coef_ + model.intercept_,\n",
    "          10 * model.coef_ + model.intercept_],\n",
    "         c='red', linestyle='--');"
   ]
  },
  {
   "cell_type": "markdown",
   "metadata": {},
   "source": [
    "* The syntax is [`Matplotlib.plot(x, y, format)`](https://matplotlib.org/api/_as_gen/matplotlib.pyplot.plot.html#matplotlib.pyplot.plot). For example, `c='red'` colours the line red and `linestyle='--'` makes dashes.\n",
    "* To plot the red line, we only use two points at $X=0$ and $X=10$:\n",
    "    * $Y$ at $X=0$ is $Y=0×\\beta + \\beta_0$\n",
    "    * $Y$ at $X=10$ is $Y=10×\\beta + \\beta_0$\n",
    "\n",
    "The model fits the data fairly well. In addition to this visual evaluation, we can also have a look at OLS's main measure of fit, the $R^2$ score:"
   ]
  },
  {
   "cell_type": "code",
   "execution_count": 14,
   "metadata": {},
   "outputs": [
    {
     "data": {
      "text/plain": [
       "0.9749140085676858"
      ]
     },
     "execution_count": 14,
     "metadata": {},
     "output_type": "execute_result"
    }
   ],
   "source": [
    "model.score(X, y)"
   ]
  },
  {
   "cell_type": "markdown",
   "metadata": {},
   "source": [
    "## Evaluate Model in Test Data\n",
    "\n",
    "Let's generate some more data from the same data-generating process, which we will use as test data in this example."
   ]
  },
  {
   "cell_type": "code",
   "execution_count": 15,
   "metadata": {
    "tags": []
   },
   "outputs": [
    {
     "data": {
      "image/png": "[encoded data removed]",
      "text/plain": [
       "<Figure size 432x288 with 1 Axes>"
      ]
     },
     "metadata": {},
     "output_type": "display_data"
    }
   ],
   "source": [
    "X_test = 10 * rng.rand(50)\n",
    "y_test = 2 * X_test - 1 + rng.randn(50)\n",
    "\n",
    "X_test = pd.DataFrame(X_test)\n",
    "y_test = pd.Series(y_test)\n",
    "\n",
    "plt.scatter(X_test, y_test);"
   ]
  },
  {
   "cell_type": "markdown",
   "metadata": {},
   "source": [
    "Of course it looks very similar to our original data, because the data-generating process is the same.\n",
    "\n",
    "In the homework assignments, you will also get training and test data, and you are asked to predict the outcome variables in the test data. You can do that (after the model is trained) with the model's `predict()` function:"
   ]
  },
  {
   "cell_type": "code",
   "execution_count": 16,
   "metadata": {},
   "outputs": [],
   "source": [
    "y_pred = model.predict(X_test)"
   ]
  },
  {
   "cell_type": "markdown",
   "metadata": {},
   "source": [
    "`predict()` takes the feature matrix (in this case, that of the test data, `X_test`) and returns the predicted labels/outcome variables (`y_pred`) based on the estimated parameters."
   ]
  },
  {
   "cell_type": "code",
   "execution_count": 17,
   "metadata": {},
   "outputs": [
    {
     "data": {
      "text/plain": [
       "array([16.74844122,  9.76302672, 15.0650828 , 16.81829801,  5.38570599,\n",
       "        1.27313842,  3.60446406,  7.54341465, 15.27421228, 16.11898447,\n",
       "       -0.76582146,  9.19751702,  7.35164553,  3.48921905,  1.46721462,\n",
       "        5.773558  , 17.74420527,  5.48853339,  9.35658625, 12.99999012,\n",
       "        6.28803411, 18.31520177, 18.13059173,  4.07607847,  8.93055717,\n",
       "        5.04702903,  4.72985611, -0.17381358, 11.15177856,  9.03795416,\n",
       "        0.1147622 ,  4.60735947, 17.05906952,  3.83440082,  1.96221228,\n",
       "        8.77638409, 18.58947054,  3.88371133, 12.38922229, 14.15890987,\n",
       "        3.79634385, 13.49830796,  6.37017667, 11.60152727, 11.62573141,\n",
       "        9.69247268,  0.88231087, 15.61610421,  5.4406174 ,  2.78538491])"
      ]
     },
     "execution_count": 17,
     "metadata": {},
     "output_type": "execute_result"
    }
   ],
   "source": [
    "y_pred"
   ]
  },
  {
   "cell_type": "markdown",
   "metadata": {},
   "source": [
    "To evaluate how our OLS model is doing in the test data, we import the $R^2$ scoring function [`r2_score()`](https://scikit-learn.org/stable/modules/generated/sklearn.metrics.r2_score.html) and pass it the true labels and our predicted ones."
   ]
  },
  {
   "cell_type": "code",
   "execution_count": 18,
   "metadata": {},
   "outputs": [
    {
     "data": {
      "text/plain": [
       "0.9758813246138494"
      ]
     },
     "execution_count": 18,
     "metadata": {},
     "output_type": "execute_result"
    }
   ],
   "source": [
    "from sklearn.metrics import r2_score\n",
    "\n",
    "r2_score(y_test, y_pred)"
   ]
  },
  {
   "cell_type": "markdown",
   "metadata": {
    "deletable": false,
    "editable": false
   },
   "source": [
    "© 2023 Philipp Cornelius"
   ]
  }
 ],
 "metadata": {
  "kernelspec": {
   "display_name": "Python 3 (ipykernel)",
   "language": "python",
   "name": "python3"
  },
  "language_info": {
   "codemirror_mode": {
    "name": "ipython",
    "version": 3
   },
   "file_extension": ".py",
   "mimetype": "text/x-python",
   "name": "python",
   "nbconvert_exporter": "python",
   "pygments_lexer": "ipython3",
   "version": "3.9.13"
  }
 },
 "nbformat": 4,
 "nbformat_minor": 4
}
