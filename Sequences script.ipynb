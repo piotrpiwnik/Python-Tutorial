{
 "cells": [
  {
   "cell_type": "code",
   "execution_count": 1,
   "metadata": {},
   "outputs": [
    {
     "name": "stdout",
     "output_type": "stream",
     "text": [
      "Next term: -58\n"
     ]
    }
   ],
   "source": [
    "def find_next_term(sequence):\n",
    "    k = sequence[1] - sequence[0]  # Calculate the common difference\n",
    "    m = sequence[0] - k  # Calculate the value of m\n",
    "\n",
    "    next_term = k * (len(sequence) + 1) + m  # Calculate the next term using the formula\n",
    "\n",
    "    return next_term\n",
    "\n",
    "# Example usage:\n",
    "sequence = [-14, -25, -31, -31]\n",
    "next_term = find_next_term(sequence)\n",
    "print(\"Next term:\", next_term)\n"
   ]
  }
 ],
 "metadata": {
  "kernelspec": {
   "display_name": "python39",
   "language": "python",
   "name": "python3"
  },
  "language_info": {
   "codemirror_mode": {
    "name": "ipython",
    "version": 3
   },
   "file_extension": ".py",
   "mimetype": "text/x-python",
   "name": "python",
   "nbconvert_exporter": "python",
   "pygments_lexer": "ipython3",
   "version": "3.9.16"
  },
  "orig_nbformat": 4
 },
 "nbformat": 4,
 "nbformat_minor": 2
}
