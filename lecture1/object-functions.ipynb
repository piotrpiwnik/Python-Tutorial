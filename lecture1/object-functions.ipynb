{
 "cells": [
  {
   "cell_type": "markdown",
   "metadata": {
    "pycharm": {
     "name": "#%% md\n"
    }
   },
   "source": [
    "# Lecture 1: Functions 1"
   ]
  },
  {
   "cell_type": "markdown",
   "metadata": {
    "pycharm": {
     "name": "#%% md\n"
    }
   },
   "source": [
    "## Object Functions\n",
    "\n",
    "We've seen some *object functions* already:"
   ]
  },
  {
   "cell_type": "markdown",
   "metadata": {
    "pycharm": {
     "name": "#%% md\n"
    }
   },
   "source": [
    "* `str.split()`"
   ]
  },
  {
   "cell_type": "code",
   "execution_count": 1,
   "metadata": {
    "pycharm": {
     "name": "#%%\n"
    }
   },
   "outputs": [
    {
     "data": {
      "text/plain": [
       "['a', 'b', 'c']"
      ]
     },
     "execution_count": 1,
     "metadata": {},
     "output_type": "execute_result"
    }
   ],
   "source": [
    "'a b c'.split()"
   ]
  },
  {
   "cell_type": "markdown",
   "metadata": {
    "pycharm": {
     "name": "#%% md\n"
    }
   },
   "source": [
    "* `list.append()`"
   ]
  },
  {
   "cell_type": "code",
   "execution_count": 2,
   "metadata": {
    "pycharm": {
     "name": "#%%\n"
    }
   },
   "outputs": [
    {
     "data": {
      "text/plain": [
       "[1, 1, 3, 1]"
      ]
     },
     "execution_count": 2,
     "metadata": {},
     "output_type": "execute_result"
    }
   ],
   "source": [
    "a = [1, 1, 3]\n",
    "a.append(1)\n",
    "a"
   ]
  },
  {
   "cell_type": "markdown",
   "metadata": {
    "pycharm": {
     "name": "#%% md\n"
    }
   },
   "source": [
    "* `set.pop()`"
   ]
  },
  {
   "cell_type": "code",
   "execution_count": 3,
   "metadata": {
    "pycharm": {
     "name": "#%%\n"
    }
   },
   "outputs": [
    {
     "data": {
      "text/plain": [
       "1"
      ]
     },
     "execution_count": 3,
     "metadata": {},
     "output_type": "execute_result"
    }
   ],
   "source": [
    "{1, 2, 3}.pop()"
   ]
  },
  {
   "cell_type": "markdown",
   "metadata": {
    "pycharm": {
     "name": "#%% md\n"
    }
   },
   "source": [
    "Object (or class) functions are invoked on an **object** (or *instance*) of a class. For instance, [`list`](https://docs.python.org/3.8/library/stdtypes.html#list) is a class, `[1, 1, 3]` is an object (or instance) of that class, and `[1, 1, 3].append(1)` is a function call on that object.\n",
    "\n",
    "This is called [*Object Oriented Programming*](https://en.wikipedia.org/wiki/Object-oriented_programming) (OOP). Python is an OOP language."
   ]
  },
  {
   "cell_type": "markdown",
   "metadata": {
    "pycharm": {
     "name": "#%% md\n"
    }
   },
   "source": [
    "## Function Arguments & Headers\n",
    "\n",
    "Functions can take 0, 1, or more arguments. These are enclosed in the round brackets after the function name. The whole idea comes from maths, where we are well accustomed to functions, such as $f(x)=x+1$, where $f$ is the function's name and $x$ is an argument.\n",
    "\n",
    "#### Example 1: `[1, 1, 3].append(1)`\n",
    "* `append` is the function name\n",
    "* and it is called with one argument (e.g., `1`)\n",
    "\n",
    "#### Example 2: `{1, 2, 3}.pop()`\n",
    "* `pop` is the function name\n",
    "* and it is called without any arguments\n",
    "\n",
    "The function name and the list of all possible arguments is jointly called the **function header**.\n",
    "\n",
    "### Function Documentation\n",
    "\n",
    "While many functions and their arguments are intuitive (such as `append`), other functions have many arguments. Thankfully, we don't have to remember them all; instead, we can look them up in the documentation.\n",
    "\n",
    "#### Example 3: `'a b c'.split()`\n",
    "\n",
    "You can find split function's documentation in the [Python docs](https://docs.python.org/3.8/library/index.html) under [Text Sequence Type — str/split](https://docs.python.org/3.9/library/stdtypes.html#str.split). It says this:\n",
    "\n",
    "> ` str.split(sep=None, maxsplit=-1) `\n",
    "> \n",
    "> Return a list of the words in the string, using `sep` as the delimiter string. If `maxsplit` is given, at most `maxsplit` splits are done (thus, the list will have at most `maxsplit+1` elements). If `maxsplit` is not specified or -1, then there is no limit on the number of splits (all possible splits are made).\n",
    "> \n",
    "> If `sep` is given, consecutive delimiters are not grouped together and are deemed to delimit empty strings (for example, `'1,,2'.split(',')` returns `['1', '', '2']`). The `sep` argument may consist of multiple characters (for example, `'1<>2<>3'.split('<>')` returns `['1', '2', '3']`). Splitting an empty string with a specified separator returns `['']`.\n",
    "> \n",
    "> ...\n",
    "> \n",
    ">If sep is not specified or is `None`, a different splitting algorithm is applied: runs of consecutive whitespace are regarded as a single separator, and the result will contain no empty strings at the start or end if the string has leading or trailing whitespace. Consequently, splitting an empty string or a string consisting of just whitespace with a `None` separator returns `[]`.\n",
    "\n",
    "* The first line shows the full function header. We can immediately see that the function is defined on the `str` (string) class and takes at most two arguments, named `sep` and `maxsplit`.\n",
    "* We can also see that both arguments have *default values*, which are indicated by the `=` after the argument name. The default value for `sep` is `None`, which means that when we call the function without specifying `sep`, it is by default set to `None`. Thus, calling `str.split()` is equivalent to calling `str.split(sep=None)`. The same for `maxsplit=-1`.\n",
    "\n",
    "### Named Arguments\n",
    "\n",
    "In Python, we can supply arguments in two ways:\n",
    "1. In the order in which they are specified in the function header. E.g., for `split()`, `sep` comes before `maxsplit`."
   ]
  },
  {
   "cell_type": "code",
   "execution_count": 4,
   "metadata": {
    "pycharm": {
     "name": "#%%\n"
    }
   },
   "outputs": [
    {
     "data": {
      "text/plain": [
       "['a', 'b', 'c']"
      ]
     },
     "execution_count": 4,
     "metadata": {},
     "output_type": "execute_result"
    }
   ],
   "source": [
    "'a,b,c'.split(',', -1)"
   ]
  },
  {
   "cell_type": "markdown",
   "metadata": {
    "pycharm": {
     "name": "#%% md\n"
    }
   },
   "source": [
    "2. By explicitly using their *names*, in which case we can supply them in any order."
   ]
  },
  {
   "cell_type": "code",
   "execution_count": 5,
   "metadata": {
    "pycharm": {
     "name": "#%%\n"
    }
   },
   "outputs": [
    {
     "data": {
      "text/plain": [
       "['a', 'b', 'c']"
      ]
     },
     "execution_count": 5,
     "metadata": {},
     "output_type": "execute_result"
    }
   ],
   "source": [
    "'a,b,c'.split(maxsplit=-1, sep=',')"
   ]
  },
  {
   "cell_type": "markdown",
   "metadata": {
    "pycharm": {
     "name": "#%% md\n"
    }
   },
   "source": [
    "## Function Returns\n",
    "Functions can return nothing or something (note that `None` qualifies as *something*).\n",
    "\n",
    "For example, `sorted([1, 2, 3])` returns a new list:"
   ]
  },
  {
   "cell_type": "code",
   "execution_count": 7,
   "metadata": {
    "pycharm": {
     "name": "#%%\n"
    }
   },
   "outputs": [
    {
     "data": {
      "text/plain": [
       "[1, 2, 3]"
      ]
     },
     "execution_count": 7,
     "metadata": {},
     "output_type": "execute_result"
    }
   ],
   "source": [
    "sorted([2, 1, 3])"
   ]
  },
  {
   "cell_type": "markdown",
   "metadata": {
    "pycharm": {
     "name": "#%% md\n"
    }
   },
   "source": [
    "While `[1, 2, 3].sort()` does not return anything:"
   ]
  },
  {
   "cell_type": "code",
   "execution_count": 9,
   "metadata": {
    "pycharm": {
     "name": "#%%\n"
    }
   },
   "outputs": [],
   "source": [
    "a = [2, 1, 3]\n",
    "a.sort()"
   ]
  },
  {
   "cell_type": "markdown",
   "metadata": {
    "pycharm": {
     "name": "#%% md\n"
    }
   },
   "source": [
    "Instead, `a` was sorted *in place*."
   ]
  },
  {
   "cell_type": "code",
   "execution_count": 10,
   "metadata": {
    "pycharm": {
     "name": "#%%\n"
    }
   },
   "outputs": [
    {
     "data": {
      "text/plain": [
       "[1, 2, 3]"
      ]
     },
     "execution_count": 10,
     "metadata": {},
     "output_type": "execute_result"
    }
   ],
   "source": [
    "a"
   ]
  },
  {
   "cell_type": "markdown",
   "metadata": {
    "pycharm": {
     "name": "#%% md\n"
    }
   },
   "source": [
    "Whenever a function returns something, it is a data type like any other and can be assigned to a variable:"
   ]
  },
  {
   "cell_type": "code",
   "execution_count": 11,
   "metadata": {
    "pycharm": {
     "name": "#%%\n"
    }
   },
   "outputs": [
    {
     "data": {
      "text/plain": [
       "3"
      ]
     },
     "execution_count": 11,
     "metadata": {},
     "output_type": "execute_result"
    }
   ],
   "source": [
    "max_elt = max([1, 2, 3])\n",
    "max_elt"
   ]
  },
  {
   "cell_type": "markdown",
   "metadata": {
    "deletable": false,
    "editable": false
   },
   "source": [
    "© 2023 Philipp Cornelius"
   ]
  }
 ],
 "metadata": {
  "kernelspec": {
   "display_name": "Python 3 (ipykernel)",
   "language": "python",
   "name": "python3"
  },
  "language_info": {
   "codemirror_mode": {
    "name": "ipython",
    "version": 3
   },
   "file_extension": ".py",
   "mimetype": "text/x-python",
   "name": "python",
   "nbconvert_exporter": "python",
   "pygments_lexer": "ipython3",
   "version": "3.9.13"
  }
 },
 "nbformat": 4,
 "nbformat_minor": 4
}
