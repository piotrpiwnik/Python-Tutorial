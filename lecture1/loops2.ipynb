{
 "cells": [
  {
   "cell_type": "markdown",
   "metadata": {},
   "source": [
    "# Lecture 2: Loops 2"
   ]
  },
  {
   "cell_type": "markdown",
   "metadata": {},
   "source": [
    "## [List Comprehension](https://docs.python.org/3/tutorial/datastructures.html#list-comprehensions)\n",
    "\n",
    "This is why Python is so popular: the ability to create magic with only a very few lines of code. Let's wrap our head around the famous list comprehension. It is used a lot in DS.\n",
    "\n",
    "The basic functionality of list comprehension is to create a new list by iterating over elements of another iterable."
   ]
  },
  {
   "cell_type": "code",
   "execution_count": 1,
   "metadata": {},
   "outputs": [
    {
     "name": "stdout",
     "output_type": "stream",
     "text": [
      "[1, 2, 3]\n",
      "[1, 4, 9]\n"
     ]
    }
   ],
   "source": [
    "a = [1, 2, 3]\n",
    "print(a)\n",
    "\n",
    "b = [x**2 for x in a]\n",
    "print(b)"
   ]
  },
  {
   "cell_type": "markdown",
   "metadata": {},
   "source": [
    "Using list comprehension, we created the new list `b`, which contains the quadratic terms of all elements in list `a`.\n",
    "\n",
    "The basic syntax is:\n",
    "```\n",
    "[f(element) for element in iterable]\n",
    "```\n",
    "\n",
    "Where `f(element)` just means that we can all any function on `element`.\n",
    "\n",
    "The above list comprehension is equivalent to:"
   ]
  },
  {
   "cell_type": "code",
   "execution_count": 2,
   "metadata": {},
   "outputs": [
    {
     "name": "stdout",
     "output_type": "stream",
     "text": [
      "[1, 4, 9]\n"
     ]
    }
   ],
   "source": [
    "b = []\n",
    "for x in a:\n",
    "    b.append(x**2)\n",
    "print(b)"
   ]
  },
  {
   "cell_type": "markdown",
   "metadata": {},
   "source": [
    "### ListComp + If/else\n",
    "\n",
    "We can also combine list comprehension with if/else statements. Let's say we only want the square terms of odd numbers:"
   ]
  },
  {
   "cell_type": "code",
   "execution_count": 3,
   "metadata": {},
   "outputs": [
    {
     "name": "stdout",
     "output_type": "stream",
     "text": [
      "[1, 9]\n"
     ]
    }
   ],
   "source": [
    "b = [x**2 for x in a if x % 2 == 1]\n",
    "print(b)"
   ]
  },
  {
   "cell_type": "markdown",
   "metadata": {},
   "source": [
    "The basic syntax is:\n",
    "```\n",
    "[f(element) for element in iterable if c(element) is true]\n",
    "```\n",
    "Where `c(element)` is any function that returns `True` or `False`, for instance `x % 2 == 0`. The elements that do not satisfy the condition in `c(element)` are not passed on to the function `f(element)` and are never added to the final list."
   ]
  },
  {
   "cell_type": "markdown",
   "metadata": {},
   "source": [
    "### 2D Lists and Nested List Comprehension\n",
    "\n",
    "We can also nest list comprehensions to create 2D lists:"
   ]
  },
  {
   "cell_type": "code",
   "execution_count": 4,
   "metadata": {},
   "outputs": [
    {
     "name": "stdout",
     "output_type": "stream",
     "text": [
      "5\n"
     ]
    },
    {
     "data": {
      "text/plain": [
       "[['0-0', '0-1', '0-2', '0-3', '0-4'],\n",
       " ['1-0', '1-1', '1-2', '1-3', '1-4'],\n",
       " ['2-0', '2-1', '2-2', '2-3', '2-4'],\n",
       " ['3-0', '3-1', '3-2', '3-3', '3-4'],\n",
       " ['4-0', '4-1', '4-2', '4-3', '4-4']]"
      ]
     },
     "execution_count": 4,
     "metadata": {},
     "output_type": "execute_result"
    }
   ],
   "source": [
    "n = int(input())\n",
    "\n",
    "[[f'{x}-{y}' for y in range(n)] for x in range(n)]"
   ]
  },
  {
   "cell_type": "markdown",
   "metadata": {},
   "source": [
    "This is equivalent to:"
   ]
  },
  {
   "cell_type": "code",
   "execution_count": 5,
   "metadata": {},
   "outputs": [
    {
     "data": {
      "text/plain": [
       "[['0-0', '0-1', '0-2', '0-3', '0-4'],\n",
       " ['1-0', '1-1', '1-2', '1-3', '1-4'],\n",
       " ['2-0', '2-1', '2-2', '2-3', '2-4'],\n",
       " ['3-0', '3-1', '3-2', '3-3', '3-4'],\n",
       " ['4-0', '4-1', '4-2', '4-3', '4-4']]"
      ]
     },
     "execution_count": 5,
     "metadata": {},
     "output_type": "execute_result"
    }
   ],
   "source": [
    "outer_list = []\n",
    "for x in range(n):\n",
    "    inner_list = []\n",
    "    for y in range(n):\n",
    "        inner_list.append(f'{x}-{y}')\n",
    "    outer_list.append(inner_list)\n",
    "outer_list"
   ]
  },
  {
   "cell_type": "markdown",
   "metadata": {},
   "source": [
    "The 2D list (or matrix) does not need to be symmetric:"
   ]
  },
  {
   "cell_type": "code",
   "execution_count": 6,
   "metadata": {},
   "outputs": [
    {
     "name": "stdout",
     "output_type": "stream",
     "text": [
      "2\n"
     ]
    },
    {
     "data": {
      "text/plain": [
       "[['0-0', '0-1'],\n",
       " ['1-0', '1-1'],\n",
       " ['2-0', '2-1'],\n",
       " ['3-0', '3-1'],\n",
       " ['4-0', '4-1']]"
      ]
     },
     "execution_count": 6,
     "metadata": {},
     "output_type": "execute_result"
    }
   ],
   "source": [
    "m = int(input())\n",
    "[[f'{x}-{y}' for y in range(m)] for x in range(n)]"
   ]
  },
  {
   "cell_type": "markdown",
   "metadata": {},
   "source": [
    "The outer list comprehension creates rows, while the inner list comprehension creates columns."
   ]
  },
  {
   "cell_type": "markdown",
   "metadata": {},
   "source": [
    "### ListComp for Data Conversion\n",
    "\n",
    "Frequently, we want to convert all elements of a list to a different data type. For example, let's say we get the following string from `input()` and we need to convert it to a list of integers.\n",
    "\n",
    "Input:\n",
    "```\n",
    "1 2 3 4 5\n",
    "```"
   ]
  },
  {
   "cell_type": "code",
   "execution_count": 7,
   "metadata": {},
   "outputs": [
    {
     "name": "stdout",
     "output_type": "stream",
     "text": [
      "1 2 3 4 5\n"
     ]
    },
    {
     "data": {
      "text/plain": [
       "'1 2 3 4 5'"
      ]
     },
     "execution_count": 7,
     "metadata": {},
     "output_type": "execute_result"
    }
   ],
   "source": [
    "s = input()\n",
    "s"
   ]
  },
  {
   "cell_type": "markdown",
   "metadata": {},
   "source": [
    "We can use `string.split()` to split the string into the individual numbers, but the numbers are still strings (notice the `'`):"
   ]
  },
  {
   "cell_type": "code",
   "execution_count": 8,
   "metadata": {},
   "outputs": [
    {
     "data": {
      "text/plain": [
       "['1', '2', '3', '4', '5']"
      ]
     },
     "execution_count": 8,
     "metadata": {},
     "output_type": "execute_result"
    }
   ],
   "source": [
    "s = s.split()\n",
    "s"
   ]
  },
  {
   "cell_type": "markdown",
   "metadata": {},
   "source": [
    "A common and quick way to convert all strings in `s` to integers is to use list comprehension:"
   ]
  },
  {
   "cell_type": "code",
   "execution_count": 9,
   "metadata": {},
   "outputs": [
    {
     "data": {
      "text/plain": [
       "[1, 2, 3, 4, 5]"
      ]
     },
     "execution_count": 9,
     "metadata": {},
     "output_type": "execute_result"
    }
   ],
   "source": [
    "[int(x) for x in s]"
   ]
  },
  {
   "cell_type": "markdown",
   "metadata": {},
   "source": [
    "For each element `x` in `s` we call `int()` to convert it into an integer.\n",
    "\n",
    "This is equivalent to:"
   ]
  },
  {
   "cell_type": "code",
   "execution_count": 10,
   "metadata": {},
   "outputs": [
    {
     "data": {
      "text/plain": [
       "[1, 2, 3, 4, 5]"
      ]
     },
     "execution_count": 10,
     "metadata": {},
     "output_type": "execute_result"
    }
   ],
   "source": [
    "output = []\n",
    "for x in s:\n",
    "    output.append(int(x))\n",
    "output"
   ]
  },
  {
   "cell_type": "markdown",
   "metadata": {},
   "source": [
    "## [`map()`](https://docs.python.org/3.8/library/functions.html#map) Function\n",
    "\n",
    "List comprehension is very convenient if we want to transform data. Another common shorthand for that is the `map()` function. Let's have a look at its doc:\n",
    "\n",
    "> `map(function, iterable, ...)`\n",
    "> \n",
    "> Return an iterator that applies `function` to every item of `iterable`, yielding the results. If additional iterable arguments are passed, function must take that many arguments and is applied to the items from all iterables in parallel. With multiple iterables, the iterator stops when the shortest iterable is exhausted.\n",
    "\n",
    "In other words, `map()` applies a function to each element of an iterable, and returns an iterable with the results.\n",
    "\n",
    "Let's use the same input as above:"
   ]
  },
  {
   "cell_type": "code",
   "execution_count": 11,
   "metadata": {},
   "outputs": [
    {
     "name": "stdout",
     "output_type": "stream",
     "text": [
      "1 2 3 4 5\n",
      "original string from input: 1 2 3 4 5\n",
      "split string into string list: ['1', '2', '3', '4', '5']\n",
      "convert all string elements to integers: [1, 2, 3, 4, 5]\n"
     ]
    }
   ],
   "source": [
    "a = input()\n",
    "print(f'original string from input: {a}')\n",
    "\n",
    "a = a.split()\n",
    "print(f'split string into string list: {a}')\n",
    "\n",
    "a = list(map(int, a))\n",
    "print(f'convert all string elements to integers: {a}')"
   ]
  },
  {
   "cell_type": "markdown",
   "metadata": {},
   "source": [
    "Here the function we apply is the `int()` function, which we learned about earlier. Note how we're only referencing the function's name without the brackets or any arguments. **This is how we reference functions themselves.** This is a form of *functional programming*.\n",
    "\n",
    "Note that `map()` returns an iterable (like `zip()`). If we want to have it return a list, we need to wrap it in `list(map(...))`."
   ]
  },
  {
   "cell_type": "markdown",
   "metadata": {},
   "source": [
    "## Set Comprehension\n",
    "\n",
    "Set comprehension works just like list comprehension, but we swap the round brackets for curly brackets:"
   ]
  },
  {
   "cell_type": "code",
   "execution_count": 12,
   "metadata": {},
   "outputs": [
    {
     "name": "stdout",
     "output_type": "stream",
     "text": [
      "[1, 2, 3]\n",
      "{1, 4, 9}\n"
     ]
    }
   ],
   "source": [
    "a = [1, 2, 3]\n",
    "print(a)\n",
    "\n",
    "b = {x**2 for x in a}\n",
    "print(b)"
   ]
  },
  {
   "cell_type": "markdown",
   "metadata": {},
   "source": [
    "Here, set comprehension replaces set's `add()` method:"
   ]
  },
  {
   "cell_type": "code",
   "execution_count": 13,
   "metadata": {},
   "outputs": [
    {
     "data": {
      "text/plain": [
       "{1, 4, 9}"
      ]
     },
     "execution_count": 13,
     "metadata": {},
     "output_type": "execute_result"
    }
   ],
   "source": [
    "output = set()\n",
    "for x in a:\n",
    "    output.add(x**2)\n",
    "output"
   ]
  },
  {
   "cell_type": "markdown",
   "metadata": {},
   "source": [
    "## Dict Comprehension\n",
    "\n",
    "Same for dictionaries, but now we need to add keys and values:"
   ]
  },
  {
   "cell_type": "code",
   "execution_count": 14,
   "metadata": {},
   "outputs": [
    {
     "name": "stdout",
     "output_type": "stream",
     "text": [
      "[1, 2, 3]\n",
      "{1: 1, 2: 4, 3: 9}\n"
     ]
    }
   ],
   "source": [
    "a = [1, 2, 3]\n",
    "print(a)\n",
    "\n",
    "b = {x: x**2 for x in a}\n",
    "print(b)"
   ]
  },
  {
   "cell_type": "code",
   "execution_count": 15,
   "metadata": {},
   "outputs": [
    {
     "data": {
      "text/plain": [
       "{1: 1, 2: 4, 3: 9}"
      ]
     },
     "execution_count": 15,
     "metadata": {},
     "output_type": "execute_result"
    }
   ],
   "source": [
    "output = {}\n",
    "for x in a:\n",
    "    output[x] = x**2\n",
    "output"
   ]
  },
  {
   "cell_type": "markdown",
   "metadata": {
    "deletable": false,
    "editable": false
   },
   "source": [
    "© 2023 Philipp Cornelius"
   ]
  }
 ],
 "metadata": {
  "kernelspec": {
   "display_name": "Python 3 (ipykernel)",
   "language": "python",
   "name": "python3"
  },
  "language_info": {
   "codemirror_mode": {
    "name": "ipython",
    "version": 3
   },
   "file_extension": ".py",
   "mimetype": "text/x-python",
   "name": "python",
   "nbconvert_exporter": "python",
   "pygments_lexer": "ipython3",
   "version": "3.9.13"
  }
 },
 "nbformat": 4,
 "nbformat_minor": 4
}
