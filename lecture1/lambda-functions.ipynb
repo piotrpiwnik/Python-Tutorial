{
 "cells": [
  {
   "cell_type": "markdown",
   "metadata": {},
   "source": [
    "# Lecture 2: Functions 2"
   ]
  },
  {
   "cell_type": "markdown",
   "metadata": {},
   "source": [
    "## Lambda Functions\n",
    "\n",
    "It is often useful to define a function to do a certain task. However, we do not want to clutter our code with dozens of function definitions. For that purpose, there are **lambda functions**. They are also called *anonymous functions* because they do not have a name.\n",
    "\n",
    "A very common example is sorting of more complex collections. Consider the following list of students and grades:"
   ]
  },
  {
   "cell_type": "code",
   "execution_count": 1,
   "metadata": {},
   "outputs": [
    {
     "data": {
      "text/plain": [
       "[('John Smith', 5.6),\n",
       " ('Angela Merkel', 10),\n",
       " ('George Bush jr.', 0),\n",
       " ('Steven Brown', 8),\n",
       " ('Michael Miller', 7.3)]"
      ]
     },
     "execution_count": 1,
     "metadata": {},
     "output_type": "execute_result"
    }
   ],
   "source": [
    "students = [('John Smith', 5.6),\n",
    "            ('Angela Merkel', 10),\n",
    "            ('George Bush jr.', 0),\n",
    "            ('Steven Brown', 8),\n",
    "            ('Michael Miller', 7.3)]\n",
    "students"
   ]
  },
  {
   "cell_type": "markdown",
   "metadata": {},
   "source": [
    "How can we sort this list by grade?"
   ]
  },
  {
   "cell_type": "code",
   "execution_count": 2,
   "metadata": {},
   "outputs": [
    {
     "data": {
      "text/plain": [
       "[('Angela Merkel', 10),\n",
       " ('George Bush jr.', 0),\n",
       " ('John Smith', 5.6),\n",
       " ('Michael Miller', 7.3),\n",
       " ('Steven Brown', 8)]"
      ]
     },
     "execution_count": 2,
     "metadata": {},
     "output_type": "execute_result"
    }
   ],
   "source": [
    "sorted(students)"
   ]
  },
  {
   "cell_type": "markdown",
   "metadata": {},
   "source": [
    "This doesn't work: it appears to be sorted lexicographically by the students' first names.\n",
    "\n",
    "In such cases, it's often a good idea to have a look at the function's [documentation](https://docs.python.org/3.8/library/functions.html#sorted):\n",
    "> `sorted(iterable, *, key=None, reverse=False)`\n",
    "> \n",
    "> Return a new sorted list from the items in iterable.\n",
    "> \n",
    "> Has two optional arguments which must be specified as keyword arguments.\n",
    "> \n",
    "> `key` specifies a **function** of one argument that is used to extract a comparison key from each element in iterable (for example, `key=str.lower`). The default value is `None` (compare the elements directly).\n",
    "> \n",
    "> `reverse` is a boolean value. If set to True, then the list elements are sorted as if each comparison were reversed.\n",
    "\n",
    "`key` appears to be what we're looking for. So, we need a function that extracts the second element in each tuple (the grade). We can use a lambda function for that:"
   ]
  },
  {
   "cell_type": "code",
   "execution_count": 3,
   "metadata": {},
   "outputs": [
    {
     "data": {
      "text/plain": [
       "[('George Bush jr.', 0),\n",
       " ('John Smith', 5.6),\n",
       " ('Michael Miller', 7.3),\n",
       " ('Steven Brown', 8),\n",
       " ('Angela Merkel', 10)]"
      ]
     },
     "execution_count": 3,
     "metadata": {},
     "output_type": "execute_result"
    }
   ],
   "source": [
    "sorted(students, key=lambda x: x[1])"
   ]
  },
  {
   "cell_type": "markdown",
   "metadata": {},
   "source": [
    "We all knew it: George W. Bush jr. was never the smartest of the bunch. But how did our lambda function work?\n",
    "* It takes one argument, `x`\n",
    "* And returns the second element in each `x`: `x[1]` (remember, we count from 0)\n",
    "\n",
    "**When we supply the lambda function to `sorted()`'s `key` argument together with our list of `students`, then the lambda function is applied to each element in `students`, and its return value is used to sort the list.**\n",
    "\n",
    "For example:\n",
    "```\n",
    "x       ->    ('John Smith', 5.6)\n",
    "x[1]    ->    5.6\n",
    "```\n",
    "\n",
    "The lambda function is equivalent to this fully specified function:"
   ]
  },
  {
   "cell_type": "code",
   "execution_count": 4,
   "metadata": {},
   "outputs": [
    {
     "data": {
      "text/plain": [
       "[('George Bush jr.', 0),\n",
       " ('John Smith', 5.6),\n",
       " ('Michael Miller', 7.3),\n",
       " ('Steven Brown', 8),\n",
       " ('Angela Merkel', 10)]"
      ]
     },
     "execution_count": 4,
     "metadata": {},
     "output_type": "execute_result"
    }
   ],
   "source": [
    "def get_grade(x):\n",
    "    return x[1]\n",
    "\n",
    "sorted(students, key=get_grade)"
   ]
  },
  {
   "cell_type": "markdown",
   "metadata": {},
   "source": [
    "You can see the similarities: `x` is the only argument and `x[1]` is the return value. To make this function into a lambda function, we only need to swap `def` for `lambda` and remove the function's name, brackets, and `return` keyword.\n",
    "\n",
    "How would we sort all students by their last names?"
   ]
  },
  {
   "cell_type": "code",
   "execution_count": 5,
   "metadata": {},
   "outputs": [
    {
     "data": {
      "text/plain": [
       "[('Steven Brown', 8),\n",
       " ('George Bush jr.', 0),\n",
       " ('Angela Merkel', 10),\n",
       " ('Michael Miller', 7.3),\n",
       " ('John Smith', 5.6)]"
      ]
     },
     "execution_count": 5,
     "metadata": {},
     "output_type": "execute_result"
    }
   ],
   "source": [
    "sorted(students, key=lambda x: x[0].split()[1])"
   ]
  },
  {
   "cell_type": "markdown",
   "metadata": {},
   "source": [
    "## Filter + Lambda\n",
    "\n",
    "Another built-in function that's very important is the [`filter()`](https://docs.python.org/3.8/library/functions.html#filter) function:\n",
    "> `filter(function, iterable)`\n",
    "> \n",
    "> Construct an iterator from those elements of iterable for which function returns true. iterable may be either a sequence, a container which supports iteration, or an iterator. If function is None, the identity function is assumed, that is, all elements of iterable that are false are removed.\n",
    "\n",
    "It, too, is often used with lambdas. Let's filter for all students who didn't fail (>=5.5):"
   ]
  },
  {
   "cell_type": "code",
   "execution_count": 6,
   "metadata": {},
   "outputs": [
    {
     "data": {
      "text/plain": [
       "[('John Smith', 5.6),\n",
       " ('Angela Merkel', 10),\n",
       " ('Steven Brown', 8),\n",
       " ('Michael Miller', 7.3)]"
      ]
     },
     "execution_count": 6,
     "metadata": {},
     "output_type": "execute_result"
    }
   ],
   "source": [
    "list(filter(lambda x: x[1]>=5.5, students))"
   ]
  },
  {
   "cell_type": "markdown",
   "metadata": {},
   "source": [
    "Note that `filter()` returns an iterable. If we want to have it return a list, we need to wrap it in `list(filter(...))`.\n",
    "\n",
    "Be careful: the argument order in `filter()` is the reverse of the argument order in `sorted()`, i.e. the function first and the iterable second."
   ]
  },
  {
   "cell_type": "markdown",
   "metadata": {
    "deletable": false,
    "editable": false
   },
   "source": [
    "© 2023 Philipp Cornelius"
   ]
  }
 ],
 "metadata": {
  "kernelspec": {
   "display_name": "Python 3 (ipykernel)",
   "language": "python",
   "name": "python3"
  },
  "language_info": {
   "codemirror_mode": {
    "name": "ipython",
    "version": 3
   },
   "file_extension": ".py",
   "mimetype": "text/x-python",
   "name": "python",
   "nbconvert_exporter": "python",
   "pygments_lexer": "ipython3",
   "version": "3.9.13"
  }
 },
 "nbformat": 4,
 "nbformat_minor": 4
}
